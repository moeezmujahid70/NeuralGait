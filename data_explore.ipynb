{
 "cells": [
  {
   "cell_type": "code",
   "execution_count": 1,
   "id": "ab895ac5",
   "metadata": {},
   "outputs": [
    {
     "name": "stdout",
     "output_type": "stream",
     "text": [
      "dict_keys(['__header__', '__version__', '__globals__', 'ankle_data'])\n"
     ]
    }
   ],
   "source": [
    "import scipy.io\n",
    "data = scipy.io.loadmat('Data_ankle.mat')\n",
    "# Print the keys to understand the structure\n",
    "print(data.keys())"
   ]
  },
  {
   "cell_type": "code",
   "execution_count": 16,
   "id": "33657490",
   "metadata": {},
   "outputs": [
    {
     "name": "stdout",
     "output_type": "stream",
     "text": [
      "[[ 0.00000000e+00 -1.03213808e+01 -9.42861914e-02 ...  8.25063296e-01\n",
      "  -1.49258824e+00 -2.01162801e+00]\n",
      " [ 1.00000000e-02 -7.99031164e+00 -9.61738741e-02 ...  8.22468551e-01\n",
      "  -1.49319212e+00 -3.65520937e+00]\n",
      " [ 2.00000000e-02 -6.20873764e+00 -9.64488565e-02 ...  8.10996502e-01\n",
      "  -1.49586655e+00 -5.78643292e+00]\n",
      " ...\n",
      " [ 4.79970000e+02  5.56958911e+02 -1.12156787e-02 ...  2.25437228e-01\n",
      "  -1.68091209e+00  4.26107807e+01]\n",
      " [ 4.79980000e+02  5.64941734e+02 -5.72538797e-03 ...  2.15807917e-01\n",
      "  -1.68371085e+00  4.40519172e+01]\n",
      " [ 4.79990000e+02  5.74057993e+02 -4.47411580e-03 ...  2.08124660e-01\n",
      "  -1.68575417e+00  4.51366601e+01]]\n",
      "(48000, 7)\n"
     ]
    }
   ],
   "source": [
    "print(data['ankle_data'])\n",
    "ankle_data= data['ankle_data']\n",
    "print(ankle_data.shape)"
   ]
  },
  {
   "cell_type": "code",
   "execution_count": 15,
   "id": "7d3d5c91",
   "metadata": {},
   "outputs": [],
   "source": [
    "import pandas as pd"
   ]
  },
  {
   "cell_type": "code",
   "execution_count": 21,
   "id": "cca5cd7d",
   "metadata": {},
   "outputs": [
    {
     "name": "stdout",
     "output_type": "stream",
     "text": [
      "time            0\n",
      "vgrf            0\n",
      "trunk_angle     0\n",
      "hip_angle       0\n",
      "knee_angle      0\n",
      "ankle_angle     0\n",
      "joint_moment    0\n",
      "dtype: int64\n"
     ]
    },
    {
     "data": {
      "text/plain": [
       "(   time       vgrf  trunk_angle  hip_angle  knee_angle  ankle_angle  \\\n",
       " 0  0.00 -10.321381    -0.094286   0.292974    0.825063    -1.492588   \n",
       " 1  0.01  -7.990312    -0.096174   0.293179    0.822469    -1.493192   \n",
       " 2  0.02  -6.208738    -0.096449   0.294008    0.810997    -1.495867   \n",
       " 3  0.03  -5.126637    -0.097196   0.295568    0.785731    -1.501793   \n",
       " 4  0.04  -4.774037    -0.095624   0.297472    0.745707    -1.511208   \n",
       " \n",
       "    joint_moment  \n",
       " 0     -2.011628  \n",
       " 1     -3.655209  \n",
       " 2     -5.786433  \n",
       " 3     -6.190008  \n",
       " 4     -5.542868  ,)"
      ]
     },
     "execution_count": 21,
     "metadata": {},
     "output_type": "execute_result"
    }
   ],
   "source": [
    "\n",
    "# Define column names\n",
    "column_names = [\n",
    "    'time', \n",
    "    'vgrf',  # vertical ground reaction force\n",
    "    'trunk_angle', \n",
    "    'hip_angle', \n",
    "    'knee_angle', \n",
    "    'ankle_angle', \n",
    "    'joint_moment'\n",
    "]\n",
    "df = pd.DataFrame(ankle_data, columns=column_names )\n",
    "missing_values = df.isnull().sum()\n",
    "print(missing_values)\n",
    "df.head(), \n"
   ]
  },
  {
   "cell_type": "code",
   "execution_count": 25,
   "id": "64a86176",
   "metadata": {},
   "outputs": [
    {
     "name": "stdout",
     "output_type": "stream",
     "text": [
      "       time      vgrf  trunk_angle  hip_angle  knee_angle  ankle_angle\n",
      "0  0.000000  0.020208     0.246712   0.890431    0.677080     0.510548\n",
      "1  0.000021  0.022764     0.238134   0.890774    0.674900     0.509714\n",
      "2  0.000042  0.024718     0.236884   0.892159    0.665259     0.506018\n",
      "3  0.000063  0.025904     0.233489   0.894766    0.644027     0.497827\n",
      "4  0.000083  0.026291     0.240635   0.897949    0.610393     0.484816\n"
     ]
    }
   ],
   "source": [
    "from sklearn.preprocessing import MinMaxScaler\n",
    "\n",
    "# Features and targets\n",
    "features = df.drop(columns=['joint_moment'])\n",
    "targets = df['joint_moment']\n",
    "# Normalize features\n",
    "scaler = MinMaxScaler()\n",
    "normalized_features = scaler.fit_transform(features)\n",
    "# Convert back to DataFrame for easier handling\n",
    "normalized_features_df = pd.DataFrame(normalized_features, columns=features.columns)\n",
    "# Display the normalized features to verify\n",
    "print(normalized_features_df.head())"
   ]
  },
  {
   "cell_type": "code",
   "execution_count": 44,
   "id": "9b1cdc1b",
   "metadata": {},
   "outputs": [],
   "source": [
    "train_size = int(0.8 * len(normalized_features))\n",
    "train_features = normalized_features[:train_size]\n",
    "test_features = normalized_features[train_size:]\n",
    "train_targets = targets[:train_size]\n",
    "test_targets = targets[train_size:]"
   ]
  }
 ],
 "metadata": {
  "kernelspec": {
   "display_name": "Python 3 (ipykernel)",
   "language": "python",
   "name": "python3"
  },
  "language_info": {
   "codemirror_mode": {
    "name": "ipython",
    "version": 3
   },
   "file_extension": ".py",
   "mimetype": "text/x-python",
   "name": "python",
   "nbconvert_exporter": "python",
   "pygments_lexer": "ipython3",
   "version": "3.9.16"
  }
 },
 "nbformat": 4,
 "nbformat_minor": 5
}
