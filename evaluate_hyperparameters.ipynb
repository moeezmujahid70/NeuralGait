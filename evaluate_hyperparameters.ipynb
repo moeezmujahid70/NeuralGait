{
  "cells": [
    {
      "cell_type": "code",
      "execution_count": null,
      "metadata": {
        "colab": {
          "base_uri": "https://localhost:8080/"
        },
        "id": "HtKiK9LGEuoz",
        "outputId": "f19cd936-5b82-4667-d3ed-0c86fbdf9ea5"
      },
      "outputs": [
        {
          "name": "stdout",
          "output_type": "stream",
          "text": [
            "(48000, 7)\n"
          ]
        }
      ],
      "source": [
        "import scipy.io\n",
        "data = scipy.io.loadmat('Data_ankle.mat')\n",
        "ankle_data= data['ankle_data']\n",
        "print(ankle_data.shape)"
      ]
    },
    {
      "cell_type": "markdown",
      "metadata": {
        "id": "nrNmQbYtEz2J"
      },
      "source": [
        "# New Section"
      ]
    },
    {
      "cell_type": "code",
      "execution_count": null,
      "metadata": {
        "id": "foY8gI_qEuo0"
      },
      "outputs": [],
      "source": [
        "import pandas as pd\n",
        "# Define column names\n",
        "column_names = [\n",
        "    'time',\n",
        "    'vgrf',  # vertical ground reaction force\n",
        "    'trunk_angle',\n",
        "    'hip_angle',\n",
        "    'knee_angle',\n",
        "    'ankle_angle',\n",
        "    'joint_moment'\n",
        "]\n"
      ]
    },
    {
      "cell_type": "code",
      "execution_count": null,
      "metadata": {
        "colab": {
          "base_uri": "https://localhost:8080/",
          "height": 206
        },
        "id": "R95DHlr5Euo0",
        "outputId": "7c84ce16-19d4-42ba-d86e-3922ef0e5d96"
      },
      "outputs": [
        {
          "data": {
            "application/vnd.google.colaboratory.intrinsic+json": {
              "summary": "{\n  \"name\": \"df\",\n  \"rows\": 48000,\n  \"fields\": [\n    {\n      \"column\": \"time\",\n      \"properties\": {\n        \"dtype\": \"number\",\n        \"std\": 138.56550797366566,\n        \"min\": 0.0,\n        \"max\": 479.9899999999998,\n        \"num_unique_values\": 48000,\n        \"samples\": [\n          327.71000000000004,\n          395.1199999999999,\n          435.80999999999995\n        ],\n        \"semantic_type\": \"\",\n        \"description\": \"\"\n      }\n    },\n    {\n      \"column\": \"vgrf\",\n      \"properties\": {\n        \"dtype\": \"number\",\n        \"std\": 313.90939610066766,\n        \"min\": -28.749561668901773,\n        \"max\": 883.1759458987831,\n        \"num_unique_values\": 48000,\n        \"samples\": [\n          569.370935741466,\n          230.2562349531717,\n          570.30850864126\n        ],\n        \"semantic_type\": \"\",\n        \"description\": \"\"\n      }\n    },\n    {\n      \"column\": \"trunk_angle\",\n      \"properties\": {\n        \"dtype\": \"number\",\n        \"std\": 0.04222019632556066,\n        \"min\": -0.14857965306647508,\n        \"max\": 0.07148884108798755,\n        \"num_unique_values\": 47999,\n        \"samples\": [\n          -0.09290074180521421,\n          -0.008480258065861453,\n          -0.020107794853384004\n        ],\n        \"semantic_type\": \"\",\n        \"description\": \"\"\n      }\n    },\n    {\n      \"column\": \"hip_angle\",\n      \"properties\": {\n        \"dtype\": \"number\",\n        \"std\": 0.17625792516627084,\n        \"min\": -0.2397752379309086,\n        \"max\": 0.35852948086439373,\n        \"num_unique_values\": 48000,\n        \"samples\": [\n          0.06095369137537232,\n          -0.16904409474455573,\n          0.03535694875047679\n        ],\n        \"semantic_type\": \"\",\n        \"description\": \"\"\n      }\n    },\n    {\n      \"column\": \"knee_angle\",\n      \"properties\": {\n        \"dtype\": \"number\",\n        \"std\": 0.3251616920847025,\n        \"min\": 0.019355478865084264,\n        \"max\": 1.2093292614302842,\n        \"num_unique_values\": 48000,\n        \"samples\": [\n          0.26912170886201126,\n          0.6066897090275154,\n          0.19143820057099026\n        ],\n        \"semantic_type\": \"\",\n        \"description\": \"\"\n      }\n    },\n    {\n      \"column\": \"ankle_angle\",\n      \"properties\": {\n        \"dtype\": \"number\",\n        \"std\": 0.1511046794481446,\n        \"min\": -1.8620106628217683,\n        \"max\": -1.138430864338299,\n        \"num_unique_values\": 48000,\n        \"samples\": [\n          -1.6558438270106741,\n          -1.5105502324168363,\n          -1.6152284112606283\n        ],\n        \"semantic_type\": \"\",\n        \"description\": \"\"\n      }\n    },\n    {\n      \"column\": \"joint_moment\",\n      \"properties\": {\n        \"dtype\": \"number\",\n        \"std\": 36.93972488471605,\n        \"min\": -15.414846882021124,\n        \"max\": 125.76281470603035,\n        \"num_unique_values\": 48000,\n        \"samples\": [\n          37.610232379360795,\n          36.4632815954024,\n          36.669463281147564\n        ],\n        \"semantic_type\": \"\",\n        \"description\": \"\"\n      }\n    }\n  ]\n}",
              "type": "dataframe",
              "variable_name": "df"
            },
            "text/html": [
              "\n",
              "  <div id=\"df-8e609354-a521-4e9d-b4cb-4c165b287c56\" class=\"colab-df-container\">\n",
              "    <div>\n",
              "<style scoped>\n",
              "    .dataframe tbody tr th:only-of-type {\n",
              "        vertical-align: middle;\n",
              "    }\n",
              "\n",
              "    .dataframe tbody tr th {\n",
              "        vertical-align: top;\n",
              "    }\n",
              "\n",
              "    .dataframe thead th {\n",
              "        text-align: right;\n",
              "    }\n",
              "</style>\n",
              "<table border=\"1\" class=\"dataframe\">\n",
              "  <thead>\n",
              "    <tr style=\"text-align: right;\">\n",
              "      <th></th>\n",
              "      <th>time</th>\n",
              "      <th>vgrf</th>\n",
              "      <th>trunk_angle</th>\n",
              "      <th>hip_angle</th>\n",
              "      <th>knee_angle</th>\n",
              "      <th>ankle_angle</th>\n",
              "      <th>joint_moment</th>\n",
              "    </tr>\n",
              "  </thead>\n",
              "  <tbody>\n",
              "    <tr>\n",
              "      <th>0</th>\n",
              "      <td>0.00</td>\n",
              "      <td>-10.321381</td>\n",
              "      <td>-0.094286</td>\n",
              "      <td>0.292974</td>\n",
              "      <td>0.825063</td>\n",
              "      <td>-1.492588</td>\n",
              "      <td>-2.011628</td>\n",
              "    </tr>\n",
              "    <tr>\n",
              "      <th>1</th>\n",
              "      <td>0.01</td>\n",
              "      <td>-7.990312</td>\n",
              "      <td>-0.096174</td>\n",
              "      <td>0.293179</td>\n",
              "      <td>0.822469</td>\n",
              "      <td>-1.493192</td>\n",
              "      <td>-3.655209</td>\n",
              "    </tr>\n",
              "    <tr>\n",
              "      <th>2</th>\n",
              "      <td>0.02</td>\n",
              "      <td>-6.208738</td>\n",
              "      <td>-0.096449</td>\n",
              "      <td>0.294008</td>\n",
              "      <td>0.810997</td>\n",
              "      <td>-1.495867</td>\n",
              "      <td>-5.786433</td>\n",
              "    </tr>\n",
              "    <tr>\n",
              "      <th>3</th>\n",
              "      <td>0.03</td>\n",
              "      <td>-5.126637</td>\n",
              "      <td>-0.097196</td>\n",
              "      <td>0.295568</td>\n",
              "      <td>0.785731</td>\n",
              "      <td>-1.501793</td>\n",
              "      <td>-6.190008</td>\n",
              "    </tr>\n",
              "    <tr>\n",
              "      <th>4</th>\n",
              "      <td>0.04</td>\n",
              "      <td>-4.774037</td>\n",
              "      <td>-0.095624</td>\n",
              "      <td>0.297472</td>\n",
              "      <td>0.745707</td>\n",
              "      <td>-1.511208</td>\n",
              "      <td>-5.542868</td>\n",
              "    </tr>\n",
              "  </tbody>\n",
              "</table>\n",
              "</div>\n",
              "    <div class=\"colab-df-buttons\">\n",
              "\n",
              "  <div class=\"colab-df-container\">\n",
              "    <button class=\"colab-df-convert\" onclick=\"convertToInteractive('df-8e609354-a521-4e9d-b4cb-4c165b287c56')\"\n",
              "            title=\"Convert this dataframe to an interactive table.\"\n",
              "            style=\"display:none;\">\n",
              "\n",
              "  <svg xmlns=\"http://www.w3.org/2000/svg\" height=\"24px\" viewBox=\"0 -960 960 960\">\n",
              "    <path d=\"M120-120v-720h720v720H120Zm60-500h600v-160H180v160Zm220 220h160v-160H400v160Zm0 220h160v-160H400v160ZM180-400h160v-160H180v160Zm440 0h160v-160H620v160ZM180-180h160v-160H180v160Zm440 0h160v-160H620v160Z\"/>\n",
              "  </svg>\n",
              "    </button>\n",
              "\n",
              "  <style>\n",
              "    .colab-df-container {\n",
              "      display:flex;\n",
              "      gap: 12px;\n",
              "    }\n",
              "\n",
              "    .colab-df-convert {\n",
              "      background-color: #E8F0FE;\n",
              "      border: none;\n",
              "      border-radius: 50%;\n",
              "      cursor: pointer;\n",
              "      display: none;\n",
              "      fill: #1967D2;\n",
              "      height: 32px;\n",
              "      padding: 0 0 0 0;\n",
              "      width: 32px;\n",
              "    }\n",
              "\n",
              "    .colab-df-convert:hover {\n",
              "      background-color: #E2EBFA;\n",
              "      box-shadow: 0px 1px 2px rgba(60, 64, 67, 0.3), 0px 1px 3px 1px rgba(60, 64, 67, 0.15);\n",
              "      fill: #174EA6;\n",
              "    }\n",
              "\n",
              "    .colab-df-buttons div {\n",
              "      margin-bottom: 4px;\n",
              "    }\n",
              "\n",
              "    [theme=dark] .colab-df-convert {\n",
              "      background-color: #3B4455;\n",
              "      fill: #D2E3FC;\n",
              "    }\n",
              "\n",
              "    [theme=dark] .colab-df-convert:hover {\n",
              "      background-color: #434B5C;\n",
              "      box-shadow: 0px 1px 3px 1px rgba(0, 0, 0, 0.15);\n",
              "      filter: drop-shadow(0px 1px 2px rgba(0, 0, 0, 0.3));\n",
              "      fill: #FFFFFF;\n",
              "    }\n",
              "  </style>\n",
              "\n",
              "    <script>\n",
              "      const buttonEl =\n",
              "        document.querySelector('#df-8e609354-a521-4e9d-b4cb-4c165b287c56 button.colab-df-convert');\n",
              "      buttonEl.style.display =\n",
              "        google.colab.kernel.accessAllowed ? 'block' : 'none';\n",
              "\n",
              "      async function convertToInteractive(key) {\n",
              "        const element = document.querySelector('#df-8e609354-a521-4e9d-b4cb-4c165b287c56');\n",
              "        const dataTable =\n",
              "          await google.colab.kernel.invokeFunction('convertToInteractive',\n",
              "                                                    [key], {});\n",
              "        if (!dataTable) return;\n",
              "\n",
              "        const docLinkHtml = 'Like what you see? Visit the ' +\n",
              "          '<a target=\"_blank\" href=https://colab.research.google.com/notebooks/data_table.ipynb>data table notebook</a>'\n",
              "          + ' to learn more about interactive tables.';\n",
              "        element.innerHTML = '';\n",
              "        dataTable['output_type'] = 'display_data';\n",
              "        await google.colab.output.renderOutput(dataTable, element);\n",
              "        const docLink = document.createElement('div');\n",
              "        docLink.innerHTML = docLinkHtml;\n",
              "        element.appendChild(docLink);\n",
              "      }\n",
              "    </script>\n",
              "  </div>\n",
              "\n",
              "\n",
              "<div id=\"df-a4dec3d0-dc1a-400c-88c5-d5eb92b7cd0f\">\n",
              "  <button class=\"colab-df-quickchart\" onclick=\"quickchart('df-a4dec3d0-dc1a-400c-88c5-d5eb92b7cd0f')\"\n",
              "            title=\"Suggest charts\"\n",
              "            style=\"display:none;\">\n",
              "\n",
              "<svg xmlns=\"http://www.w3.org/2000/svg\" height=\"24px\"viewBox=\"0 0 24 24\"\n",
              "     width=\"24px\">\n",
              "    <g>\n",
              "        <path d=\"M19 3H5c-1.1 0-2 .9-2 2v14c0 1.1.9 2 2 2h14c1.1 0 2-.9 2-2V5c0-1.1-.9-2-2-2zM9 17H7v-7h2v7zm4 0h-2V7h2v10zm4 0h-2v-4h2v4z\"/>\n",
              "    </g>\n",
              "</svg>\n",
              "  </button>\n",
              "\n",
              "<style>\n",
              "  .colab-df-quickchart {\n",
              "      --bg-color: #E8F0FE;\n",
              "      --fill-color: #1967D2;\n",
              "      --hover-bg-color: #E2EBFA;\n",
              "      --hover-fill-color: #174EA6;\n",
              "      --disabled-fill-color: #AAA;\n",
              "      --disabled-bg-color: #DDD;\n",
              "  }\n",
              "\n",
              "  [theme=dark] .colab-df-quickchart {\n",
              "      --bg-color: #3B4455;\n",
              "      --fill-color: #D2E3FC;\n",
              "      --hover-bg-color: #434B5C;\n",
              "      --hover-fill-color: #FFFFFF;\n",
              "      --disabled-bg-color: #3B4455;\n",
              "      --disabled-fill-color: #666;\n",
              "  }\n",
              "\n",
              "  .colab-df-quickchart {\n",
              "    background-color: var(--bg-color);\n",
              "    border: none;\n",
              "    border-radius: 50%;\n",
              "    cursor: pointer;\n",
              "    display: none;\n",
              "    fill: var(--fill-color);\n",
              "    height: 32px;\n",
              "    padding: 0;\n",
              "    width: 32px;\n",
              "  }\n",
              "\n",
              "  .colab-df-quickchart:hover {\n",
              "    background-color: var(--hover-bg-color);\n",
              "    box-shadow: 0 1px 2px rgba(60, 64, 67, 0.3), 0 1px 3px 1px rgba(60, 64, 67, 0.15);\n",
              "    fill: var(--button-hover-fill-color);\n",
              "  }\n",
              "\n",
              "  .colab-df-quickchart-complete:disabled,\n",
              "  .colab-df-quickchart-complete:disabled:hover {\n",
              "    background-color: var(--disabled-bg-color);\n",
              "    fill: var(--disabled-fill-color);\n",
              "    box-shadow: none;\n",
              "  }\n",
              "\n",
              "  .colab-df-spinner {\n",
              "    border: 2px solid var(--fill-color);\n",
              "    border-color: transparent;\n",
              "    border-bottom-color: var(--fill-color);\n",
              "    animation:\n",
              "      spin 1s steps(1) infinite;\n",
              "  }\n",
              "\n",
              "  @keyframes spin {\n",
              "    0% {\n",
              "      border-color: transparent;\n",
              "      border-bottom-color: var(--fill-color);\n",
              "      border-left-color: var(--fill-color);\n",
              "    }\n",
              "    20% {\n",
              "      border-color: transparent;\n",
              "      border-left-color: var(--fill-color);\n",
              "      border-top-color: var(--fill-color);\n",
              "    }\n",
              "    30% {\n",
              "      border-color: transparent;\n",
              "      border-left-color: var(--fill-color);\n",
              "      border-top-color: var(--fill-color);\n",
              "      border-right-color: var(--fill-color);\n",
              "    }\n",
              "    40% {\n",
              "      border-color: transparent;\n",
              "      border-right-color: var(--fill-color);\n",
              "      border-top-color: var(--fill-color);\n",
              "    }\n",
              "    60% {\n",
              "      border-color: transparent;\n",
              "      border-right-color: var(--fill-color);\n",
              "    }\n",
              "    80% {\n",
              "      border-color: transparent;\n",
              "      border-right-color: var(--fill-color);\n",
              "      border-bottom-color: var(--fill-color);\n",
              "    }\n",
              "    90% {\n",
              "      border-color: transparent;\n",
              "      border-bottom-color: var(--fill-color);\n",
              "    }\n",
              "  }\n",
              "</style>\n",
              "\n",
              "  <script>\n",
              "    async function quickchart(key) {\n",
              "      const quickchartButtonEl =\n",
              "        document.querySelector('#' + key + ' button');\n",
              "      quickchartButtonEl.disabled = true;  // To prevent multiple clicks.\n",
              "      quickchartButtonEl.classList.add('colab-df-spinner');\n",
              "      try {\n",
              "        const charts = await google.colab.kernel.invokeFunction(\n",
              "            'suggestCharts', [key], {});\n",
              "      } catch (error) {\n",
              "        console.error('Error during call to suggestCharts:', error);\n",
              "      }\n",
              "      quickchartButtonEl.classList.remove('colab-df-spinner');\n",
              "      quickchartButtonEl.classList.add('colab-df-quickchart-complete');\n",
              "    }\n",
              "    (() => {\n",
              "      let quickchartButtonEl =\n",
              "        document.querySelector('#df-a4dec3d0-dc1a-400c-88c5-d5eb92b7cd0f button');\n",
              "      quickchartButtonEl.style.display =\n",
              "        google.colab.kernel.accessAllowed ? 'block' : 'none';\n",
              "    })();\n",
              "  </script>\n",
              "</div>\n",
              "\n",
              "    </div>\n",
              "  </div>\n"
            ],
            "text/plain": [
              "   time       vgrf  trunk_angle  hip_angle  knee_angle  ankle_angle  \\\n",
              "0  0.00 -10.321381    -0.094286   0.292974    0.825063    -1.492588   \n",
              "1  0.01  -7.990312    -0.096174   0.293179    0.822469    -1.493192   \n",
              "2  0.02  -6.208738    -0.096449   0.294008    0.810997    -1.495867   \n",
              "3  0.03  -5.126637    -0.097196   0.295568    0.785731    -1.501793   \n",
              "4  0.04  -4.774037    -0.095624   0.297472    0.745707    -1.511208   \n",
              "\n",
              "   joint_moment  \n",
              "0     -2.011628  \n",
              "1     -3.655209  \n",
              "2     -5.786433  \n",
              "3     -6.190008  \n",
              "4     -5.542868  "
            ]
          },
          "execution_count": 6,
          "metadata": {},
          "output_type": "execute_result"
        }
      ],
      "source": [
        "df = pd.DataFrame(ankle_data, columns=column_names )\n",
        "df.head()"
      ]
    },
    {
      "cell_type": "code",
      "execution_count": null,
      "metadata": {
        "id": "fEN12OBQEuo1"
      },
      "outputs": [],
      "source": [
        "# Split the data into training and testing sets\n",
        "train_size = int(0.8 * len(df))\n",
        "train_data = df[:train_size]\n",
        "test_data = df[train_size:]"
      ]
    },
    {
      "cell_type": "code",
      "execution_count": null,
      "metadata": {
        "id": "zAXYlVTGEuo1"
      },
      "outputs": [],
      "source": [
        "# Separate the features and target variable\n",
        "X_train = train_data.drop(columns=['time', 'joint_moment'])\n",
        "Y_train = train_data['joint_moment'].values.reshape(-1, 1)  # Reshape for scaler\n",
        "X_test = test_data.drop(columns=['time', 'joint_moment'])\n",
        "Y_test = test_data['joint_moment'].values.reshape(-1, 1)  # Reshape for scaler"
      ]
    },
    {
      "cell_type": "code",
      "execution_count": null,
      "metadata": {
        "id": "QpIhuMcaEuo1"
      },
      "outputs": [],
      "source": [
        "from sklearn.preprocessing import StandardScaler\n",
        "# Apply scaling only to the training data\n",
        "scaler_X = StandardScaler()\n",
        "X_train_scaled = scaler_X.fit_transform(X_train)\n",
        "X_test_scaled = scaler_X.transform(X_test)  # Use the same scaler to transform the test data"
      ]
    },
    {
      "cell_type": "code",
      "execution_count": null,
      "metadata": {
        "colab": {
          "base_uri": "https://localhost:8080/"
        },
        "id": "3ymQSbI1Euo1",
        "outputId": "5bd76490-ba43-4cd5-bc4d-28501b6ce5aa"
      },
      "outputs": [
        {
          "name": "stdout",
          "output_type": "stream",
          "text": [
            "[[-0.98351688]\n",
            " [-0.98411872]\n",
            " [-0.96365408]\n",
            " ...\n",
            " [ 0.30780874]\n",
            " [ 0.34680355]\n",
            " [ 0.37615492]]\n"
          ]
        }
      ],
      "source": [
        "# Apply scaling to the target variable\n",
        "scaler_Y = StandardScaler()\n",
        "Y_train_scaled = scaler_Y.fit_transform(Y_train)  # Fit and transform the training target variable\n",
        "Y_test_scaled = scaler_Y.transform(Y_test)  # Transform the test target variable using the same scaler\n",
        "\n",
        "print(Y_test_scaled)"
      ]
    },
    {
      "cell_type": "code",
      "execution_count": null,
      "metadata": {
        "id": "WCa5gGmAEuo1"
      },
      "outputs": [],
      "source": [
        "# Convert scaled data back to DataFrame\n",
        "normalized_train_df = pd.DataFrame(X_train_scaled, columns=X_train.columns)\n",
        "normalized_train_df['time'] = train_data['time'].reset_index(drop=True)\n",
        "normalized_train_df['joint_moment'] = Y_train_scaled.flatten()  # Flatten to 1D\n",
        "\n",
        "normalized_test_df = pd.DataFrame(X_test_scaled, columns=X_test.columns)\n",
        "normalized_test_df['time'] = test_data['time'].reset_index(drop=True)\n",
        "normalized_test_df['joint_moment'] = Y_test_scaled.flatten()  # Flatten to 1D"
      ]
    },
    {
      "cell_type": "code",
      "execution_count": null,
      "metadata": {
        "colab": {
          "base_uri": "https://localhost:8080/"
        },
        "id": "_Tyzs_rvEuo1",
        "outputId": "73f1993a-f018-4212-8eaa-3633d3f3aa3e"
      },
      "outputs": [
        {
          "name": "stdout",
          "output_type": "stream",
          "text": [
            "   time       vgrf  trunk_angle  hip_angle  knee_angle  ankle_angle  \\\n",
            "0  0.00 -10.321381    -0.094286   0.292974    0.825063    -1.492588   \n",
            "1  0.01  -7.990312    -0.096174   0.293179    0.822469    -1.493192   \n",
            "2  0.02  -6.208738    -0.096449   0.294008    0.810997    -1.495867   \n",
            "3  0.03  -5.126637    -0.097196   0.295568    0.785731    -1.501793   \n",
            "4  0.04  -4.774037    -0.095624   0.297472    0.745707    -1.511208   \n",
            "\n",
            "   joint_moment  \n",
            "0     -2.011628  \n",
            "1     -3.655209  \n",
            "2     -5.786433  \n",
            "3     -6.190008  \n",
            "4     -5.542868  \n",
            "         time       vgrf  trunk_angle  hip_angle  knee_angle  ankle_angle  \\\n",
            "38400  384.00 -11.512108    -0.032512   0.007387    0.973938    -1.273562   \n",
            "38401  384.01 -15.839764    -0.035124   0.037376    1.022451    -1.272575   \n",
            "38402  384.02 -16.915961    -0.038637   0.066333    1.062992    -1.280968   \n",
            "38403  384.03 -15.981315    -0.044385   0.093862    1.094613    -1.295619   \n",
            "38404  384.04 -13.927180    -0.048895   0.119811    1.116854    -1.313351   \n",
            "\n",
            "       joint_moment  \n",
            "38400     -5.112922  \n",
            "38401     -5.135164  \n",
            "38402     -4.378849  \n",
            "38403     -3.180236  \n",
            "38404     -1.864921  \n",
            "0   -0.983517\n",
            "1   -0.984119\n",
            "2   -0.963654\n",
            "3   -0.931222\n",
            "4   -0.895631\n",
            "Name: joint_moment, dtype: float64\n"
          ]
        }
      ],
      "source": [
        "# Print the normalized data\n",
        "print(train_data.head())\n",
        "print(test_data.head())\n",
        "\n",
        "# If you need to access the target variable from the test data separately\n",
        "target_Ytest_normalized = normalized_test_df['joint_moment']\n",
        "print(target_Ytest_normalized.head())"
      ]
    },
    {
      "cell_type": "code",
      "execution_count": null,
      "metadata": {
        "id": "LDx7ef3zEuo1"
      },
      "outputs": [],
      "source": [
        "def extract_data_for_combination(columns):\n",
        "    X_train = normalized_train_df[columns].values\n",
        "    y_train = normalized_train_df['joint_moment'].values\n",
        "    X_test = normalized_test_df[columns].values\n",
        "    y_test = normalized_test_df['joint_moment'].values\n",
        "\n",
        "    # Reshape for RNN\n",
        "    X_train_rnn = X_train.reshape(X_train.shape[0], 1, X_train.shape[1])\n",
        "    X_test_rnn = X_test.reshape(X_test.shape[0], 1, X_test.shape[1])\n",
        "\n",
        "    # Reshape for CNN\n",
        "    X_train_cnn = X_train.reshape((X_train.shape[0], X_train.shape[1], 1))\n",
        "    X_test_cnn = X_test.reshape((X_test.shape[0], X_test.shape[1], 1))\n",
        "\n",
        "    return X_train_rnn, y_train, X_test_rnn, y_test, X_train_cnn, X_test_cnn\n"
      ]
    },
    {
      "cell_type": "code",
      "execution_count": null,
      "metadata": {
        "id": "ODApzZi9Euo2"
      },
      "outputs": [],
      "source": [
        "from keras.models import Sequential\n",
        "from keras.layers import  Dense, Dropout , LSTM ,  BatchNormalization\n",
        "\n",
        "# RNN Model creation function\n",
        "def create_rnn_model(input_shape, units, dropout_rate):\n",
        "    model = Sequential()\n",
        "\n",
        "    # First LSTM layer\n",
        "    model.add(LSTM(units, activation='relu', return_sequences=True, input_shape=input_shape))\n",
        "    model.add(Dropout(dropout_rate))\n",
        "\n",
        "    # Second LSTM layer\n",
        "    model.add(LSTM(units, activation='relu'))\n",
        "    model.add(Dropout(dropout_rate))\n",
        "\n",
        "    # Batch Normalization\n",
        "    model.add(BatchNormalization())\n",
        "\n",
        "    # Dense layer\n",
        "    model.add(Dense(1))\n",
        "    model.compile(optimizer='adam', loss='mse')\n",
        "    return model"
      ]
    },
    {
      "cell_type": "code",
      "execution_count": null,
      "metadata": {
        "id": "shbHoLvdEuo2"
      },
      "outputs": [],
      "source": [
        "from keras.models import Sequential\n",
        "from keras.layers import Conv1D, Dense, Flatten, Dropout, BatchNormalization\n",
        "\n",
        "# CNN Model creation function\n",
        "def create_cnn_model(input_shape, units, dropout_rate):\n",
        "    model = Sequential()\n",
        "\n",
        "    # First Conv1D layer with kernel size 1\n",
        "    model.add(Conv1D(filters=units, kernel_size=1, activation='relu', input_shape=input_shape))\n",
        "    model.add(Dropout(dropout_rate))\n",
        "\n",
        "    # Second Conv1D layer with kernel size 1\n",
        "    model.add(Conv1D(filters=units, kernel_size=1, activation='relu'))\n",
        "    model.add(Dropout(dropout_rate))\n",
        "\n",
        "    # Flatten layer\n",
        "    model.add(Flatten())\n",
        "\n",
        "    # Batch Normalization\n",
        "    model.add(BatchNormalization())\n",
        "\n",
        "    # Dense layer\n",
        "    model.add(Dense(50, activation='relu'))\n",
        "    model.add(Dense(1))\n",
        "\n",
        "    model.compile(optimizer='adam', loss='mse')\n",
        "    return model\n",
        "\n"
      ]
    },
    {
      "cell_type": "code",
      "execution_count": null,
      "metadata": {
        "id": "nIXMSWXgEuo2"
      },
      "outputs": [],
      "source": [
        "from sklearn.metrics import mean_squared_error\n",
        "import os\n",
        "\n",
        "def train_and_evaluate_rnn_model(input_comb, model_path):\n",
        "    X_train_rnn, y_train, X_test_rnn, y_test, _, _ = extract_data_for_combination(input_comb)\n",
        "    rnn_model = create_rnn_model(input_shape=(X_train_rnn.shape[1], X_train_rnn.shape[2]))\n",
        "    history = rnn_model.fit(X_train_rnn, y_train, epochs=53, batch_size=64, validation_split=0.2, verbose=1)\n",
        "    predictions = rnn_model.predict(X_test_rnn).flatten()\n",
        "    mse = mean_squared_error(y_test, predictions)\n",
        "    rnn_model.save(model_path)\n",
        "    return mse, predictions, history"
      ]
    },
    {
      "cell_type": "code",
      "execution_count": null,
      "metadata": {
        "id": "T_qFIuSPEuo2"
      },
      "outputs": [],
      "source": [
        "def train_and_evaluate_cnn_model(input_comb, model_path):\n",
        "    _, y_train, _, y_test, X_train_cnn, X_test_cnn = extract_data_for_combination(input_comb)\n",
        "    cnn_model = create_cnn_model(input_shape=(X_train_cnn.shape[1], X_train_cnn.shape[2]))\n",
        "    history = cnn_model.fit(X_train_cnn, y_train, epochs=50, batch_size=64, validation_split=0.2, verbose=1)\n",
        "    predictions = cnn_model.predict(X_test_cnn).flatten()\n",
        "    mse = mean_squared_error(y_test, predictions)\n",
        "    cnn_model.save(model_path)\n",
        "    return mse, predictions, history"
      ]
    },
    {
      "cell_type": "code",
      "execution_count": null,
      "metadata": {
        "colab": {
          "base_uri": "https://localhost:8080/"
        },
        "id": "M4-BiZzREuo2",
        "outputId": "8536dc0c-804c-4a5c-c0f9-a7e6e4fe8ba1"
      },
      "outputs": [
        {
          "name": "stdout",
          "output_type": "stream",
          "text": [
            "Epoch 1/50\n",
            "480/480 [==============================] - 6s 7ms/step - loss: 0.1518 - val_loss: 0.0612\n",
            "Epoch 2/50\n",
            "480/480 [==============================] - 2s 4ms/step - loss: 0.0512 - val_loss: 0.0230\n",
            "Epoch 3/50\n",
            "480/480 [==============================] - 2s 4ms/step - loss: 0.0394 - val_loss: 0.0184\n",
            "Epoch 4/50\n",
            "480/480 [==============================] - 2s 4ms/step - loss: 0.0344 - val_loss: 0.0286\n",
            "Epoch 5/50\n",
            "480/480 [==============================] - 2s 4ms/step - loss: 0.0309 - val_loss: 0.0149\n",
            "Epoch 6/50\n",
            "480/480 [==============================] - 2s 4ms/step - loss: 0.0279 - val_loss: 0.0208\n",
            "Epoch 7/50\n",
            "480/480 [==============================] - 3s 7ms/step - loss: 0.0257 - val_loss: 0.0151\n",
            "Epoch 8/50\n",
            "480/480 [==============================] - 2s 4ms/step - loss: 0.0241 - val_loss: 0.0147\n",
            "Epoch 9/50\n",
            "480/480 [==============================] - 2s 4ms/step - loss: 0.0229 - val_loss: 0.0127\n",
            "Epoch 10/50\n",
            "480/480 [==============================] - 2s 4ms/step - loss: 0.0219 - val_loss: 0.0139\n",
            "Epoch 11/50\n",
            "480/480 [==============================] - 2s 4ms/step - loss: 0.0214 - val_loss: 0.0143\n",
            "Epoch 12/50\n",
            "480/480 [==============================] - 2s 4ms/step - loss: 0.0207 - val_loss: 0.0124\n",
            "Epoch 13/50\n",
            "480/480 [==============================] - 3s 7ms/step - loss: 0.0204 - val_loss: 0.0139\n",
            "Epoch 14/50\n",
            "480/480 [==============================] - 2s 4ms/step - loss: 0.0201 - val_loss: 0.0124\n",
            "Epoch 15/50\n",
            "480/480 [==============================] - 2s 4ms/step - loss: 0.0194 - val_loss: 0.0109\n",
            "Epoch 16/50\n",
            "480/480 [==============================] - 2s 4ms/step - loss: 0.0194 - val_loss: 0.0121\n",
            "Epoch 17/50\n",
            "480/480 [==============================] - 2s 4ms/step - loss: 0.0188 - val_loss: 0.0118\n",
            "Epoch 18/50\n",
            "480/480 [==============================] - 2s 4ms/step - loss: 0.0183 - val_loss: 0.0109\n",
            "Epoch 19/50\n",
            "480/480 [==============================] - 3s 6ms/step - loss: 0.0180 - val_loss: 0.0107\n",
            "Epoch 20/50\n",
            "480/480 [==============================] - 2s 4ms/step - loss: 0.0175 - val_loss: 0.0107\n",
            "Epoch 21/50\n",
            "480/480 [==============================] - 2s 4ms/step - loss: 0.0174 - val_loss: 0.0107\n",
            "Epoch 22/50\n",
            "480/480 [==============================] - 2s 4ms/step - loss: 0.0173 - val_loss: 0.0113\n",
            "Epoch 23/50\n",
            "480/480 [==============================] - 2s 5ms/step - loss: 0.0173 - val_loss: 0.0114\n",
            "Epoch 24/50\n",
            "480/480 [==============================] - 2s 4ms/step - loss: 0.0168 - val_loss: 0.0105\n",
            "Epoch 25/50\n",
            "480/480 [==============================] - 3s 6ms/step - loss: 0.0166 - val_loss: 0.0110\n",
            "Epoch 26/50\n",
            "480/480 [==============================] - 2s 4ms/step - loss: 0.0166 - val_loss: 0.0104\n",
            "Epoch 27/50\n",
            "480/480 [==============================] - 2s 4ms/step - loss: 0.0165 - val_loss: 0.0093\n",
            "Epoch 28/50\n",
            "480/480 [==============================] - 2s 4ms/step - loss: 0.0162 - val_loss: 0.0118\n",
            "Epoch 29/50\n",
            "480/480 [==============================] - 2s 4ms/step - loss: 0.0161 - val_loss: 0.0143\n",
            "Epoch 30/50\n",
            "480/480 [==============================] - 2s 4ms/step - loss: 0.0159 - val_loss: 0.0127\n",
            "Epoch 31/50\n",
            "480/480 [==============================] - 3s 6ms/step - loss: 0.0160 - val_loss: 0.0105\n",
            "Epoch 32/50\n",
            "480/480 [==============================] - 2s 5ms/step - loss: 0.0159 - val_loss: 0.0109\n",
            "Epoch 33/50\n",
            "480/480 [==============================] - 2s 5ms/step - loss: 0.0158 - val_loss: 0.0113\n",
            "Epoch 34/50\n",
            "480/480 [==============================] - 2s 4ms/step - loss: 0.0158 - val_loss: 0.0144\n",
            "Epoch 35/50\n",
            "480/480 [==============================] - 2s 4ms/step - loss: 0.0155 - val_loss: 0.0111\n",
            "Epoch 36/50\n",
            "480/480 [==============================] - 2s 4ms/step - loss: 0.0156 - val_loss: 0.0105\n",
            "Epoch 37/50\n",
            "480/480 [==============================] - 3s 6ms/step - loss: 0.0152 - val_loss: 0.0111\n",
            "Epoch 38/50\n",
            "480/480 [==============================] - 2s 5ms/step - loss: 0.0156 - val_loss: 0.0095\n",
            "Epoch 39/50\n",
            "480/480 [==============================] - 2s 4ms/step - loss: 0.0152 - val_loss: 0.0122\n",
            "Epoch 40/50\n",
            "480/480 [==============================] - 2s 4ms/step - loss: 0.0151 - val_loss: 0.0116\n",
            "Epoch 41/50\n",
            "480/480 [==============================] - 2s 4ms/step - loss: 0.0153 - val_loss: 0.0108\n",
            "Epoch 42/50\n",
            "480/480 [==============================] - 2s 4ms/step - loss: 0.0150 - val_loss: 0.0107\n",
            "Epoch 43/50\n",
            "480/480 [==============================] - 3s 6ms/step - loss: 0.0150 - val_loss: 0.0103\n",
            "Epoch 44/50\n",
            "480/480 [==============================] - 2s 4ms/step - loss: 0.0149 - val_loss: 0.0102\n",
            "Epoch 45/50\n",
            "480/480 [==============================] - 2s 4ms/step - loss: 0.0148 - val_loss: 0.0089\n",
            "Epoch 46/50\n",
            "480/480 [==============================] - 2s 4ms/step - loss: 0.0150 - val_loss: 0.0100\n",
            "Epoch 47/50\n",
            "480/480 [==============================] - 2s 4ms/step - loss: 0.0147 - val_loss: 0.0096\n",
            "Epoch 48/50\n",
            "480/480 [==============================] - 2s 4ms/step - loss: 0.0144 - val_loss: 0.0094\n",
            "Epoch 49/50\n",
            "480/480 [==============================] - 3s 6ms/step - loss: 0.0151 - val_loss: 0.0104\n",
            "Epoch 50/50\n",
            "480/480 [==============================] - 2s 5ms/step - loss: 0.0144 - val_loss: 0.0092\n",
            "300/300 [==============================] - 1s 2ms/step\n"
          ]
        },
        {
          "name": "stderr",
          "output_type": "stream",
          "text": [
            "/usr/local/lib/python3.10/dist-packages/keras/src/engine/training.py:3103: UserWarning: You are saving your model as an HDF5 file via `model.save()`. This file format is considered legacy. We recommend using instead the native Keras format, e.g. `model.save('my_model.keras')`.\n",
            "  saving_api.save_model(\n"
          ]
        },
        {
          "name": "stdout",
          "output_type": "stream",
          "text": [
            "Epoch 1/53\n",
            "480/480 [==============================] - 6s 5ms/step - loss: 0.0844 - val_loss: 0.4249\n",
            "Epoch 2/53\n",
            "480/480 [==============================] - 2s 4ms/step - loss: 0.0520 - val_loss: 0.0160\n",
            "Epoch 3/53\n",
            "480/480 [==============================] - 2s 4ms/step - loss: 0.0468 - val_loss: 0.0147\n",
            "Epoch 4/53\n",
            "480/480 [==============================] - 2s 4ms/step - loss: 0.0463 - val_loss: 0.0108\n",
            "Epoch 5/53\n",
            "480/480 [==============================] - 2s 5ms/step - loss: 0.0452 - val_loss: 0.0108\n",
            "Epoch 6/53\n",
            "480/480 [==============================] - 3s 7ms/step - loss: 0.0445 - val_loss: 0.0105\n",
            "Epoch 7/53\n",
            "480/480 [==============================] - 3s 6ms/step - loss: 0.0423 - val_loss: 0.0098\n",
            "Epoch 8/53\n",
            "480/480 [==============================] - 2s 5ms/step - loss: 0.0410 - val_loss: 0.0085\n",
            "Epoch 9/53\n",
            "480/480 [==============================] - 2s 5ms/step - loss: 0.0401 - val_loss: 0.0085\n",
            "Epoch 10/53\n",
            "480/480 [==============================] - 3s 6ms/step - loss: 0.0391 - val_loss: 0.0075\n",
            "Epoch 11/53\n",
            "480/480 [==============================] - 3s 7ms/step - loss: 0.0384 - val_loss: 0.0083\n",
            "Epoch 12/53\n",
            "480/480 [==============================] - 2s 5ms/step - loss: 0.0384 - val_loss: 0.0093\n",
            "Epoch 13/53\n",
            "480/480 [==============================] - 2s 5ms/step - loss: 0.0410 - val_loss: 0.0079\n",
            "Epoch 14/53\n",
            "480/480 [==============================] - 2s 5ms/step - loss: 0.0401 - val_loss: 0.0076\n",
            "Epoch 15/53\n",
            "480/480 [==============================] - 3s 6ms/step - loss: 0.0390 - val_loss: 0.0077\n",
            "Epoch 16/53\n",
            "480/480 [==============================] - 3s 6ms/step - loss: 0.0370 - val_loss: 0.0085\n",
            "Epoch 17/53\n",
            "480/480 [==============================] - 2s 4ms/step - loss: 0.0373 - val_loss: 0.0085\n",
            "Epoch 18/53\n",
            "480/480 [==============================] - 2s 4ms/step - loss: 0.0394 - val_loss: 0.0073\n",
            "Epoch 19/53\n",
            "480/480 [==============================] - 2s 4ms/step - loss: 0.0371 - val_loss: 0.0079\n",
            "Epoch 20/53\n",
            "480/480 [==============================] - 2s 4ms/step - loss: 0.0380 - val_loss: 0.0067\n",
            "Epoch 21/53\n",
            "480/480 [==============================] - 2s 5ms/step - loss: 0.0368 - val_loss: 0.0088\n",
            "Epoch 22/53\n",
            "480/480 [==============================] - 3s 6ms/step - loss: 0.0375 - val_loss: 0.0093\n",
            "Epoch 23/53\n",
            "480/480 [==============================] - 2s 4ms/step - loss: 0.0371 - val_loss: 0.0070\n",
            "Epoch 24/53\n",
            "480/480 [==============================] - 2s 4ms/step - loss: 0.0371 - val_loss: 0.0097\n",
            "Epoch 25/53\n",
            "480/480 [==============================] - 2s 4ms/step - loss: 0.0372 - val_loss: 0.0070\n",
            "Epoch 26/53\n",
            "480/480 [==============================] - 2s 4ms/step - loss: 0.0357 - val_loss: 0.0069\n",
            "Epoch 27/53\n",
            "480/480 [==============================] - 2s 5ms/step - loss: 0.0354 - val_loss: 0.0069\n",
            "Epoch 28/53\n",
            "480/480 [==============================] - 3s 7ms/step - loss: 0.0370 - val_loss: 0.0068\n",
            "Epoch 29/53\n",
            "480/480 [==============================] - 2s 4ms/step - loss: 0.0373 - val_loss: 0.0075\n",
            "Epoch 30/53\n",
            "480/480 [==============================] - 2s 4ms/step - loss: 0.0345 - val_loss: 0.0078\n",
            "Epoch 31/53\n",
            "480/480 [==============================] - 2s 4ms/step - loss: 0.0371 - val_loss: 0.0078\n",
            "Epoch 32/53\n",
            "480/480 [==============================] - 2s 4ms/step - loss: 0.0360 - val_loss: 0.0076\n",
            "Epoch 33/53\n",
            "480/480 [==============================] - 2s 4ms/step - loss: 0.0361 - val_loss: 0.0079\n",
            "Epoch 34/53\n",
            "480/480 [==============================] - 3s 6ms/step - loss: 0.0369 - val_loss: 0.0067\n",
            "Epoch 35/53\n",
            "480/480 [==============================] - 2s 4ms/step - loss: 0.0376 - val_loss: 0.0076\n",
            "Epoch 36/53\n",
            "480/480 [==============================] - 2s 4ms/step - loss: 0.0378 - val_loss: 0.0081\n",
            "Epoch 37/53\n",
            "480/480 [==============================] - 2s 4ms/step - loss: 0.0374 - val_loss: 0.0070\n",
            "Epoch 38/53\n",
            "480/480 [==============================] - 2s 4ms/step - loss: 0.0356 - val_loss: 0.0068\n",
            "Epoch 39/53\n",
            "480/480 [==============================] - 2s 5ms/step - loss: 0.0368 - val_loss: 0.0070\n",
            "Epoch 40/53\n",
            "480/480 [==============================] - 3s 6ms/step - loss: 0.0368 - val_loss: 0.0072\n",
            "Epoch 41/53\n",
            "480/480 [==============================] - 2s 4ms/step - loss: 0.0354 - val_loss: 0.0072\n",
            "Epoch 42/53\n",
            "480/480 [==============================] - 2s 4ms/step - loss: 0.0370 - val_loss: 0.0067\n",
            "Epoch 43/53\n",
            "480/480 [==============================] - 2s 4ms/step - loss: 0.0370 - val_loss: 0.0070\n",
            "Epoch 44/53\n",
            "480/480 [==============================] - 2s 5ms/step - loss: 0.0352 - val_loss: 0.0074\n",
            "Epoch 45/53\n",
            "480/480 [==============================] - 2s 5ms/step - loss: 0.0375 - val_loss: 0.0078\n",
            "Epoch 46/53\n",
            "480/480 [==============================] - 3s 6ms/step - loss: 0.0348 - val_loss: 0.0067\n",
            "Epoch 47/53\n",
            "480/480 [==============================] - 2s 4ms/step - loss: 0.0368 - val_loss: 0.0081\n",
            "Epoch 48/53\n",
            "480/480 [==============================] - 2s 4ms/step - loss: 0.0351 - val_loss: 0.0081\n",
            "Epoch 49/53\n",
            "480/480 [==============================] - 2s 4ms/step - loss: 0.0358 - val_loss: 0.0073\n",
            "Epoch 50/53\n",
            "480/480 [==============================] - 2s 4ms/step - loss: 0.0357 - val_loss: 0.0066\n",
            "Epoch 51/53\n",
            "480/480 [==============================] - 3s 6ms/step - loss: 0.0360 - val_loss: 0.0083\n",
            "Epoch 52/53\n",
            "480/480 [==============================] - 3s 6ms/step - loss: 0.0362 - val_loss: 0.0078\n",
            "Epoch 53/53\n",
            "480/480 [==============================] - 2s 4ms/step - loss: 0.0350 - val_loss: 0.0084\n",
            "300/300 [==============================] - 1s 3ms/step\n"
          ]
        },
        {
          "name": "stderr",
          "output_type": "stream",
          "text": [
            "/usr/local/lib/python3.10/dist-packages/keras/src/engine/training.py:3103: UserWarning: You are saving your model as an HDF5 file via `model.save()`. This file format is considered legacy. We recommend using instead the native Keras format, e.g. `model.save('my_model.keras')`.\n",
            "  saving_api.save_model(\n"
          ]
        },
        {
          "name": "stdout",
          "output_type": "stream",
          "text": [
            "Input Combination: all_angles_and_vgrf\n",
            "RNN - MSE: 0.008007969303112351\n",
            "CNN - MSE: 0.01038276997141023\n",
            "Epoch 1/50\n",
            "480/480 [==============================] - 3s 4ms/step - loss: 0.2006 - val_loss: 0.1812\n",
            "Epoch 2/50\n",
            "480/480 [==============================] - 2s 3ms/step - loss: 0.1374 - val_loss: 0.0995\n",
            "Epoch 3/50\n",
            "480/480 [==============================] - 1s 3ms/step - loss: 0.1240 - val_loss: 0.0871\n",
            "Epoch 4/50\n",
            "480/480 [==============================] - 2s 3ms/step - loss: 0.1157 - val_loss: 0.0843\n",
            "Epoch 5/50\n",
            "480/480 [==============================] - 2s 3ms/step - loss: 0.1076 - val_loss: 0.0853\n",
            "Epoch 6/50\n",
            "480/480 [==============================] - 2s 4ms/step - loss: 0.1032 - val_loss: 0.0806\n",
            "Epoch 7/50\n",
            "480/480 [==============================] - 2s 5ms/step - loss: 0.1019 - val_loss: 0.0956\n",
            "Epoch 8/50\n",
            "480/480 [==============================] - 2s 3ms/step - loss: 0.1003 - val_loss: 0.0811\n",
            "Epoch 9/50\n",
            "480/480 [==============================] - 2s 4ms/step - loss: 0.0976 - val_loss: 0.0851\n",
            "Epoch 10/50\n",
            "480/480 [==============================] - 2s 4ms/step - loss: 0.0964 - val_loss: 0.0808\n",
            "Epoch 11/50\n",
            "480/480 [==============================] - 2s 3ms/step - loss: 0.0954 - val_loss: 0.0783\n",
            "Epoch 12/50\n",
            "480/480 [==============================] - 2s 3ms/step - loss: 0.0952 - val_loss: 0.0834\n",
            "Epoch 13/50\n",
            "480/480 [==============================] - 2s 4ms/step - loss: 0.0937 - val_loss: 0.0812\n",
            "Epoch 14/50\n",
            "480/480 [==============================] - 3s 5ms/step - loss: 0.0942 - val_loss: 0.0820\n",
            "Epoch 15/50\n",
            "480/480 [==============================] - 2s 3ms/step - loss: 0.0936 - val_loss: 0.0804\n",
            "Epoch 16/50\n",
            "480/480 [==============================] - 2s 3ms/step - loss: 0.0920 - val_loss: 0.0839\n",
            "Epoch 17/50\n",
            "480/480 [==============================] - 2s 4ms/step - loss: 0.0928 - val_loss: 0.0855\n",
            "Epoch 18/50\n",
            "480/480 [==============================] - 2s 4ms/step - loss: 0.0916 - val_loss: 0.0807\n",
            "Epoch 19/50\n",
            "480/480 [==============================] - 2s 4ms/step - loss: 0.0920 - val_loss: 0.0946\n",
            "Epoch 20/50\n",
            "480/480 [==============================] - 2s 4ms/step - loss: 0.0912 - val_loss: 0.0794\n",
            "Epoch 21/50\n",
            "480/480 [==============================] - 3s 6ms/step - loss: 0.0909 - val_loss: 0.0846\n",
            "Epoch 22/50\n",
            "480/480 [==============================] - 2s 4ms/step - loss: 0.0906 - val_loss: 0.0815\n",
            "Epoch 23/50\n",
            "480/480 [==============================] - 2s 4ms/step - loss: 0.0896 - val_loss: 0.0794\n",
            "Epoch 24/50\n",
            "480/480 [==============================] - 2s 3ms/step - loss: 0.0896 - val_loss: 0.0775\n",
            "Epoch 25/50\n",
            "480/480 [==============================] - 2s 4ms/step - loss: 0.0898 - val_loss: 0.0790\n",
            "Epoch 26/50\n",
            "480/480 [==============================] - 2s 4ms/step - loss: 0.0890 - val_loss: 0.0841\n",
            "Epoch 27/50\n",
            "480/480 [==============================] - 2s 4ms/step - loss: 0.0896 - val_loss: 0.0809\n",
            "Epoch 28/50\n",
            "480/480 [==============================] - 2s 5ms/step - loss: 0.0884 - val_loss: 0.0824\n",
            "Epoch 29/50\n",
            "480/480 [==============================] - 2s 4ms/step - loss: 0.0887 - val_loss: 0.0779\n",
            "Epoch 30/50\n",
            "480/480 [==============================] - 2s 4ms/step - loss: 0.0875 - val_loss: 0.0818\n",
            "Epoch 31/50\n",
            "480/480 [==============================] - 2s 4ms/step - loss: 0.0884 - val_loss: 0.0801\n",
            "Epoch 32/50\n",
            "480/480 [==============================] - 2s 3ms/step - loss: 0.0882 - val_loss: 0.0798\n",
            "Epoch 33/50\n",
            "480/480 [==============================] - 2s 3ms/step - loss: 0.0881 - val_loss: 0.0809\n",
            "Epoch 34/50\n",
            "480/480 [==============================] - 2s 4ms/step - loss: 0.0885 - val_loss: 0.0774\n",
            "Epoch 35/50\n",
            "480/480 [==============================] - 2s 5ms/step - loss: 0.0882 - val_loss: 0.0823\n",
            "Epoch 36/50\n",
            "480/480 [==============================] - 2s 3ms/step - loss: 0.0872 - val_loss: 0.0805\n",
            "Epoch 37/50\n",
            "480/480 [==============================] - 2s 3ms/step - loss: 0.0871 - val_loss: 0.0861\n",
            "Epoch 38/50\n",
            "480/480 [==============================] - 1s 3ms/step - loss: 0.0871 - val_loss: 0.0773\n",
            "Epoch 39/50\n",
            "480/480 [==============================] - 2s 3ms/step - loss: 0.0877 - val_loss: 0.0807\n",
            "Epoch 40/50\n",
            "480/480 [==============================] - 2s 3ms/step - loss: 0.0861 - val_loss: 0.0809\n",
            "Epoch 41/50\n",
            "480/480 [==============================] - 2s 3ms/step - loss: 0.0874 - val_loss: 0.0778\n",
            "Epoch 42/50\n",
            "480/480 [==============================] - 3s 7ms/step - loss: 0.0874 - val_loss: 0.0777\n",
            "Epoch 43/50\n",
            "480/480 [==============================] - 3s 6ms/step - loss: 0.0872 - val_loss: 0.0783\n",
            "Epoch 44/50\n",
            "480/480 [==============================] - 2s 5ms/step - loss: 0.0863 - val_loss: 0.0824\n",
            "Epoch 45/50\n",
            "480/480 [==============================] - 2s 4ms/step - loss: 0.0868 - val_loss: 0.0789\n",
            "Epoch 46/50\n",
            "480/480 [==============================] - 2s 3ms/step - loss: 0.0862 - val_loss: 0.0793\n",
            "Epoch 47/50\n",
            "480/480 [==============================] - 2s 3ms/step - loss: 0.0858 - val_loss: 0.0788\n",
            "Epoch 48/50\n",
            "480/480 [==============================] - 2s 4ms/step - loss: 0.0863 - val_loss: 0.0786\n",
            "Epoch 49/50\n",
            "480/480 [==============================] - 3s 5ms/step - loss: 0.0865 - val_loss: 0.0821\n",
            "Epoch 50/50\n",
            "480/480 [==============================] - 2s 4ms/step - loss: 0.0865 - val_loss: 0.0793\n",
            "300/300 [==============================] - 1s 2ms/step\n"
          ]
        },
        {
          "name": "stderr",
          "output_type": "stream",
          "text": [
            "/usr/local/lib/python3.10/dist-packages/keras/src/engine/training.py:3103: UserWarning: You are saving your model as an HDF5 file via `model.save()`. This file format is considered legacy. We recommend using instead the native Keras format, e.g. `model.save('my_model.keras')`.\n",
            "  saving_api.save_model(\n"
          ]
        },
        {
          "name": "stdout",
          "output_type": "stream",
          "text": [
            "Epoch 1/53\n",
            "480/480 [==============================] - 5s 5ms/step - loss: 0.1833 - val_loss: 0.4939\n",
            "Epoch 2/53\n",
            "480/480 [==============================] - 2s 4ms/step - loss: 0.1427 - val_loss: 0.0965\n",
            "Epoch 3/53\n",
            "480/480 [==============================] - 3s 7ms/step - loss: 0.1279 - val_loss: 0.1011\n",
            "Epoch 4/53\n",
            "480/480 [==============================] - 2s 5ms/step - loss: 0.1256 - val_loss: 0.0962\n",
            "Epoch 5/53\n",
            "480/480 [==============================] - 2s 4ms/step - loss: 0.1214 - val_loss: 0.0924\n",
            "Epoch 6/53\n",
            "480/480 [==============================] - 2s 5ms/step - loss: 0.1219 - val_loss: 0.0928\n",
            "Epoch 7/53\n",
            "480/480 [==============================] - 2s 4ms/step - loss: 0.1203 - val_loss: 0.0889\n",
            "Epoch 8/53\n",
            "480/480 [==============================] - 3s 5ms/step - loss: 0.1199 - val_loss: 0.0862\n",
            "Epoch 9/53\n",
            "480/480 [==============================] - 3s 6ms/step - loss: 0.1174 - val_loss: 0.0835\n",
            "Epoch 10/53\n",
            "480/480 [==============================] - 2s 4ms/step - loss: 0.1148 - val_loss: 0.0845\n",
            "Epoch 11/53\n",
            "480/480 [==============================] - 2s 4ms/step - loss: 0.1138 - val_loss: 0.0886\n",
            "Epoch 12/53\n",
            "480/480 [==============================] - 2s 4ms/step - loss: 0.1150 - val_loss: 0.0828\n",
            "Epoch 13/53\n",
            "480/480 [==============================] - 2s 4ms/step - loss: 0.1128 - val_loss: 0.0828\n",
            "Epoch 14/53\n",
            "480/480 [==============================] - 3s 6ms/step - loss: 0.1127 - val_loss: 0.0852\n",
            "Epoch 15/53\n",
            "480/480 [==============================] - 3s 6ms/step - loss: 0.1140 - val_loss: 0.0876\n",
            "Epoch 16/53\n",
            "480/480 [==============================] - 2s 5ms/step - loss: 0.1120 - val_loss: 0.0873\n",
            "Epoch 17/53\n",
            "480/480 [==============================] - 2s 5ms/step - loss: 0.1111 - val_loss: 0.0838\n",
            "Epoch 18/53\n",
            "480/480 [==============================] - 2s 5ms/step - loss: 0.1134 - val_loss: 0.0821\n",
            "Epoch 19/53\n",
            "480/480 [==============================] - 2s 5ms/step - loss: 0.1135 - val_loss: 0.0827\n",
            "Epoch 20/53\n",
            "480/480 [==============================] - 3s 7ms/step - loss: 0.1117 - val_loss: 0.0851\n",
            "Epoch 21/53\n",
            "480/480 [==============================] - 2s 5ms/step - loss: 0.1102 - val_loss: 0.0817\n",
            "Epoch 22/53\n",
            "480/480 [==============================] - 2s 4ms/step - loss: 0.1111 - val_loss: 0.0826\n",
            "Epoch 23/53\n",
            "480/480 [==============================] - 2s 4ms/step - loss: 0.1109 - val_loss: 0.0808\n",
            "Epoch 24/53\n",
            "480/480 [==============================] - 2s 4ms/step - loss: 0.1102 - val_loss: 0.0818\n",
            "Epoch 25/53\n",
            "480/480 [==============================] - 3s 5ms/step - loss: 0.1102 - val_loss: 0.0802\n",
            "Epoch 26/53\n",
            "480/480 [==============================] - 3s 6ms/step - loss: 0.1105 - val_loss: 0.0827\n",
            "Epoch 27/53\n",
            "480/480 [==============================] - 2s 4ms/step - loss: 0.1091 - val_loss: 0.0804\n",
            "Epoch 28/53\n",
            "480/480 [==============================] - 2s 4ms/step - loss: 0.1094 - val_loss: 0.0810\n",
            "Epoch 29/53\n",
            "480/480 [==============================] - 2s 4ms/step - loss: 0.1098 - val_loss: 0.0825\n",
            "Epoch 30/53\n",
            "480/480 [==============================] - 2s 4ms/step - loss: 0.1087 - val_loss: 0.0836\n",
            "Epoch 31/53\n",
            "480/480 [==============================] - 3s 6ms/step - loss: 0.1115 - val_loss: 0.0862\n",
            "Epoch 32/53\n",
            "480/480 [==============================] - 3s 5ms/step - loss: 0.1071 - val_loss: 0.0813\n",
            "Epoch 33/53\n",
            "480/480 [==============================] - 2s 4ms/step - loss: 0.1100 - val_loss: 0.0831\n",
            "Epoch 34/53\n",
            "480/480 [==============================] - 2s 4ms/step - loss: 0.1079 - val_loss: 0.0797\n",
            "Epoch 35/53\n",
            "480/480 [==============================] - 2s 4ms/step - loss: 0.1080 - val_loss: 0.0785\n",
            "Epoch 36/53\n",
            "480/480 [==============================] - 2s 4ms/step - loss: 0.1081 - val_loss: 0.0790\n",
            "Epoch 37/53\n",
            "480/480 [==============================] - 3s 7ms/step - loss: 0.1078 - val_loss: 0.0796\n",
            "Epoch 38/53\n",
            "480/480 [==============================] - 2s 4ms/step - loss: 0.1081 - val_loss: 0.0813\n",
            "Epoch 39/53\n",
            "480/480 [==============================] - 2s 4ms/step - loss: 0.1085 - val_loss: 0.0780\n",
            "Epoch 40/53\n",
            "480/480 [==============================] - 2s 4ms/step - loss: 0.1071 - val_loss: 0.0789\n",
            "Epoch 41/53\n",
            "480/480 [==============================] - 2s 5ms/step - loss: 0.1084 - val_loss: 0.0804\n",
            "Epoch 42/53\n",
            "480/480 [==============================] - 2s 5ms/step - loss: 0.1092 - val_loss: 0.0791\n",
            "Epoch 43/53\n",
            "480/480 [==============================] - 3s 6ms/step - loss: 0.1094 - val_loss: 0.0823\n",
            "Epoch 44/53\n",
            "480/480 [==============================] - 2s 5ms/step - loss: 0.1056 - val_loss: 0.0807\n",
            "Epoch 45/53\n",
            "480/480 [==============================] - 2s 4ms/step - loss: 0.1088 - val_loss: 0.0802\n",
            "Epoch 46/53\n",
            "480/480 [==============================] - 2s 4ms/step - loss: 0.1072 - val_loss: 0.0801\n",
            "Epoch 47/53\n",
            "480/480 [==============================] - 2s 4ms/step - loss: 0.1068 - val_loss: 0.0803\n",
            "Epoch 48/53\n",
            "480/480 [==============================] - 4s 8ms/step - loss: 0.1083 - val_loss: 0.0794\n",
            "Epoch 49/53\n",
            "480/480 [==============================] - 2s 5ms/step - loss: 0.1084 - val_loss: 0.0818\n",
            "Epoch 50/53\n",
            "480/480 [==============================] - 2s 4ms/step - loss: 0.1083 - val_loss: 0.0788\n",
            "Epoch 51/53\n",
            "480/480 [==============================] - 2s 4ms/step - loss: 0.1072 - val_loss: 0.0791\n",
            "Epoch 52/53\n",
            "480/480 [==============================] - 2s 4ms/step - loss: 0.1076 - val_loss: 0.0776\n",
            "Epoch 53/53\n",
            "480/480 [==============================] - 2s 5ms/step - loss: 0.1057 - val_loss: 0.0812\n",
            "300/300 [==============================] - 1s 2ms/step\n",
            "Input Combination: ankle_angle_only\n",
            "RNN - MSE: 0.08056536877674932\n",
            "CNN - MSE: 0.07975204476756646\n"
          ]
        },
        {
          "name": "stderr",
          "output_type": "stream",
          "text": [
            "/usr/local/lib/python3.10/dist-packages/keras/src/engine/training.py:3103: UserWarning: You are saving your model as an HDF5 file via `model.save()`. This file format is considered legacy. We recommend using instead the native Keras format, e.g. `model.save('my_model.keras')`.\n",
            "  saving_api.save_model(\n"
          ]
        },
        {
          "name": "stdout",
          "output_type": "stream",
          "text": [
            "Epoch 1/50\n",
            "480/480 [==============================] - 3s 4ms/step - loss: 0.1407 - val_loss: 0.1318\n",
            "Epoch 2/50\n",
            "480/480 [==============================] - 3s 5ms/step - loss: 0.0545 - val_loss: 0.0365\n",
            "Epoch 3/50\n",
            "480/480 [==============================] - 2s 5ms/step - loss: 0.0447 - val_loss: 0.0358\n",
            "Epoch 4/50\n",
            "480/480 [==============================] - 2s 4ms/step - loss: 0.0390 - val_loss: 0.0303\n",
            "Epoch 5/50\n",
            "480/480 [==============================] - 2s 4ms/step - loss: 0.0352 - val_loss: 0.0197\n",
            "Epoch 6/50\n",
            "480/480 [==============================] - 2s 4ms/step - loss: 0.0326 - val_loss: 0.0176\n",
            "Epoch 7/50\n",
            "480/480 [==============================] - 2s 4ms/step - loss: 0.0306 - val_loss: 0.0182\n",
            "Epoch 8/50\n",
            "480/480 [==============================] - 2s 4ms/step - loss: 0.0293 - val_loss: 0.0164\n",
            "Epoch 9/50\n",
            "480/480 [==============================] - 3s 6ms/step - loss: 0.0280 - val_loss: 0.0158\n",
            "Epoch 10/50\n",
            "480/480 [==============================] - 2s 4ms/step - loss: 0.0266 - val_loss: 0.0178\n",
            "Epoch 11/50\n",
            "480/480 [==============================] - 2s 4ms/step - loss: 0.0265 - val_loss: 0.0182\n",
            "Epoch 12/50\n",
            "480/480 [==============================] - 2s 4ms/step - loss: 0.0251 - val_loss: 0.0184\n",
            "Epoch 13/50\n",
            "480/480 [==============================] - 2s 4ms/step - loss: 0.0244 - val_loss: 0.0157\n",
            "Epoch 14/50\n",
            "480/480 [==============================] - 2s 4ms/step - loss: 0.0242 - val_loss: 0.0144\n",
            "Epoch 15/50\n",
            "480/480 [==============================] - 2s 5ms/step - loss: 0.0233 - val_loss: 0.0164\n",
            "Epoch 16/50\n",
            "480/480 [==============================] - 3s 6ms/step - loss: 0.0223 - val_loss: 0.0151\n",
            "Epoch 17/50\n",
            "480/480 [==============================] - 2s 4ms/step - loss: 0.0221 - val_loss: 0.0155\n",
            "Epoch 18/50\n",
            "480/480 [==============================] - 2s 4ms/step - loss: 0.0224 - val_loss: 0.0167\n",
            "Epoch 19/50\n",
            "480/480 [==============================] - 2s 4ms/step - loss: 0.0216 - val_loss: 0.0144\n",
            "Epoch 20/50\n",
            "480/480 [==============================] - 2s 4ms/step - loss: 0.0216 - val_loss: 0.0167\n",
            "Epoch 21/50\n",
            "480/480 [==============================] - 2s 4ms/step - loss: 0.0211 - val_loss: 0.0146\n",
            "Epoch 22/50\n",
            "480/480 [==============================] - 3s 6ms/step - loss: 0.0209 - val_loss: 0.0130\n",
            "Epoch 23/50\n",
            "480/480 [==============================] - 2s 4ms/step - loss: 0.0207 - val_loss: 0.0178\n",
            "Epoch 24/50\n",
            "480/480 [==============================] - 2s 4ms/step - loss: 0.0204 - val_loss: 0.0138\n",
            "Epoch 25/50\n",
            "480/480 [==============================] - 2s 4ms/step - loss: 0.0196 - val_loss: 0.0147\n",
            "Epoch 26/50\n",
            "480/480 [==============================] - 2s 4ms/step - loss: 0.0205 - val_loss: 0.0188\n",
            "Epoch 27/50\n",
            "480/480 [==============================] - 2s 4ms/step - loss: 0.0197 - val_loss: 0.0158\n",
            "Epoch 28/50\n",
            "480/480 [==============================] - 2s 5ms/step - loss: 0.0197 - val_loss: 0.0138\n",
            "Epoch 29/50\n",
            "480/480 [==============================] - 3s 5ms/step - loss: 0.0192 - val_loss: 0.0134\n",
            "Epoch 30/50\n",
            "480/480 [==============================] - 2s 4ms/step - loss: 0.0195 - val_loss: 0.0171\n",
            "Epoch 31/50\n",
            "480/480 [==============================] - 2s 4ms/step - loss: 0.0189 - val_loss: 0.0140\n",
            "Epoch 32/50\n",
            "480/480 [==============================] - 2s 4ms/step - loss: 0.0189 - val_loss: 0.0161\n",
            "Epoch 33/50\n",
            "480/480 [==============================] - 2s 4ms/step - loss: 0.0197 - val_loss: 0.0153\n",
            "Epoch 34/50\n",
            "480/480 [==============================] - 2s 4ms/step - loss: 0.0190 - val_loss: 0.0148\n",
            "Epoch 35/50\n",
            "480/480 [==============================] - 3s 6ms/step - loss: 0.0184 - val_loss: 0.0189\n",
            "Epoch 36/50\n",
            "480/480 [==============================] - 2s 4ms/step - loss: 0.0186 - val_loss: 0.0165\n",
            "Epoch 37/50\n",
            "480/480 [==============================] - 2s 4ms/step - loss: 0.0183 - val_loss: 0.0147\n",
            "Epoch 38/50\n",
            "480/480 [==============================] - 2s 4ms/step - loss: 0.0183 - val_loss: 0.0173\n",
            "Epoch 39/50\n",
            "480/480 [==============================] - 2s 4ms/step - loss: 0.0184 - val_loss: 0.0151\n",
            "Epoch 40/50\n",
            "480/480 [==============================] - 2s 4ms/step - loss: 0.0182 - val_loss: 0.0131\n",
            "Epoch 41/50\n",
            "480/480 [==============================] - 3s 5ms/step - loss: 0.0179 - val_loss: 0.0170\n",
            "Epoch 42/50\n",
            "480/480 [==============================] - 3s 5ms/step - loss: 0.0185 - val_loss: 0.0177\n",
            "Epoch 43/50\n",
            "480/480 [==============================] - 2s 4ms/step - loss: 0.0179 - val_loss: 0.0140\n",
            "Epoch 44/50\n",
            "480/480 [==============================] - 2s 4ms/step - loss: 0.0179 - val_loss: 0.0142\n",
            "Epoch 45/50\n",
            "480/480 [==============================] - 2s 4ms/step - loss: 0.0176 - val_loss: 0.0127\n",
            "Epoch 46/50\n",
            "480/480 [==============================] - 2s 4ms/step - loss: 0.0179 - val_loss: 0.0151\n",
            "Epoch 47/50\n",
            "480/480 [==============================] - 2s 4ms/step - loss: 0.0179 - val_loss: 0.0142\n",
            "Epoch 48/50\n",
            "480/480 [==============================] - 3s 6ms/step - loss: 0.0177 - val_loss: 0.0132\n",
            "Epoch 49/50\n",
            "480/480 [==============================] - 2s 4ms/step - loss: 0.0177 - val_loss: 0.0152\n",
            "Epoch 50/50\n",
            "480/480 [==============================] - 2s 4ms/step - loss: 0.0171 - val_loss: 0.0130\n",
            "300/300 [==============================] - 1s 2ms/step\n"
          ]
        },
        {
          "name": "stderr",
          "output_type": "stream",
          "text": [
            "/usr/local/lib/python3.10/dist-packages/keras/src/engine/training.py:3103: UserWarning: You are saving your model as an HDF5 file via `model.save()`. This file format is considered legacy. We recommend using instead the native Keras format, e.g. `model.save('my_model.keras')`.\n",
            "  saving_api.save_model(\n"
          ]
        },
        {
          "name": "stdout",
          "output_type": "stream",
          "text": [
            "Epoch 1/53\n",
            "480/480 [==============================] - 5s 5ms/step - loss: 0.0903 - val_loss: 0.4294\n",
            "Epoch 2/53\n",
            "480/480 [==============================] - 3s 7ms/step - loss: 0.0566 - val_loss: 0.0167\n",
            "Epoch 3/53\n",
            "480/480 [==============================] - 2s 4ms/step - loss: 0.0548 - val_loss: 0.0155\n",
            "Epoch 4/53\n",
            "480/480 [==============================] - 2s 5ms/step - loss: 0.0492 - val_loss: 0.0155\n",
            "Epoch 5/53\n",
            "480/480 [==============================] - 2s 5ms/step - loss: 0.0481 - val_loss: 0.0140\n",
            "Epoch 6/53\n",
            "480/480 [==============================] - 2s 4ms/step - loss: 0.0480 - val_loss: 0.0131\n",
            "Epoch 7/53\n",
            "480/480 [==============================] - 3s 5ms/step - loss: 0.0450 - val_loss: 0.0142\n",
            "Epoch 8/53\n",
            "480/480 [==============================] - 3s 6ms/step - loss: 0.0450 - val_loss: 0.0126\n",
            "Epoch 9/53\n",
            "480/480 [==============================] - 2s 4ms/step - loss: 0.0471 - val_loss: 0.0123\n",
            "Epoch 10/53\n",
            "480/480 [==============================] - 2s 4ms/step - loss: 0.0447 - val_loss: 0.0125\n",
            "Epoch 11/53\n",
            "480/480 [==============================] - 2s 4ms/step - loss: 0.0419 - val_loss: 0.0124\n",
            "Epoch 12/53\n",
            "480/480 [==============================] - 2s 4ms/step - loss: 0.0421 - val_loss: 0.0113\n",
            "Epoch 13/53\n",
            "480/480 [==============================] - 2s 5ms/step - loss: 0.0436 - val_loss: 0.0124\n",
            "Epoch 14/53\n",
            "480/480 [==============================] - 3s 6ms/step - loss: 0.0419 - val_loss: 0.0117\n",
            "Epoch 15/53\n",
            "480/480 [==============================] - 2s 4ms/step - loss: 0.0419 - val_loss: 0.0117\n",
            "Epoch 16/53\n",
            "480/480 [==============================] - 2s 4ms/step - loss: 0.0416 - val_loss: 0.0117\n",
            "Epoch 17/53\n",
            "480/480 [==============================] - 2s 4ms/step - loss: 0.0411 - val_loss: 0.0107\n",
            "Epoch 18/53\n",
            "480/480 [==============================] - 2s 4ms/step - loss: 0.0436 - val_loss: 0.0130\n",
            "Epoch 19/53\n",
            "480/480 [==============================] - 3s 5ms/step - loss: 0.0416 - val_loss: 0.0125\n",
            "Epoch 20/53\n",
            "480/480 [==============================] - 3s 5ms/step - loss: 0.0411 - val_loss: 0.0132\n",
            "Epoch 21/53\n",
            "480/480 [==============================] - 2s 4ms/step - loss: 0.0412 - val_loss: 0.0114\n",
            "Epoch 22/53\n",
            "480/480 [==============================] - 2s 4ms/step - loss: 0.0406 - val_loss: 0.0119\n",
            "Epoch 23/53\n",
            "480/480 [==============================] - 2s 4ms/step - loss: 0.0408 - val_loss: 0.0126\n",
            "Epoch 24/53\n",
            "480/480 [==============================] - 2s 4ms/step - loss: 0.0411 - val_loss: 0.0106\n",
            "Epoch 25/53\n",
            "480/480 [==============================] - 3s 6ms/step - loss: 0.0411 - val_loss: 0.0122\n",
            "Epoch 26/53\n",
            "480/480 [==============================] - 3s 5ms/step - loss: 0.0413 - val_loss: 0.0105\n",
            "Epoch 27/53\n",
            "480/480 [==============================] - 2s 4ms/step - loss: 0.0405 - val_loss: 0.0113\n",
            "Epoch 28/53\n",
            "480/480 [==============================] - 2s 4ms/step - loss: 0.0410 - val_loss: 0.0110\n",
            "Epoch 29/53\n",
            "480/480 [==============================] - 2s 4ms/step - loss: 0.0396 - val_loss: 0.0104\n",
            "Epoch 30/53\n",
            "480/480 [==============================] - 2s 4ms/step - loss: 0.0401 - val_loss: 0.0112\n",
            "Epoch 31/53\n",
            "480/480 [==============================] - 3s 6ms/step - loss: 0.0381 - val_loss: 0.0105\n",
            "Epoch 32/53\n",
            "480/480 [==============================] - 2s 5ms/step - loss: 0.0418 - val_loss: 0.0108\n",
            "Epoch 33/53\n",
            "480/480 [==============================] - 2s 4ms/step - loss: 0.0390 - val_loss: 0.0112\n",
            "Epoch 34/53\n",
            "480/480 [==============================] - 2s 5ms/step - loss: 0.0403 - val_loss: 0.0107\n",
            "Epoch 35/53\n",
            "480/480 [==============================] - 2s 4ms/step - loss: 0.0400 - val_loss: 0.0104\n",
            "Epoch 36/53\n",
            "480/480 [==============================] - 2s 4ms/step - loss: 0.0407 - val_loss: 0.0123\n",
            "Epoch 37/53\n",
            "480/480 [==============================] - 3s 7ms/step - loss: 0.0409 - val_loss: 0.0114\n",
            "Epoch 38/53\n",
            "480/480 [==============================] - 2s 4ms/step - loss: 0.0397 - val_loss: 0.0109\n",
            "Epoch 39/53\n",
            "480/480 [==============================] - 2s 4ms/step - loss: 0.0386 - val_loss: 0.0111\n",
            "Epoch 40/53\n",
            "480/480 [==============================] - 2s 5ms/step - loss: 0.0376 - val_loss: 0.0109\n",
            "Epoch 41/53\n",
            "480/480 [==============================] - 2s 4ms/step - loss: 0.0412 - val_loss: 0.0114\n",
            "Epoch 42/53\n",
            "480/480 [==============================] - 2s 5ms/step - loss: 0.0412 - val_loss: 0.0105\n",
            "Epoch 43/53\n",
            "480/480 [==============================] - 3s 7ms/step - loss: 0.0379 - val_loss: 0.0106\n",
            "Epoch 44/53\n",
            "480/480 [==============================] - 2s 4ms/step - loss: 0.0386 - val_loss: 0.0111\n",
            "Epoch 45/53\n",
            "480/480 [==============================] - 2s 4ms/step - loss: 0.0403 - val_loss: 0.0106\n",
            "Epoch 46/53\n",
            "480/480 [==============================] - 2s 4ms/step - loss: 0.0401 - val_loss: 0.0114\n",
            "Epoch 47/53\n",
            "480/480 [==============================] - 2s 4ms/step - loss: 0.0402 - val_loss: 0.0102\n",
            "Epoch 48/53\n",
            "480/480 [==============================] - 2s 5ms/step - loss: 0.0397 - val_loss: 0.0110\n",
            "Epoch 49/53\n",
            "480/480 [==============================] - 3s 6ms/step - loss: 0.0394 - val_loss: 0.0108\n",
            "Epoch 50/53\n",
            "480/480 [==============================] - 2s 4ms/step - loss: 0.0387 - val_loss: 0.0112\n",
            "Epoch 51/53\n",
            "480/480 [==============================] - 2s 4ms/step - loss: 0.0389 - val_loss: 0.0111\n",
            "Epoch 52/53\n",
            "480/480 [==============================] - 2s 4ms/step - loss: 0.0375 - val_loss: 0.0111\n",
            "Epoch 53/53\n",
            "480/480 [==============================] - 2s 4ms/step - loss: 0.0390 - val_loss: 0.0104\n",
            "300/300 [==============================] - 1s 2ms/step\n",
            "Input Combination: all_angles\n",
            "RNN - MSE: 0.010945317633803756\n",
            "CNN - MSE: 0.01583873328719619\n"
          ]
        },
        {
          "name": "stderr",
          "output_type": "stream",
          "text": [
            "/usr/local/lib/python3.10/dist-packages/keras/src/engine/training.py:3103: UserWarning: You are saving your model as an HDF5 file via `model.save()`. This file format is considered legacy. We recommend using instead the native Keras format, e.g. `model.save('my_model.keras')`.\n",
            "  saving_api.save_model(\n"
          ]
        }
      ],
      "source": [
        "# Directory to save the models\n",
        "model_dir = 'models/'\n",
        "os.makedirs(model_dir, exist_ok=True)\n",
        "\n",
        "# Define input combinations\n",
        "input_combinations = {\n",
        "    'all_angles_and_vgrf': ['vgrf', 'trunk_angle', 'hip_angle', 'knee_angle', 'ankle_angle'],\n",
        "    'ankle_angle_only': ['vgrf', 'ankle_angle'],\n",
        "    'all_angles': ['trunk_angle', 'hip_angle', 'knee_angle', 'ankle_angle'],\n",
        "}\n",
        "\n",
        "results = {}\n",
        "for key, columns in input_combinations.items():\n",
        "\n",
        "      # CNN Model\n",
        "    cnn_model_path = os.path.join(model_dir, f\"cnn_model_{key}.h5\")\n",
        "    cnn_mse, cnn_predictions, cnn_history = train_and_evaluate_cnn_model(columns, cnn_model_path)\n",
        "\n",
        "    # RNN Model\n",
        "    rnn_model_path = os.path.join(model_dir, f\"rnn_model_{key}.h5\")\n",
        "    rnn_mse, rnn_predictions, rnn_history = train_and_evaluate_rnn_model(columns, rnn_model_path)\n",
        "\n",
        "\n",
        "\n",
        "    results[key] = {\n",
        "        'rnn_mse': rnn_mse,\n",
        "        'rnn_predictions': rnn_predictions,\n",
        "        'rnn_history': rnn_history,\n",
        "        'cnn_mse': cnn_mse,\n",
        "        'cnn_predictions': cnn_predictions,\n",
        "        'cnn_history': cnn_history\n",
        "    }\n",
        "\n",
        "    print(f\"Input Combination: {key}\")\n",
        "    print(f\"RNN - MSE: {rnn_mse}\")\n",
        "    print(f\"CNN - MSE: {cnn_mse}\")\n"
      ]
    },
    {
      "cell_type": "code",
      "execution_count": null,
      "metadata": {
        "colab": {
          "base_uri": "https://localhost:8080/"
        },
        "id": "hx0hWRDzJPm4",
        "outputId": "8a94a0d8-513f-47d9-9c05-d6d404f3f534"
      },
      "outputs": [
        {
          "name": "stdout",
          "output_type": "stream",
          "text": [
            "Collecting optuna\n",
            "  Downloading optuna-3.6.1-py3-none-any.whl (380 kB)\n",
            "\u001b[2K     \u001b[90m━━━━━━━━━━━━━━━━━━━━━━━━━━━━━━━━━━━━━━━━\u001b[0m \u001b[32m380.1/380.1 kB\u001b[0m \u001b[31m2.7 MB/s\u001b[0m eta \u001b[36m0:00:00\u001b[0m\n",
            "\u001b[?25hCollecting alembic>=1.5.0 (from optuna)\n",
            "  Downloading alembic-1.13.2-py3-none-any.whl (232 kB)\n",
            "\u001b[2K     \u001b[90m━━━━━━━━━━━━━━━━━━━━━━━━━━━━━━━━━━━━━━━━\u001b[0m \u001b[32m233.0/233.0 kB\u001b[0m \u001b[31m16.6 MB/s\u001b[0m eta \u001b[36m0:00:00\u001b[0m\n",
            "\u001b[?25hCollecting colorlog (from optuna)\n",
            "  Downloading colorlog-6.8.2-py3-none-any.whl (11 kB)\n",
            "Requirement already satisfied: numpy in /usr/local/lib/python3.10/dist-packages (from optuna) (1.25.2)\n",
            "Requirement already satisfied: packaging>=20.0 in /usr/local/lib/python3.10/dist-packages (from optuna) (24.1)\n",
            "Requirement already satisfied: sqlalchemy>=1.3.0 in /usr/local/lib/python3.10/dist-packages (from optuna) (2.0.31)\n",
            "Requirement already satisfied: tqdm in /usr/local/lib/python3.10/dist-packages (from optuna) (4.66.4)\n",
            "Requirement already satisfied: PyYAML in /usr/local/lib/python3.10/dist-packages (from optuna) (6.0.1)\n",
            "Collecting Mako (from alembic>=1.5.0->optuna)\n",
            "  Downloading Mako-1.3.5-py3-none-any.whl (78 kB)\n",
            "\u001b[2K     \u001b[90m━━━━━━━━━━━━━━━━━━━━━━━━━━━━━━━━━━━━━━━━\u001b[0m \u001b[32m78.6/78.6 kB\u001b[0m \u001b[31m10.7 MB/s\u001b[0m eta \u001b[36m0:00:00\u001b[0m\n",
            "\u001b[?25hRequirement already satisfied: typing-extensions>=4 in /usr/local/lib/python3.10/dist-packages (from alembic>=1.5.0->optuna) (4.12.2)\n",
            "Requirement already satisfied: greenlet!=0.4.17 in /usr/local/lib/python3.10/dist-packages (from sqlalchemy>=1.3.0->optuna) (3.0.3)\n",
            "Requirement already satisfied: MarkupSafe>=0.9.2 in /usr/local/lib/python3.10/dist-packages (from Mako->alembic>=1.5.0->optuna) (2.1.5)\n",
            "Installing collected packages: Mako, colorlog, alembic, optuna\n",
            "Successfully installed Mako-1.3.5 alembic-1.13.2 colorlog-6.8.2 optuna-3.6.1\n"
          ]
        }
      ],
      "source": [
        "!pip install optuna"
      ]
    },
    {
      "cell_type": "code",
      "execution_count": null,
      "metadata": {
        "id": "sPwdgsqpH9yy"
      },
      "outputs": [],
      "source": [
        "import os\n",
        "import optuna\n",
        "import optuna.visualization as vis\n",
        "import matplotlib.pyplot as plt\n"
      ]
    },
    {
      "cell_type": "code",
      "execution_count": null,
      "metadata": {
        "id": "026KF7bmHOSC"
      },
      "outputs": [],
      "source": [
        "def objective(trial, model_type, input_comb):\n",
        "    # Suggest hyperparameters for both RNN and CNN\n",
        "    units = trial.suggest_int('units', 10, 100)\n",
        "    dropout_rate = trial.suggest_float('dropout_rate', 0.1, 0.5)\n",
        "    epochs = trial.suggest_int('epochs', 10, 50)\n",
        "    batch_size = trial.suggest_int('batch_size', 16, 128)\n",
        "\n",
        "    # Extract data for the input combination\n",
        "    X_train_rnn, y_train, X_test_rnn, y_test, X_train_cnn, X_test_cnn = extract_data_for_combination(input_comb)\n",
        "\n",
        "    if model_type == 'rnn':\n",
        "        model = create_rnn_model(input_shape=(X_train_rnn.shape[1], X_train_rnn.shape[2]), units=units, dropout_rate=dropout_rate)\n",
        "        history = model.fit(X_train_rnn, y_train, epochs=epochs, batch_size=batch_size, validation_split=0.2, verbose=0)\n",
        "        predictions = model.predict(X_test_rnn).flatten()\n",
        "\n",
        "    elif model_type == 'cnn':\n",
        "        model = create_cnn_model(input_shape=(X_train_cnn.shape[1], X_train_cnn.shape[2]), units=units, dropout_rate=dropout_rate)\n",
        "        history = model.fit(X_train_cnn, y_train, epochs=epochs, batch_size=batch_size, validation_split=0.2, verbose=0)\n",
        "        predictions = model.predict(X_test_cnn).flatten()\n",
        "\n",
        "    mse = mean_squared_error(y_test, predictions)\n",
        "    return mse\n"
      ]
    },
    {
      "cell_type": "code",
      "execution_count": null,
      "metadata": {
        "id": "SJHortJPHPIr"
      },
      "outputs": [],
      "source": [
        "# Function to optimize model using Optuna\n",
        "def optimize_model(model_type, input_comb_key, input_comb, n_trials=10):\n",
        "    study = optuna.create_study(direction='minimize')\n",
        "    study.optimize(lambda trial: objective(trial, model_type, input_comb), n_trials=n_trials)\n",
        "\n",
        "    best_trial = study.best_trial\n",
        "    print(f\"Best trial for {model_type} with input {input_comb_key}:\")\n",
        "    print(f\"  Value: {best_trial.value}\")\n",
        "    print(f\"  Params: \")\n",
        "    for key, value in best_trial.params.items():\n",
        "        print(f\"    {key}: {value}\")\n",
        "\n",
        "    # Generate and display Optuna visualizations\n",
        "    vis.plot_optimization_history(study).show()\n",
        "    vis.plot_param_importances(study).show()\n",
        "\n",
        "    return best_trial\n"
      ]
    },
    {
      "cell_type": "code",
      "execution_count": null,
      "metadata": {
        "colab": {
          "base_uri": "https://localhost:8080/",
          "height": 1000
        },
        "id": "IPtWEd9FJl8l",
        "outputId": "b15a9e11-fdca-476c-f3e3-a8060a300447"
      },
      "outputs": [
        {
          "name": "stderr",
          "output_type": "stream",
          "text": [
            "[I 2024-07-15 16:11:15,054] A new study created in memory with name: no-name-4ad38ee4-9b6d-4498-89ff-5065cf806893\n"
          ]
        },
        {
          "name": "stdout",
          "output_type": "stream",
          "text": [
            "Optimizing RNN for input combination: all_angles_and_vgrf\n",
            "300/300 [==============================] - 1s 3ms/step\n"
          ]
        },
        {
          "name": "stderr",
          "output_type": "stream",
          "text": [
            "[I 2024-07-15 16:12:00,649] Trial 0 finished with value: 0.008930224409600566 and parameters: {'units': 99, 'dropout_rate': 0.24179170755847235, 'epochs': 13, 'batch_size': 104}. Best is trial 0 with value: 0.008930224409600566.\n"
          ]
        },
        {
          "name": "stdout",
          "output_type": "stream",
          "text": [
            "300/300 [==============================] - 1s 2ms/step\n"
          ]
        },
        {
          "name": "stderr",
          "output_type": "stream",
          "text": [
            "[I 2024-07-15 16:14:27,323] Trial 1 finished with value: 0.008427449717145962 and parameters: {'units': 66, 'dropout_rate': 0.27675331317142843, 'epochs': 46, 'batch_size': 77}. Best is trial 1 with value: 0.008427449717145962.\n"
          ]
        },
        {
          "name": "stdout",
          "output_type": "stream",
          "text": [
            "300/300 [==============================] - 1s 2ms/step\n"
          ]
        },
        {
          "name": "stderr",
          "output_type": "stream",
          "text": [
            "[I 2024-07-15 16:16:54,187] Trial 2 finished with value: 0.007922716007021208 and parameters: {'units': 81, 'dropout_rate': 0.45983622413456804, 'epochs': 36, 'batch_size': 79}. Best is trial 2 with value: 0.007922716007021208.\n"
          ]
        },
        {
          "name": "stdout",
          "output_type": "stream",
          "text": [
            "300/300 [==============================] - 1s 2ms/step\n"
          ]
        },
        {
          "name": "stderr",
          "output_type": "stream",
          "text": [
            "[I 2024-07-15 16:17:18,717] Trial 3 finished with value: 0.023076213972584303 and parameters: {'units': 16, 'dropout_rate': 0.24270766870041482, 'epochs': 13, 'batch_size': 74}. Best is trial 2 with value: 0.007922716007021208.\n"
          ]
        },
        {
          "name": "stdout",
          "output_type": "stream",
          "text": [
            "300/300 [==============================] - 1s 2ms/step\n"
          ]
        },
        {
          "name": "stderr",
          "output_type": "stream",
          "text": [
            "[I 2024-07-15 16:18:44,680] Trial 4 finished with value: 0.008421181410220252 and parameters: {'units': 56, 'dropout_rate': 0.21048830498653046, 'epochs': 12, 'batch_size': 18}. Best is trial 2 with value: 0.007922716007021208.\n"
          ]
        },
        {
          "name": "stdout",
          "output_type": "stream",
          "text": [
            "300/300 [==============================] - 1s 2ms/step\n"
          ]
        },
        {
          "name": "stderr",
          "output_type": "stream",
          "text": [
            "[I 2024-07-15 16:20:12,012] Trial 5 finished with value: 0.010304469857035335 and parameters: {'units': 76, 'dropout_rate': 0.2540482752893828, 'epochs': 31, 'batch_size': 125}. Best is trial 2 with value: 0.007922716007021208.\n"
          ]
        },
        {
          "name": "stdout",
          "output_type": "stream",
          "text": [
            "300/300 [==============================] - 1s 2ms/step\n"
          ]
        },
        {
          "name": "stderr",
          "output_type": "stream",
          "text": [
            "[I 2024-07-15 16:21:39,362] Trial 6 finished with value: 0.008656364811814483 and parameters: {'units': 39, 'dropout_rate': 0.21275609397530937, 'epochs': 49, 'batch_size': 113}. Best is trial 2 with value: 0.007922716007021208.\n"
          ]
        },
        {
          "name": "stdout",
          "output_type": "stream",
          "text": [
            "300/300 [==============================] - 1s 2ms/step\n"
          ]
        },
        {
          "name": "stderr",
          "output_type": "stream",
          "text": [
            "[I 2024-07-15 16:25:05,805] Trial 7 finished with value: 0.008969156490680684 and parameters: {'units': 97, 'dropout_rate': 0.18121088340410232, 'epochs': 33, 'batch_size': 33}. Best is trial 2 with value: 0.007922716007021208.\n"
          ]
        },
        {
          "name": "stdout",
          "output_type": "stream",
          "text": [
            "300/300 [==============================] - 1s 2ms/step\n"
          ]
        },
        {
          "name": "stderr",
          "output_type": "stream",
          "text": [
            "[I 2024-07-15 16:25:51,009] Trial 8 finished with value: 0.026993204588794412 and parameters: {'units': 13, 'dropout_rate': 0.40028966120394716, 'epochs': 31, 'batch_size': 104}. Best is trial 2 with value: 0.007922716007021208.\n"
          ]
        },
        {
          "name": "stdout",
          "output_type": "stream",
          "text": [
            "300/300 [==============================] - 1s 3ms/step\n"
          ]
        },
        {
          "name": "stderr",
          "output_type": "stream",
          "text": [
            "[I 2024-07-15 16:27:17,728] Trial 9 finished with value: 0.007542293262754615 and parameters: {'units': 70, 'dropout_rate': 0.35241529851814357, 'epochs': 28, 'batch_size': 104}. Best is trial 9 with value: 0.007542293262754615.\n"
          ]
        },
        {
          "name": "stdout",
          "output_type": "stream",
          "text": [
            "Best trial for rnn with input all_angles_and_vgrf:\n",
            "  Value: 0.007542293262754615\n",
            "  Params: \n",
            "    units: 70\n",
            "    dropout_rate: 0.35241529851814357\n",
            "    epochs: 28\n",
            "    batch_size: 104\n"
          ]
        },
        {
          "data": {
            "text/html": [
              "<html>\n",
              "<head><meta charset=\"utf-8\" /></head>\n",
              "<body>\n",
              "    <div>            <script src=\"https://cdnjs.cloudflare.com/ajax/libs/mathjax/2.7.5/MathJax.js?config=TeX-AMS-MML_SVG\"></script><script type=\"text/javascript\">if (window.MathJax && window.MathJax.Hub && window.MathJax.Hub.Config) {window.MathJax.Hub.Config({SVG: {font: \"STIX-Web\"}});}</script>                <script type=\"text/javascript\">window.PlotlyConfig = {MathJaxConfig: 'local'};</script>\n",
              "        <script charset=\"utf-8\" src=\"https://cdn.plot.ly/plotly-2.24.1.min.js\"></script>                <div id=\"eb85f6aa-3d0b-4966-8edc-4e498b4c85fe\" class=\"plotly-graph-div\" style=\"height:525px; width:100%;\"></div>            <script type=\"text/javascript\">                                    window.PLOTLYENV=window.PLOTLYENV || {};                                    if (document.getElementById(\"eb85f6aa-3d0b-4966-8edc-4e498b4c85fe\")) {                    Plotly.newPlot(                        \"eb85f6aa-3d0b-4966-8edc-4e498b4c85fe\",                        [{\"mode\":\"markers\",\"name\":\"Objective Value\",\"x\":[0,1,2,3,4,5,6,7,8,9],\"y\":[0.008930224409600566,0.008427449717145962,0.007922716007021208,0.023076213972584303,0.008421181410220252,0.010304469857035335,0.008656364811814483,0.008969156490680684,0.026993204588794412,0.007542293262754615],\"type\":\"scatter\"},{\"mode\":\"lines\",\"name\":\"Best Value\",\"x\":[0,1,2,3,4,5,6,7,8,9],\"y\":[0.008930224409600566,0.008427449717145962,0.007922716007021208,0.007922716007021208,0.007922716007021208,0.007922716007021208,0.007922716007021208,0.007922716007021208,0.007922716007021208,0.007542293262754615],\"type\":\"scatter\"},{\"marker\":{\"color\":\"#cccccc\"},\"mode\":\"markers\",\"name\":\"Infeasible Trial\",\"showlegend\":false,\"x\":[],\"y\":[],\"type\":\"scatter\"}],                        {\"title\":{\"text\":\"Optimization History Plot\"},\"xaxis\":{\"title\":{\"text\":\"Trial\"}},\"yaxis\":{\"title\":{\"text\":\"Objective Value\"}},\"template\":{\"data\":{\"histogram2dcontour\":[{\"type\":\"histogram2dcontour\",\"colorbar\":{\"outlinewidth\":0,\"ticks\":\"\"},\"colorscale\":[[0.0,\"#0d0887\"],[0.1111111111111111,\"#46039f\"],[0.2222222222222222,\"#7201a8\"],[0.3333333333333333,\"#9c179e\"],[0.4444444444444444,\"#bd3786\"],[0.5555555555555556,\"#d8576b\"],[0.6666666666666666,\"#ed7953\"],[0.7777777777777778,\"#fb9f3a\"],[0.8888888888888888,\"#fdca26\"],[1.0,\"#f0f921\"]]}],\"choropleth\":[{\"type\":\"choropleth\",\"colorbar\":{\"outlinewidth\":0,\"ticks\":\"\"}}],\"histogram2d\":[{\"type\":\"histogram2d\",\"colorbar\":{\"outlinewidth\":0,\"ticks\":\"\"},\"colorscale\":[[0.0,\"#0d0887\"],[0.1111111111111111,\"#46039f\"],[0.2222222222222222,\"#7201a8\"],[0.3333333333333333,\"#9c179e\"],[0.4444444444444444,\"#bd3786\"],[0.5555555555555556,\"#d8576b\"],[0.6666666666666666,\"#ed7953\"],[0.7777777777777778,\"#fb9f3a\"],[0.8888888888888888,\"#fdca26\"],[1.0,\"#f0f921\"]]}],\"heatmap\":[{\"type\":\"heatmap\",\"colorbar\":{\"outlinewidth\":0,\"ticks\":\"\"},\"colorscale\":[[0.0,\"#0d0887\"],[0.1111111111111111,\"#46039f\"],[0.2222222222222222,\"#7201a8\"],[0.3333333333333333,\"#9c179e\"],[0.4444444444444444,\"#bd3786\"],[0.5555555555555556,\"#d8576b\"],[0.6666666666666666,\"#ed7953\"],[0.7777777777777778,\"#fb9f3a\"],[0.8888888888888888,\"#fdca26\"],[1.0,\"#f0f921\"]]}],\"heatmapgl\":[{\"type\":\"heatmapgl\",\"colorbar\":{\"outlinewidth\":0,\"ticks\":\"\"},\"colorscale\":[[0.0,\"#0d0887\"],[0.1111111111111111,\"#46039f\"],[0.2222222222222222,\"#7201a8\"],[0.3333333333333333,\"#9c179e\"],[0.4444444444444444,\"#bd3786\"],[0.5555555555555556,\"#d8576b\"],[0.6666666666666666,\"#ed7953\"],[0.7777777777777778,\"#fb9f3a\"],[0.8888888888888888,\"#fdca26\"],[1.0,\"#f0f921\"]]}],\"contourcarpet\":[{\"type\":\"contourcarpet\",\"colorbar\":{\"outlinewidth\":0,\"ticks\":\"\"}}],\"contour\":[{\"type\":\"contour\",\"colorbar\":{\"outlinewidth\":0,\"ticks\":\"\"},\"colorscale\":[[0.0,\"#0d0887\"],[0.1111111111111111,\"#46039f\"],[0.2222222222222222,\"#7201a8\"],[0.3333333333333333,\"#9c179e\"],[0.4444444444444444,\"#bd3786\"],[0.5555555555555556,\"#d8576b\"],[0.6666666666666666,\"#ed7953\"],[0.7777777777777778,\"#fb9f3a\"],[0.8888888888888888,\"#fdca26\"],[1.0,\"#f0f921\"]]}],\"surface\":[{\"type\":\"surface\",\"colorbar\":{\"outlinewidth\":0,\"ticks\":\"\"},\"colorscale\":[[0.0,\"#0d0887\"],[0.1111111111111111,\"#46039f\"],[0.2222222222222222,\"#7201a8\"],[0.3333333333333333,\"#9c179e\"],[0.4444444444444444,\"#bd3786\"],[0.5555555555555556,\"#d8576b\"],[0.6666666666666666,\"#ed7953\"],[0.7777777777777778,\"#fb9f3a\"],[0.8888888888888888,\"#fdca26\"],[1.0,\"#f0f921\"]]}],\"mesh3d\":[{\"type\":\"mesh3d\",\"colorbar\":{\"outlinewidth\":0,\"ticks\":\"\"}}],\"scatter\":[{\"fillpattern\":{\"fillmode\":\"overlay\",\"size\":10,\"solidity\":0.2},\"type\":\"scatter\"}],\"parcoords\":[{\"type\":\"parcoords\",\"line\":{\"colorbar\":{\"outlinewidth\":0,\"ticks\":\"\"}}}],\"scatterpolargl\":[{\"type\":\"scatterpolargl\",\"marker\":{\"colorbar\":{\"outlinewidth\":0,\"ticks\":\"\"}}}],\"bar\":[{\"error_x\":{\"color\":\"#2a3f5f\"},\"error_y\":{\"color\":\"#2a3f5f\"},\"marker\":{\"line\":{\"color\":\"#E5ECF6\",\"width\":0.5},\"pattern\":{\"fillmode\":\"overlay\",\"size\":10,\"solidity\":0.2}},\"type\":\"bar\"}],\"scattergeo\":[{\"type\":\"scattergeo\",\"marker\":{\"colorbar\":{\"outlinewidth\":0,\"ticks\":\"\"}}}],\"scatterpolar\":[{\"type\":\"scatterpolar\",\"marker\":{\"colorbar\":{\"outlinewidth\":0,\"ticks\":\"\"}}}],\"histogram\":[{\"marker\":{\"pattern\":{\"fillmode\":\"overlay\",\"size\":10,\"solidity\":0.2}},\"type\":\"histogram\"}],\"scattergl\":[{\"type\":\"scattergl\",\"marker\":{\"colorbar\":{\"outlinewidth\":0,\"ticks\":\"\"}}}],\"scatter3d\":[{\"type\":\"scatter3d\",\"line\":{\"colorbar\":{\"outlinewidth\":0,\"ticks\":\"\"}},\"marker\":{\"colorbar\":{\"outlinewidth\":0,\"ticks\":\"\"}}}],\"scattermapbox\":[{\"type\":\"scattermapbox\",\"marker\":{\"colorbar\":{\"outlinewidth\":0,\"ticks\":\"\"}}}],\"scatterternary\":[{\"type\":\"scatterternary\",\"marker\":{\"colorbar\":{\"outlinewidth\":0,\"ticks\":\"\"}}}],\"scattercarpet\":[{\"type\":\"scattercarpet\",\"marker\":{\"colorbar\":{\"outlinewidth\":0,\"ticks\":\"\"}}}],\"carpet\":[{\"aaxis\":{\"endlinecolor\":\"#2a3f5f\",\"gridcolor\":\"white\",\"linecolor\":\"white\",\"minorgridcolor\":\"white\",\"startlinecolor\":\"#2a3f5f\"},\"baxis\":{\"endlinecolor\":\"#2a3f5f\",\"gridcolor\":\"white\",\"linecolor\":\"white\",\"minorgridcolor\":\"white\",\"startlinecolor\":\"#2a3f5f\"},\"type\":\"carpet\"}],\"table\":[{\"cells\":{\"fill\":{\"color\":\"#EBF0F8\"},\"line\":{\"color\":\"white\"}},\"header\":{\"fill\":{\"color\":\"#C8D4E3\"},\"line\":{\"color\":\"white\"}},\"type\":\"table\"}],\"barpolar\":[{\"marker\":{\"line\":{\"color\":\"#E5ECF6\",\"width\":0.5},\"pattern\":{\"fillmode\":\"overlay\",\"size\":10,\"solidity\":0.2}},\"type\":\"barpolar\"}],\"pie\":[{\"automargin\":true,\"type\":\"pie\"}]},\"layout\":{\"autotypenumbers\":\"strict\",\"colorway\":[\"#636efa\",\"#EF553B\",\"#00cc96\",\"#ab63fa\",\"#FFA15A\",\"#19d3f3\",\"#FF6692\",\"#B6E880\",\"#FF97FF\",\"#FECB52\"],\"font\":{\"color\":\"#2a3f5f\"},\"hovermode\":\"closest\",\"hoverlabel\":{\"align\":\"left\"},\"paper_bgcolor\":\"white\",\"plot_bgcolor\":\"#E5ECF6\",\"polar\":{\"bgcolor\":\"#E5ECF6\",\"angularaxis\":{\"gridcolor\":\"white\",\"linecolor\":\"white\",\"ticks\":\"\"},\"radialaxis\":{\"gridcolor\":\"white\",\"linecolor\":\"white\",\"ticks\":\"\"}},\"ternary\":{\"bgcolor\":\"#E5ECF6\",\"aaxis\":{\"gridcolor\":\"white\",\"linecolor\":\"white\",\"ticks\":\"\"},\"baxis\":{\"gridcolor\":\"white\",\"linecolor\":\"white\",\"ticks\":\"\"},\"caxis\":{\"gridcolor\":\"white\",\"linecolor\":\"white\",\"ticks\":\"\"}},\"coloraxis\":{\"colorbar\":{\"outlinewidth\":0,\"ticks\":\"\"}},\"colorscale\":{\"sequential\":[[0.0,\"#0d0887\"],[0.1111111111111111,\"#46039f\"],[0.2222222222222222,\"#7201a8\"],[0.3333333333333333,\"#9c179e\"],[0.4444444444444444,\"#bd3786\"],[0.5555555555555556,\"#d8576b\"],[0.6666666666666666,\"#ed7953\"],[0.7777777777777778,\"#fb9f3a\"],[0.8888888888888888,\"#fdca26\"],[1.0,\"#f0f921\"]],\"sequentialminus\":[[0.0,\"#0d0887\"],[0.1111111111111111,\"#46039f\"],[0.2222222222222222,\"#7201a8\"],[0.3333333333333333,\"#9c179e\"],[0.4444444444444444,\"#bd3786\"],[0.5555555555555556,\"#d8576b\"],[0.6666666666666666,\"#ed7953\"],[0.7777777777777778,\"#fb9f3a\"],[0.8888888888888888,\"#fdca26\"],[1.0,\"#f0f921\"]],\"diverging\":[[0,\"#8e0152\"],[0.1,\"#c51b7d\"],[0.2,\"#de77ae\"],[0.3,\"#f1b6da\"],[0.4,\"#fde0ef\"],[0.5,\"#f7f7f7\"],[0.6,\"#e6f5d0\"],[0.7,\"#b8e186\"],[0.8,\"#7fbc41\"],[0.9,\"#4d9221\"],[1,\"#276419\"]]},\"xaxis\":{\"gridcolor\":\"white\",\"linecolor\":\"white\",\"ticks\":\"\",\"title\":{\"standoff\":15},\"zerolinecolor\":\"white\",\"automargin\":true,\"zerolinewidth\":2},\"yaxis\":{\"gridcolor\":\"white\",\"linecolor\":\"white\",\"ticks\":\"\",\"title\":{\"standoff\":15},\"zerolinecolor\":\"white\",\"automargin\":true,\"zerolinewidth\":2},\"scene\":{\"xaxis\":{\"backgroundcolor\":\"#E5ECF6\",\"gridcolor\":\"white\",\"linecolor\":\"white\",\"showbackground\":true,\"ticks\":\"\",\"zerolinecolor\":\"white\",\"gridwidth\":2},\"yaxis\":{\"backgroundcolor\":\"#E5ECF6\",\"gridcolor\":\"white\",\"linecolor\":\"white\",\"showbackground\":true,\"ticks\":\"\",\"zerolinecolor\":\"white\",\"gridwidth\":2},\"zaxis\":{\"backgroundcolor\":\"#E5ECF6\",\"gridcolor\":\"white\",\"linecolor\":\"white\",\"showbackground\":true,\"ticks\":\"\",\"zerolinecolor\":\"white\",\"gridwidth\":2}},\"shapedefaults\":{\"line\":{\"color\":\"#2a3f5f\"}},\"annotationdefaults\":{\"arrowcolor\":\"#2a3f5f\",\"arrowhead\":0,\"arrowwidth\":1},\"geo\":{\"bgcolor\":\"white\",\"landcolor\":\"#E5ECF6\",\"subunitcolor\":\"white\",\"showland\":true,\"showlakes\":true,\"lakecolor\":\"white\"},\"title\":{\"x\":0.05},\"mapbox\":{\"style\":\"light\"}}}},                        {\"responsive\": true}                    ).then(function(){\n",
              "                            \n",
              "var gd = document.getElementById('eb85f6aa-3d0b-4966-8edc-4e498b4c85fe');\n",
              "var x = new MutationObserver(function (mutations, observer) {{\n",
              "        var display = window.getComputedStyle(gd).display;\n",
              "        if (!display || display === 'none') {{\n",
              "            console.log([gd, 'removed!']);\n",
              "            Plotly.purge(gd);\n",
              "            observer.disconnect();\n",
              "        }}\n",
              "}});\n",
              "\n",
              "// Listen for the removal of the full notebook cells\n",
              "var notebookContainer = gd.closest('#notebook-container');\n",
              "if (notebookContainer) {{\n",
              "    x.observe(notebookContainer, {childList: true});\n",
              "}}\n",
              "\n",
              "// Listen for the clearing of the current output cell\n",
              "var outputEl = gd.closest('.output');\n",
              "if (outputEl) {{\n",
              "    x.observe(outputEl, {childList: true});\n",
              "}}\n",
              "\n",
              "                        })                };                            </script>        </div>\n",
              "</body>\n",
              "</html>"
            ]
          },
          "metadata": {},
          "output_type": "display_data"
        },
        {
          "data": {
            "text/html": [
              "<html>\n",
              "<head><meta charset=\"utf-8\" /></head>\n",
              "<body>\n",
              "    <div>            <script src=\"https://cdnjs.cloudflare.com/ajax/libs/mathjax/2.7.5/MathJax.js?config=TeX-AMS-MML_SVG\"></script><script type=\"text/javascript\">if (window.MathJax && window.MathJax.Hub && window.MathJax.Hub.Config) {window.MathJax.Hub.Config({SVG: {font: \"STIX-Web\"}});}</script>                <script type=\"text/javascript\">window.PlotlyConfig = {MathJaxConfig: 'local'};</script>\n",
              "        <script charset=\"utf-8\" src=\"https://cdn.plot.ly/plotly-2.24.1.min.js\"></script>                <div id=\"b1bb30eb-0014-4feb-8c40-9cebe89efa1c\" class=\"plotly-graph-div\" style=\"height:525px; width:100%;\"></div>            <script type=\"text/javascript\">                                    window.PLOTLYENV=window.PLOTLYENV || {};                                    if (document.getElementById(\"b1bb30eb-0014-4feb-8c40-9cebe89efa1c\")) {                    Plotly.newPlot(                        \"b1bb30eb-0014-4feb-8c40-9cebe89efa1c\",                        [{\"cliponaxis\":false,\"hovertemplate\":[\"epochs (IntDistribution): 0.01637069611954526\\u003cextra\\u003e\\u003c\\u002fextra\\u003e\",\"dropout_rate (FloatDistribution): 0.06531824009488098\\u003cextra\\u003e\\u003c\\u002fextra\\u003e\",\"batch_size (IntDistribution): 0.08656280899448876\\u003cextra\\u003e\\u003c\\u002fextra\\u003e\",\"units (IntDistribution): 0.831748254791085\\u003cextra\\u003e\\u003c\\u002fextra\\u003e\"],\"name\":\"Objective Value\",\"orientation\":\"h\",\"text\":[\"0.02\",\"0.07\",\"0.09\",\"0.83\"],\"textposition\":\"outside\",\"x\":[0.01637069611954526,0.06531824009488098,0.08656280899448876,0.831748254791085],\"y\":[\"epochs\",\"dropout_rate\",\"batch_size\",\"units\"],\"type\":\"bar\"}],                        {\"title\":{\"text\":\"Hyperparameter Importances\"},\"xaxis\":{\"title\":{\"text\":\"Hyperparameter Importance\"}},\"yaxis\":{\"title\":{\"text\":\"Hyperparameter\"}},\"template\":{\"data\":{\"histogram2dcontour\":[{\"type\":\"histogram2dcontour\",\"colorbar\":{\"outlinewidth\":0,\"ticks\":\"\"},\"colorscale\":[[0.0,\"#0d0887\"],[0.1111111111111111,\"#46039f\"],[0.2222222222222222,\"#7201a8\"],[0.3333333333333333,\"#9c179e\"],[0.4444444444444444,\"#bd3786\"],[0.5555555555555556,\"#d8576b\"],[0.6666666666666666,\"#ed7953\"],[0.7777777777777778,\"#fb9f3a\"],[0.8888888888888888,\"#fdca26\"],[1.0,\"#f0f921\"]]}],\"choropleth\":[{\"type\":\"choropleth\",\"colorbar\":{\"outlinewidth\":0,\"ticks\":\"\"}}],\"histogram2d\":[{\"type\":\"histogram2d\",\"colorbar\":{\"outlinewidth\":0,\"ticks\":\"\"},\"colorscale\":[[0.0,\"#0d0887\"],[0.1111111111111111,\"#46039f\"],[0.2222222222222222,\"#7201a8\"],[0.3333333333333333,\"#9c179e\"],[0.4444444444444444,\"#bd3786\"],[0.5555555555555556,\"#d8576b\"],[0.6666666666666666,\"#ed7953\"],[0.7777777777777778,\"#fb9f3a\"],[0.8888888888888888,\"#fdca26\"],[1.0,\"#f0f921\"]]}],\"heatmap\":[{\"type\":\"heatmap\",\"colorbar\":{\"outlinewidth\":0,\"ticks\":\"\"},\"colorscale\":[[0.0,\"#0d0887\"],[0.1111111111111111,\"#46039f\"],[0.2222222222222222,\"#7201a8\"],[0.3333333333333333,\"#9c179e\"],[0.4444444444444444,\"#bd3786\"],[0.5555555555555556,\"#d8576b\"],[0.6666666666666666,\"#ed7953\"],[0.7777777777777778,\"#fb9f3a\"],[0.8888888888888888,\"#fdca26\"],[1.0,\"#f0f921\"]]}],\"heatmapgl\":[{\"type\":\"heatmapgl\",\"colorbar\":{\"outlinewidth\":0,\"ticks\":\"\"},\"colorscale\":[[0.0,\"#0d0887\"],[0.1111111111111111,\"#46039f\"],[0.2222222222222222,\"#7201a8\"],[0.3333333333333333,\"#9c179e\"],[0.4444444444444444,\"#bd3786\"],[0.5555555555555556,\"#d8576b\"],[0.6666666666666666,\"#ed7953\"],[0.7777777777777778,\"#fb9f3a\"],[0.8888888888888888,\"#fdca26\"],[1.0,\"#f0f921\"]]}],\"contourcarpet\":[{\"type\":\"contourcarpet\",\"colorbar\":{\"outlinewidth\":0,\"ticks\":\"\"}}],\"contour\":[{\"type\":\"contour\",\"colorbar\":{\"outlinewidth\":0,\"ticks\":\"\"},\"colorscale\":[[0.0,\"#0d0887\"],[0.1111111111111111,\"#46039f\"],[0.2222222222222222,\"#7201a8\"],[0.3333333333333333,\"#9c179e\"],[0.4444444444444444,\"#bd3786\"],[0.5555555555555556,\"#d8576b\"],[0.6666666666666666,\"#ed7953\"],[0.7777777777777778,\"#fb9f3a\"],[0.8888888888888888,\"#fdca26\"],[1.0,\"#f0f921\"]]}],\"surface\":[{\"type\":\"surface\",\"colorbar\":{\"outlinewidth\":0,\"ticks\":\"\"},\"colorscale\":[[0.0,\"#0d0887\"],[0.1111111111111111,\"#46039f\"],[0.2222222222222222,\"#7201a8\"],[0.3333333333333333,\"#9c179e\"],[0.4444444444444444,\"#bd3786\"],[0.5555555555555556,\"#d8576b\"],[0.6666666666666666,\"#ed7953\"],[0.7777777777777778,\"#fb9f3a\"],[0.8888888888888888,\"#fdca26\"],[1.0,\"#f0f921\"]]}],\"mesh3d\":[{\"type\":\"mesh3d\",\"colorbar\":{\"outlinewidth\":0,\"ticks\":\"\"}}],\"scatter\":[{\"fillpattern\":{\"fillmode\":\"overlay\",\"size\":10,\"solidity\":0.2},\"type\":\"scatter\"}],\"parcoords\":[{\"type\":\"parcoords\",\"line\":{\"colorbar\":{\"outlinewidth\":0,\"ticks\":\"\"}}}],\"scatterpolargl\":[{\"type\":\"scatterpolargl\",\"marker\":{\"colorbar\":{\"outlinewidth\":0,\"ticks\":\"\"}}}],\"bar\":[{\"error_x\":{\"color\":\"#2a3f5f\"},\"error_y\":{\"color\":\"#2a3f5f\"},\"marker\":{\"line\":{\"color\":\"#E5ECF6\",\"width\":0.5},\"pattern\":{\"fillmode\":\"overlay\",\"size\":10,\"solidity\":0.2}},\"type\":\"bar\"}],\"scattergeo\":[{\"type\":\"scattergeo\",\"marker\":{\"colorbar\":{\"outlinewidth\":0,\"ticks\":\"\"}}}],\"scatterpolar\":[{\"type\":\"scatterpolar\",\"marker\":{\"colorbar\":{\"outlinewidth\":0,\"ticks\":\"\"}}}],\"histogram\":[{\"marker\":{\"pattern\":{\"fillmode\":\"overlay\",\"size\":10,\"solidity\":0.2}},\"type\":\"histogram\"}],\"scattergl\":[{\"type\":\"scattergl\",\"marker\":{\"colorbar\":{\"outlinewidth\":0,\"ticks\":\"\"}}}],\"scatter3d\":[{\"type\":\"scatter3d\",\"line\":{\"colorbar\":{\"outlinewidth\":0,\"ticks\":\"\"}},\"marker\":{\"colorbar\":{\"outlinewidth\":0,\"ticks\":\"\"}}}],\"scattermapbox\":[{\"type\":\"scattermapbox\",\"marker\":{\"colorbar\":{\"outlinewidth\":0,\"ticks\":\"\"}}}],\"scatterternary\":[{\"type\":\"scatterternary\",\"marker\":{\"colorbar\":{\"outlinewidth\":0,\"ticks\":\"\"}}}],\"scattercarpet\":[{\"type\":\"scattercarpet\",\"marker\":{\"colorbar\":{\"outlinewidth\":0,\"ticks\":\"\"}}}],\"carpet\":[{\"aaxis\":{\"endlinecolor\":\"#2a3f5f\",\"gridcolor\":\"white\",\"linecolor\":\"white\",\"minorgridcolor\":\"white\",\"startlinecolor\":\"#2a3f5f\"},\"baxis\":{\"endlinecolor\":\"#2a3f5f\",\"gridcolor\":\"white\",\"linecolor\":\"white\",\"minorgridcolor\":\"white\",\"startlinecolor\":\"#2a3f5f\"},\"type\":\"carpet\"}],\"table\":[{\"cells\":{\"fill\":{\"color\":\"#EBF0F8\"},\"line\":{\"color\":\"white\"}},\"header\":{\"fill\":{\"color\":\"#C8D4E3\"},\"line\":{\"color\":\"white\"}},\"type\":\"table\"}],\"barpolar\":[{\"marker\":{\"line\":{\"color\":\"#E5ECF6\",\"width\":0.5},\"pattern\":{\"fillmode\":\"overlay\",\"size\":10,\"solidity\":0.2}},\"type\":\"barpolar\"}],\"pie\":[{\"automargin\":true,\"type\":\"pie\"}]},\"layout\":{\"autotypenumbers\":\"strict\",\"colorway\":[\"#636efa\",\"#EF553B\",\"#00cc96\",\"#ab63fa\",\"#FFA15A\",\"#19d3f3\",\"#FF6692\",\"#B6E880\",\"#FF97FF\",\"#FECB52\"],\"font\":{\"color\":\"#2a3f5f\"},\"hovermode\":\"closest\",\"hoverlabel\":{\"align\":\"left\"},\"paper_bgcolor\":\"white\",\"plot_bgcolor\":\"#E5ECF6\",\"polar\":{\"bgcolor\":\"#E5ECF6\",\"angularaxis\":{\"gridcolor\":\"white\",\"linecolor\":\"white\",\"ticks\":\"\"},\"radialaxis\":{\"gridcolor\":\"white\",\"linecolor\":\"white\",\"ticks\":\"\"}},\"ternary\":{\"bgcolor\":\"#E5ECF6\",\"aaxis\":{\"gridcolor\":\"white\",\"linecolor\":\"white\",\"ticks\":\"\"},\"baxis\":{\"gridcolor\":\"white\",\"linecolor\":\"white\",\"ticks\":\"\"},\"caxis\":{\"gridcolor\":\"white\",\"linecolor\":\"white\",\"ticks\":\"\"}},\"coloraxis\":{\"colorbar\":{\"outlinewidth\":0,\"ticks\":\"\"}},\"colorscale\":{\"sequential\":[[0.0,\"#0d0887\"],[0.1111111111111111,\"#46039f\"],[0.2222222222222222,\"#7201a8\"],[0.3333333333333333,\"#9c179e\"],[0.4444444444444444,\"#bd3786\"],[0.5555555555555556,\"#d8576b\"],[0.6666666666666666,\"#ed7953\"],[0.7777777777777778,\"#fb9f3a\"],[0.8888888888888888,\"#fdca26\"],[1.0,\"#f0f921\"]],\"sequentialminus\":[[0.0,\"#0d0887\"],[0.1111111111111111,\"#46039f\"],[0.2222222222222222,\"#7201a8\"],[0.3333333333333333,\"#9c179e\"],[0.4444444444444444,\"#bd3786\"],[0.5555555555555556,\"#d8576b\"],[0.6666666666666666,\"#ed7953\"],[0.7777777777777778,\"#fb9f3a\"],[0.8888888888888888,\"#fdca26\"],[1.0,\"#f0f921\"]],\"diverging\":[[0,\"#8e0152\"],[0.1,\"#c51b7d\"],[0.2,\"#de77ae\"],[0.3,\"#f1b6da\"],[0.4,\"#fde0ef\"],[0.5,\"#f7f7f7\"],[0.6,\"#e6f5d0\"],[0.7,\"#b8e186\"],[0.8,\"#7fbc41\"],[0.9,\"#4d9221\"],[1,\"#276419\"]]},\"xaxis\":{\"gridcolor\":\"white\",\"linecolor\":\"white\",\"ticks\":\"\",\"title\":{\"standoff\":15},\"zerolinecolor\":\"white\",\"automargin\":true,\"zerolinewidth\":2},\"yaxis\":{\"gridcolor\":\"white\",\"linecolor\":\"white\",\"ticks\":\"\",\"title\":{\"standoff\":15},\"zerolinecolor\":\"white\",\"automargin\":true,\"zerolinewidth\":2},\"scene\":{\"xaxis\":{\"backgroundcolor\":\"#E5ECF6\",\"gridcolor\":\"white\",\"linecolor\":\"white\",\"showbackground\":true,\"ticks\":\"\",\"zerolinecolor\":\"white\",\"gridwidth\":2},\"yaxis\":{\"backgroundcolor\":\"#E5ECF6\",\"gridcolor\":\"white\",\"linecolor\":\"white\",\"showbackground\":true,\"ticks\":\"\",\"zerolinecolor\":\"white\",\"gridwidth\":2},\"zaxis\":{\"backgroundcolor\":\"#E5ECF6\",\"gridcolor\":\"white\",\"linecolor\":\"white\",\"showbackground\":true,\"ticks\":\"\",\"zerolinecolor\":\"white\",\"gridwidth\":2}},\"shapedefaults\":{\"line\":{\"color\":\"#2a3f5f\"}},\"annotationdefaults\":{\"arrowcolor\":\"#2a3f5f\",\"arrowhead\":0,\"arrowwidth\":1},\"geo\":{\"bgcolor\":\"white\",\"landcolor\":\"#E5ECF6\",\"subunitcolor\":\"white\",\"showland\":true,\"showlakes\":true,\"lakecolor\":\"white\"},\"title\":{\"x\":0.05},\"mapbox\":{\"style\":\"light\"}}}},                        {\"responsive\": true}                    ).then(function(){\n",
              "                            \n",
              "var gd = document.getElementById('b1bb30eb-0014-4feb-8c40-9cebe89efa1c');\n",
              "var x = new MutationObserver(function (mutations, observer) {{\n",
              "        var display = window.getComputedStyle(gd).display;\n",
              "        if (!display || display === 'none') {{\n",
              "            console.log([gd, 'removed!']);\n",
              "            Plotly.purge(gd);\n",
              "            observer.disconnect();\n",
              "        }}\n",
              "}});\n",
              "\n",
              "// Listen for the removal of the full notebook cells\n",
              "var notebookContainer = gd.closest('#notebook-container');\n",
              "if (notebookContainer) {{\n",
              "    x.observe(notebookContainer, {childList: true});\n",
              "}}\n",
              "\n",
              "// Listen for the clearing of the current output cell\n",
              "var outputEl = gd.closest('.output');\n",
              "if (outputEl) {{\n",
              "    x.observe(outputEl, {childList: true});\n",
              "}}\n",
              "\n",
              "                        })                };                            </script>        </div>\n",
              "</body>\n",
              "</html>"
            ]
          },
          "metadata": {},
          "output_type": "display_data"
        },
        {
          "name": "stderr",
          "output_type": "stream",
          "text": [
            "[I 2024-07-15 16:27:18,320] A new study created in memory with name: no-name-fd163bbc-62ad-4092-b588-9465a06bf6c8\n"
          ]
        },
        {
          "name": "stdout",
          "output_type": "stream",
          "text": [
            "Optimizing CNN for input combination: all_angles_and_vgrf\n",
            "300/300 [==============================] - 1s 2ms/step\n"
          ]
        },
        {
          "name": "stderr",
          "output_type": "stream",
          "text": [
            "[I 2024-07-15 16:28:42,471] Trial 0 finished with value: 0.014617986203548856 and parameters: {'units': 56, 'dropout_rate': 0.470073170281776, 'epochs': 46, 'batch_size': 108}. Best is trial 0 with value: 0.014617986203548856.\n"
          ]
        },
        {
          "name": "stdout",
          "output_type": "stream",
          "text": [
            "300/300 [==============================] - 1s 2ms/step\n"
          ]
        },
        {
          "name": "stderr",
          "output_type": "stream",
          "text": [
            "[I 2024-07-15 16:31:08,169] Trial 1 finished with value: 0.01456654109769398 and parameters: {'units': 50, 'dropout_rate': 0.48685534575308775, 'epochs': 45, 'batch_size': 55}. Best is trial 1 with value: 0.01456654109769398.\n"
          ]
        },
        {
          "name": "stdout",
          "output_type": "stream",
          "text": [
            "300/300 [==============================] - 1s 2ms/step\n"
          ]
        },
        {
          "name": "stderr",
          "output_type": "stream",
          "text": [
            "[I 2024-07-15 16:31:51,303] Trial 2 finished with value: 0.0207012267155166 and parameters: {'units': 26, 'dropout_rate': 0.2721203696541502, 'epochs': 15, 'batch_size': 40}. Best is trial 1 with value: 0.01456654109769398.\n"
          ]
        },
        {
          "name": "stdout",
          "output_type": "stream",
          "text": [
            "300/300 [==============================] - 1s 2ms/step\n"
          ]
        },
        {
          "name": "stderr",
          "output_type": "stream",
          "text": [
            "[I 2024-07-15 16:32:30,681] Trial 3 finished with value: 0.01787377501310346 and parameters: {'units': 71, 'dropout_rate': 0.4196851158459882, 'epochs': 19, 'batch_size': 80}. Best is trial 1 with value: 0.01456654109769398.\n"
          ]
        },
        {
          "name": "stdout",
          "output_type": "stream",
          "text": [
            "300/300 [==============================] - 1s 2ms/step\n"
          ]
        },
        {
          "name": "stderr",
          "output_type": "stream",
          "text": [
            "[I 2024-07-15 16:35:55,573] Trial 4 finished with value: 0.011235552231079722 and parameters: {'units': 94, 'dropout_rate': 0.1844123524786388, 'epochs': 47, 'batch_size': 43}. Best is trial 4 with value: 0.011235552231079722.\n"
          ]
        },
        {
          "name": "stdout",
          "output_type": "stream",
          "text": [
            "300/300 [==============================] - 1s 3ms/step\n"
          ]
        },
        {
          "name": "stderr",
          "output_type": "stream",
          "text": [
            "[I 2024-07-15 16:38:20,822] Trial 5 finished with value: 0.01443304388795407 and parameters: {'units': 70, 'dropout_rate': 0.4848227356200935, 'epochs': 28, 'batch_size': 36}. Best is trial 4 with value: 0.011235552231079722.\n"
          ]
        },
        {
          "name": "stdout",
          "output_type": "stream",
          "text": [
            "300/300 [==============================] - 1s 2ms/step\n"
          ]
        },
        {
          "name": "stderr",
          "output_type": "stream",
          "text": [
            "[I 2024-07-15 16:39:04,103] Trial 6 finished with value: 0.0150904013957601 and parameters: {'units': 69, 'dropout_rate': 0.27199119445557485, 'epochs': 22, 'batch_size': 123}. Best is trial 4 with value: 0.011235552231079722.\n"
          ]
        },
        {
          "name": "stdout",
          "output_type": "stream",
          "text": [
            "300/300 [==============================] - 1s 2ms/step\n"
          ]
        },
        {
          "name": "stderr",
          "output_type": "stream",
          "text": [
            "[I 2024-07-15 16:39:47,959] Trial 7 finished with value: 0.053307154432615945 and parameters: {'units': 25, 'dropout_rate': 0.2149635629470728, 'epochs': 22, 'batch_size': 124}. Best is trial 4 with value: 0.011235552231079722.\n"
          ]
        },
        {
          "name": "stdout",
          "output_type": "stream",
          "text": [
            "300/300 [==============================] - 1s 2ms/step\n"
          ]
        },
        {
          "name": "stderr",
          "output_type": "stream",
          "text": [
            "[I 2024-07-15 16:40:55,657] Trial 8 finished with value: 0.02704121635152391 and parameters: {'units': 29, 'dropout_rate': 0.24597480439526942, 'epochs': 33, 'batch_size': 51}. Best is trial 4 with value: 0.011235552231079722.\n"
          ]
        },
        {
          "name": "stdout",
          "output_type": "stream",
          "text": [
            "300/300 [==============================] - 1s 2ms/step\n"
          ]
        },
        {
          "name": "stderr",
          "output_type": "stream",
          "text": [
            "[I 2024-07-15 16:41:17,275] Trial 9 finished with value: 0.02095102518132376 and parameters: {'units': 87, 'dropout_rate': 0.33570593849988106, 'epochs': 10, 'batch_size': 105}. Best is trial 4 with value: 0.011235552231079722.\n"
          ]
        },
        {
          "name": "stdout",
          "output_type": "stream",
          "text": [
            "Best trial for cnn with input all_angles_and_vgrf:\n",
            "  Value: 0.011235552231079722\n",
            "  Params: \n",
            "    units: 94\n",
            "    dropout_rate: 0.1844123524786388\n",
            "    epochs: 47\n",
            "    batch_size: 43\n"
          ]
        },
        {
          "data": {
            "text/html": [
              "<html>\n",
              "<head><meta charset=\"utf-8\" /></head>\n",
              "<body>\n",
              "    <div>            <script src=\"https://cdnjs.cloudflare.com/ajax/libs/mathjax/2.7.5/MathJax.js?config=TeX-AMS-MML_SVG\"></script><script type=\"text/javascript\">if (window.MathJax && window.MathJax.Hub && window.MathJax.Hub.Config) {window.MathJax.Hub.Config({SVG: {font: \"STIX-Web\"}});}</script>                <script type=\"text/javascript\">window.PlotlyConfig = {MathJaxConfig: 'local'};</script>\n",
              "        <script charset=\"utf-8\" src=\"https://cdn.plot.ly/plotly-2.24.1.min.js\"></script>                <div id=\"1eca4f4c-f732-4d3c-860f-0b2cf4e6816a\" class=\"plotly-graph-div\" style=\"height:525px; width:100%;\"></div>            <script type=\"text/javascript\">                                    window.PLOTLYENV=window.PLOTLYENV || {};                                    if (document.getElementById(\"1eca4f4c-f732-4d3c-860f-0b2cf4e6816a\")) {                    Plotly.newPlot(                        \"1eca4f4c-f732-4d3c-860f-0b2cf4e6816a\",                        [{\"mode\":\"markers\",\"name\":\"Objective Value\",\"x\":[0,1,2,3,4,5,6,7,8,9],\"y\":[0.014617986203548856,0.01456654109769398,0.0207012267155166,0.01787377501310346,0.011235552231079722,0.01443304388795407,0.0150904013957601,0.053307154432615945,0.02704121635152391,0.02095102518132376],\"type\":\"scatter\"},{\"mode\":\"lines\",\"name\":\"Best Value\",\"x\":[0,1,2,3,4,5,6,7,8,9],\"y\":[0.014617986203548856,0.01456654109769398,0.01456654109769398,0.01456654109769398,0.011235552231079722,0.011235552231079722,0.011235552231079722,0.011235552231079722,0.011235552231079722,0.011235552231079722],\"type\":\"scatter\"},{\"marker\":{\"color\":\"#cccccc\"},\"mode\":\"markers\",\"name\":\"Infeasible Trial\",\"showlegend\":false,\"x\":[],\"y\":[],\"type\":\"scatter\"}],                        {\"title\":{\"text\":\"Optimization History Plot\"},\"xaxis\":{\"title\":{\"text\":\"Trial\"}},\"yaxis\":{\"title\":{\"text\":\"Objective Value\"}},\"template\":{\"data\":{\"histogram2dcontour\":[{\"type\":\"histogram2dcontour\",\"colorbar\":{\"outlinewidth\":0,\"ticks\":\"\"},\"colorscale\":[[0.0,\"#0d0887\"],[0.1111111111111111,\"#46039f\"],[0.2222222222222222,\"#7201a8\"],[0.3333333333333333,\"#9c179e\"],[0.4444444444444444,\"#bd3786\"],[0.5555555555555556,\"#d8576b\"],[0.6666666666666666,\"#ed7953\"],[0.7777777777777778,\"#fb9f3a\"],[0.8888888888888888,\"#fdca26\"],[1.0,\"#f0f921\"]]}],\"choropleth\":[{\"type\":\"choropleth\",\"colorbar\":{\"outlinewidth\":0,\"ticks\":\"\"}}],\"histogram2d\":[{\"type\":\"histogram2d\",\"colorbar\":{\"outlinewidth\":0,\"ticks\":\"\"},\"colorscale\":[[0.0,\"#0d0887\"],[0.1111111111111111,\"#46039f\"],[0.2222222222222222,\"#7201a8\"],[0.3333333333333333,\"#9c179e\"],[0.4444444444444444,\"#bd3786\"],[0.5555555555555556,\"#d8576b\"],[0.6666666666666666,\"#ed7953\"],[0.7777777777777778,\"#fb9f3a\"],[0.8888888888888888,\"#fdca26\"],[1.0,\"#f0f921\"]]}],\"heatmap\":[{\"type\":\"heatmap\",\"colorbar\":{\"outlinewidth\":0,\"ticks\":\"\"},\"colorscale\":[[0.0,\"#0d0887\"],[0.1111111111111111,\"#46039f\"],[0.2222222222222222,\"#7201a8\"],[0.3333333333333333,\"#9c179e\"],[0.4444444444444444,\"#bd3786\"],[0.5555555555555556,\"#d8576b\"],[0.6666666666666666,\"#ed7953\"],[0.7777777777777778,\"#fb9f3a\"],[0.8888888888888888,\"#fdca26\"],[1.0,\"#f0f921\"]]}],\"heatmapgl\":[{\"type\":\"heatmapgl\",\"colorbar\":{\"outlinewidth\":0,\"ticks\":\"\"},\"colorscale\":[[0.0,\"#0d0887\"],[0.1111111111111111,\"#46039f\"],[0.2222222222222222,\"#7201a8\"],[0.3333333333333333,\"#9c179e\"],[0.4444444444444444,\"#bd3786\"],[0.5555555555555556,\"#d8576b\"],[0.6666666666666666,\"#ed7953\"],[0.7777777777777778,\"#fb9f3a\"],[0.8888888888888888,\"#fdca26\"],[1.0,\"#f0f921\"]]}],\"contourcarpet\":[{\"type\":\"contourcarpet\",\"colorbar\":{\"outlinewidth\":0,\"ticks\":\"\"}}],\"contour\":[{\"type\":\"contour\",\"colorbar\":{\"outlinewidth\":0,\"ticks\":\"\"},\"colorscale\":[[0.0,\"#0d0887\"],[0.1111111111111111,\"#46039f\"],[0.2222222222222222,\"#7201a8\"],[0.3333333333333333,\"#9c179e\"],[0.4444444444444444,\"#bd3786\"],[0.5555555555555556,\"#d8576b\"],[0.6666666666666666,\"#ed7953\"],[0.7777777777777778,\"#fb9f3a\"],[0.8888888888888888,\"#fdca26\"],[1.0,\"#f0f921\"]]}],\"surface\":[{\"type\":\"surface\",\"colorbar\":{\"outlinewidth\":0,\"ticks\":\"\"},\"colorscale\":[[0.0,\"#0d0887\"],[0.1111111111111111,\"#46039f\"],[0.2222222222222222,\"#7201a8\"],[0.3333333333333333,\"#9c179e\"],[0.4444444444444444,\"#bd3786\"],[0.5555555555555556,\"#d8576b\"],[0.6666666666666666,\"#ed7953\"],[0.7777777777777778,\"#fb9f3a\"],[0.8888888888888888,\"#fdca26\"],[1.0,\"#f0f921\"]]}],\"mesh3d\":[{\"type\":\"mesh3d\",\"colorbar\":{\"outlinewidth\":0,\"ticks\":\"\"}}],\"scatter\":[{\"fillpattern\":{\"fillmode\":\"overlay\",\"size\":10,\"solidity\":0.2},\"type\":\"scatter\"}],\"parcoords\":[{\"type\":\"parcoords\",\"line\":{\"colorbar\":{\"outlinewidth\":0,\"ticks\":\"\"}}}],\"scatterpolargl\":[{\"type\":\"scatterpolargl\",\"marker\":{\"colorbar\":{\"outlinewidth\":0,\"ticks\":\"\"}}}],\"bar\":[{\"error_x\":{\"color\":\"#2a3f5f\"},\"error_y\":{\"color\":\"#2a3f5f\"},\"marker\":{\"line\":{\"color\":\"#E5ECF6\",\"width\":0.5},\"pattern\":{\"fillmode\":\"overlay\",\"size\":10,\"solidity\":0.2}},\"type\":\"bar\"}],\"scattergeo\":[{\"type\":\"scattergeo\",\"marker\":{\"colorbar\":{\"outlinewidth\":0,\"ticks\":\"\"}}}],\"scatterpolar\":[{\"type\":\"scatterpolar\",\"marker\":{\"colorbar\":{\"outlinewidth\":0,\"ticks\":\"\"}}}],\"histogram\":[{\"marker\":{\"pattern\":{\"fillmode\":\"overlay\",\"size\":10,\"solidity\":0.2}},\"type\":\"histogram\"}],\"scattergl\":[{\"type\":\"scattergl\",\"marker\":{\"colorbar\":{\"outlinewidth\":0,\"ticks\":\"\"}}}],\"scatter3d\":[{\"type\":\"scatter3d\",\"line\":{\"colorbar\":{\"outlinewidth\":0,\"ticks\":\"\"}},\"marker\":{\"colorbar\":{\"outlinewidth\":0,\"ticks\":\"\"}}}],\"scattermapbox\":[{\"type\":\"scattermapbox\",\"marker\":{\"colorbar\":{\"outlinewidth\":0,\"ticks\":\"\"}}}],\"scatterternary\":[{\"type\":\"scatterternary\",\"marker\":{\"colorbar\":{\"outlinewidth\":0,\"ticks\":\"\"}}}],\"scattercarpet\":[{\"type\":\"scattercarpet\",\"marker\":{\"colorbar\":{\"outlinewidth\":0,\"ticks\":\"\"}}}],\"carpet\":[{\"aaxis\":{\"endlinecolor\":\"#2a3f5f\",\"gridcolor\":\"white\",\"linecolor\":\"white\",\"minorgridcolor\":\"white\",\"startlinecolor\":\"#2a3f5f\"},\"baxis\":{\"endlinecolor\":\"#2a3f5f\",\"gridcolor\":\"white\",\"linecolor\":\"white\",\"minorgridcolor\":\"white\",\"startlinecolor\":\"#2a3f5f\"},\"type\":\"carpet\"}],\"table\":[{\"cells\":{\"fill\":{\"color\":\"#EBF0F8\"},\"line\":{\"color\":\"white\"}},\"header\":{\"fill\":{\"color\":\"#C8D4E3\"},\"line\":{\"color\":\"white\"}},\"type\":\"table\"}],\"barpolar\":[{\"marker\":{\"line\":{\"color\":\"#E5ECF6\",\"width\":0.5},\"pattern\":{\"fillmode\":\"overlay\",\"size\":10,\"solidity\":0.2}},\"type\":\"barpolar\"}],\"pie\":[{\"automargin\":true,\"type\":\"pie\"}]},\"layout\":{\"autotypenumbers\":\"strict\",\"colorway\":[\"#636efa\",\"#EF553B\",\"#00cc96\",\"#ab63fa\",\"#FFA15A\",\"#19d3f3\",\"#FF6692\",\"#B6E880\",\"#FF97FF\",\"#FECB52\"],\"font\":{\"color\":\"#2a3f5f\"},\"hovermode\":\"closest\",\"hoverlabel\":{\"align\":\"left\"},\"paper_bgcolor\":\"white\",\"plot_bgcolor\":\"#E5ECF6\",\"polar\":{\"bgcolor\":\"#E5ECF6\",\"angularaxis\":{\"gridcolor\":\"white\",\"linecolor\":\"white\",\"ticks\":\"\"},\"radialaxis\":{\"gridcolor\":\"white\",\"linecolor\":\"white\",\"ticks\":\"\"}},\"ternary\":{\"bgcolor\":\"#E5ECF6\",\"aaxis\":{\"gridcolor\":\"white\",\"linecolor\":\"white\",\"ticks\":\"\"},\"baxis\":{\"gridcolor\":\"white\",\"linecolor\":\"white\",\"ticks\":\"\"},\"caxis\":{\"gridcolor\":\"white\",\"linecolor\":\"white\",\"ticks\":\"\"}},\"coloraxis\":{\"colorbar\":{\"outlinewidth\":0,\"ticks\":\"\"}},\"colorscale\":{\"sequential\":[[0.0,\"#0d0887\"],[0.1111111111111111,\"#46039f\"],[0.2222222222222222,\"#7201a8\"],[0.3333333333333333,\"#9c179e\"],[0.4444444444444444,\"#bd3786\"],[0.5555555555555556,\"#d8576b\"],[0.6666666666666666,\"#ed7953\"],[0.7777777777777778,\"#fb9f3a\"],[0.8888888888888888,\"#fdca26\"],[1.0,\"#f0f921\"]],\"sequentialminus\":[[0.0,\"#0d0887\"],[0.1111111111111111,\"#46039f\"],[0.2222222222222222,\"#7201a8\"],[0.3333333333333333,\"#9c179e\"],[0.4444444444444444,\"#bd3786\"],[0.5555555555555556,\"#d8576b\"],[0.6666666666666666,\"#ed7953\"],[0.7777777777777778,\"#fb9f3a\"],[0.8888888888888888,\"#fdca26\"],[1.0,\"#f0f921\"]],\"diverging\":[[0,\"#8e0152\"],[0.1,\"#c51b7d\"],[0.2,\"#de77ae\"],[0.3,\"#f1b6da\"],[0.4,\"#fde0ef\"],[0.5,\"#f7f7f7\"],[0.6,\"#e6f5d0\"],[0.7,\"#b8e186\"],[0.8,\"#7fbc41\"],[0.9,\"#4d9221\"],[1,\"#276419\"]]},\"xaxis\":{\"gridcolor\":\"white\",\"linecolor\":\"white\",\"ticks\":\"\",\"title\":{\"standoff\":15},\"zerolinecolor\":\"white\",\"automargin\":true,\"zerolinewidth\":2},\"yaxis\":{\"gridcolor\":\"white\",\"linecolor\":\"white\",\"ticks\":\"\",\"title\":{\"standoff\":15},\"zerolinecolor\":\"white\",\"automargin\":true,\"zerolinewidth\":2},\"scene\":{\"xaxis\":{\"backgroundcolor\":\"#E5ECF6\",\"gridcolor\":\"white\",\"linecolor\":\"white\",\"showbackground\":true,\"ticks\":\"\",\"zerolinecolor\":\"white\",\"gridwidth\":2},\"yaxis\":{\"backgroundcolor\":\"#E5ECF6\",\"gridcolor\":\"white\",\"linecolor\":\"white\",\"showbackground\":true,\"ticks\":\"\",\"zerolinecolor\":\"white\",\"gridwidth\":2},\"zaxis\":{\"backgroundcolor\":\"#E5ECF6\",\"gridcolor\":\"white\",\"linecolor\":\"white\",\"showbackground\":true,\"ticks\":\"\",\"zerolinecolor\":\"white\",\"gridwidth\":2}},\"shapedefaults\":{\"line\":{\"color\":\"#2a3f5f\"}},\"annotationdefaults\":{\"arrowcolor\":\"#2a3f5f\",\"arrowhead\":0,\"arrowwidth\":1},\"geo\":{\"bgcolor\":\"white\",\"landcolor\":\"#E5ECF6\",\"subunitcolor\":\"white\",\"showland\":true,\"showlakes\":true,\"lakecolor\":\"white\"},\"title\":{\"x\":0.05},\"mapbox\":{\"style\":\"light\"}}}},                        {\"responsive\": true}                    ).then(function(){\n",
              "                            \n",
              "var gd = document.getElementById('1eca4f4c-f732-4d3c-860f-0b2cf4e6816a');\n",
              "var x = new MutationObserver(function (mutations, observer) {{\n",
              "        var display = window.getComputedStyle(gd).display;\n",
              "        if (!display || display === 'none') {{\n",
              "            console.log([gd, 'removed!']);\n",
              "            Plotly.purge(gd);\n",
              "            observer.disconnect();\n",
              "        }}\n",
              "}});\n",
              "\n",
              "// Listen for the removal of the full notebook cells\n",
              "var notebookContainer = gd.closest('#notebook-container');\n",
              "if (notebookContainer) {{\n",
              "    x.observe(notebookContainer, {childList: true});\n",
              "}}\n",
              "\n",
              "// Listen for the clearing of the current output cell\n",
              "var outputEl = gd.closest('.output');\n",
              "if (outputEl) {{\n",
              "    x.observe(outputEl, {childList: true});\n",
              "}}\n",
              "\n",
              "                        })                };                            </script>        </div>\n",
              "</body>\n",
              "</html>"
            ]
          },
          "metadata": {},
          "output_type": "display_data"
        },
        {
          "data": {
            "text/html": [
              "<html>\n",
              "<head><meta charset=\"utf-8\" /></head>\n",
              "<body>\n",
              "    <div>            <script src=\"https://cdnjs.cloudflare.com/ajax/libs/mathjax/2.7.5/MathJax.js?config=TeX-AMS-MML_SVG\"></script><script type=\"text/javascript\">if (window.MathJax && window.MathJax.Hub && window.MathJax.Hub.Config) {window.MathJax.Hub.Config({SVG: {font: \"STIX-Web\"}});}</script>                <script type=\"text/javascript\">window.PlotlyConfig = {MathJaxConfig: 'local'};</script>\n",
              "        <script charset=\"utf-8\" src=\"https://cdn.plot.ly/plotly-2.24.1.min.js\"></script>                <div id=\"617ad108-d2d7-4020-bfc4-616a3d142587\" class=\"plotly-graph-div\" style=\"height:525px; width:100%;\"></div>            <script type=\"text/javascript\">                                    window.PLOTLYENV=window.PLOTLYENV || {};                                    if (document.getElementById(\"617ad108-d2d7-4020-bfc4-616a3d142587\")) {                    Plotly.newPlot(                        \"617ad108-d2d7-4020-bfc4-616a3d142587\",                        [{\"cliponaxis\":false,\"hovertemplate\":[\"dropout_rate (FloatDistribution): 0.11432101471478777\\u003cextra\\u003e\\u003c\\u002fextra\\u003e\",\"batch_size (IntDistribution): 0.16661813291462724\\u003cextra\\u003e\\u003c\\u002fextra\\u003e\",\"epochs (IntDistribution): 0.18545877247852313\\u003cextra\\u003e\\u003c\\u002fextra\\u003e\",\"units (IntDistribution): 0.5336020798920619\\u003cextra\\u003e\\u003c\\u002fextra\\u003e\"],\"name\":\"Objective Value\",\"orientation\":\"h\",\"text\":[\"0.11\",\"0.17\",\"0.19\",\"0.53\"],\"textposition\":\"outside\",\"x\":[0.11432101471478777,0.16661813291462724,0.18545877247852313,0.5336020798920619],\"y\":[\"dropout_rate\",\"batch_size\",\"epochs\",\"units\"],\"type\":\"bar\"}],                        {\"title\":{\"text\":\"Hyperparameter Importances\"},\"xaxis\":{\"title\":{\"text\":\"Hyperparameter Importance\"}},\"yaxis\":{\"title\":{\"text\":\"Hyperparameter\"}},\"template\":{\"data\":{\"histogram2dcontour\":[{\"type\":\"histogram2dcontour\",\"colorbar\":{\"outlinewidth\":0,\"ticks\":\"\"},\"colorscale\":[[0.0,\"#0d0887\"],[0.1111111111111111,\"#46039f\"],[0.2222222222222222,\"#7201a8\"],[0.3333333333333333,\"#9c179e\"],[0.4444444444444444,\"#bd3786\"],[0.5555555555555556,\"#d8576b\"],[0.6666666666666666,\"#ed7953\"],[0.7777777777777778,\"#fb9f3a\"],[0.8888888888888888,\"#fdca26\"],[1.0,\"#f0f921\"]]}],\"choropleth\":[{\"type\":\"choropleth\",\"colorbar\":{\"outlinewidth\":0,\"ticks\":\"\"}}],\"histogram2d\":[{\"type\":\"histogram2d\",\"colorbar\":{\"outlinewidth\":0,\"ticks\":\"\"},\"colorscale\":[[0.0,\"#0d0887\"],[0.1111111111111111,\"#46039f\"],[0.2222222222222222,\"#7201a8\"],[0.3333333333333333,\"#9c179e\"],[0.4444444444444444,\"#bd3786\"],[0.5555555555555556,\"#d8576b\"],[0.6666666666666666,\"#ed7953\"],[0.7777777777777778,\"#fb9f3a\"],[0.8888888888888888,\"#fdca26\"],[1.0,\"#f0f921\"]]}],\"heatmap\":[{\"type\":\"heatmap\",\"colorbar\":{\"outlinewidth\":0,\"ticks\":\"\"},\"colorscale\":[[0.0,\"#0d0887\"],[0.1111111111111111,\"#46039f\"],[0.2222222222222222,\"#7201a8\"],[0.3333333333333333,\"#9c179e\"],[0.4444444444444444,\"#bd3786\"],[0.5555555555555556,\"#d8576b\"],[0.6666666666666666,\"#ed7953\"],[0.7777777777777778,\"#fb9f3a\"],[0.8888888888888888,\"#fdca26\"],[1.0,\"#f0f921\"]]}],\"heatmapgl\":[{\"type\":\"heatmapgl\",\"colorbar\":{\"outlinewidth\":0,\"ticks\":\"\"},\"colorscale\":[[0.0,\"#0d0887\"],[0.1111111111111111,\"#46039f\"],[0.2222222222222222,\"#7201a8\"],[0.3333333333333333,\"#9c179e\"],[0.4444444444444444,\"#bd3786\"],[0.5555555555555556,\"#d8576b\"],[0.6666666666666666,\"#ed7953\"],[0.7777777777777778,\"#fb9f3a\"],[0.8888888888888888,\"#fdca26\"],[1.0,\"#f0f921\"]]}],\"contourcarpet\":[{\"type\":\"contourcarpet\",\"colorbar\":{\"outlinewidth\":0,\"ticks\":\"\"}}],\"contour\":[{\"type\":\"contour\",\"colorbar\":{\"outlinewidth\":0,\"ticks\":\"\"},\"colorscale\":[[0.0,\"#0d0887\"],[0.1111111111111111,\"#46039f\"],[0.2222222222222222,\"#7201a8\"],[0.3333333333333333,\"#9c179e\"],[0.4444444444444444,\"#bd3786\"],[0.5555555555555556,\"#d8576b\"],[0.6666666666666666,\"#ed7953\"],[0.7777777777777778,\"#fb9f3a\"],[0.8888888888888888,\"#fdca26\"],[1.0,\"#f0f921\"]]}],\"surface\":[{\"type\":\"surface\",\"colorbar\":{\"outlinewidth\":0,\"ticks\":\"\"},\"colorscale\":[[0.0,\"#0d0887\"],[0.1111111111111111,\"#46039f\"],[0.2222222222222222,\"#7201a8\"],[0.3333333333333333,\"#9c179e\"],[0.4444444444444444,\"#bd3786\"],[0.5555555555555556,\"#d8576b\"],[0.6666666666666666,\"#ed7953\"],[0.7777777777777778,\"#fb9f3a\"],[0.8888888888888888,\"#fdca26\"],[1.0,\"#f0f921\"]]}],\"mesh3d\":[{\"type\":\"mesh3d\",\"colorbar\":{\"outlinewidth\":0,\"ticks\":\"\"}}],\"scatter\":[{\"fillpattern\":{\"fillmode\":\"overlay\",\"size\":10,\"solidity\":0.2},\"type\":\"scatter\"}],\"parcoords\":[{\"type\":\"parcoords\",\"line\":{\"colorbar\":{\"outlinewidth\":0,\"ticks\":\"\"}}}],\"scatterpolargl\":[{\"type\":\"scatterpolargl\",\"marker\":{\"colorbar\":{\"outlinewidth\":0,\"ticks\":\"\"}}}],\"bar\":[{\"error_x\":{\"color\":\"#2a3f5f\"},\"error_y\":{\"color\":\"#2a3f5f\"},\"marker\":{\"line\":{\"color\":\"#E5ECF6\",\"width\":0.5},\"pattern\":{\"fillmode\":\"overlay\",\"size\":10,\"solidity\":0.2}},\"type\":\"bar\"}],\"scattergeo\":[{\"type\":\"scattergeo\",\"marker\":{\"colorbar\":{\"outlinewidth\":0,\"ticks\":\"\"}}}],\"scatterpolar\":[{\"type\":\"scatterpolar\",\"marker\":{\"colorbar\":{\"outlinewidth\":0,\"ticks\":\"\"}}}],\"histogram\":[{\"marker\":{\"pattern\":{\"fillmode\":\"overlay\",\"size\":10,\"solidity\":0.2}},\"type\":\"histogram\"}],\"scattergl\":[{\"type\":\"scattergl\",\"marker\":{\"colorbar\":{\"outlinewidth\":0,\"ticks\":\"\"}}}],\"scatter3d\":[{\"type\":\"scatter3d\",\"line\":{\"colorbar\":{\"outlinewidth\":0,\"ticks\":\"\"}},\"marker\":{\"colorbar\":{\"outlinewidth\":0,\"ticks\":\"\"}}}],\"scattermapbox\":[{\"type\":\"scattermapbox\",\"marker\":{\"colorbar\":{\"outlinewidth\":0,\"ticks\":\"\"}}}],\"scatterternary\":[{\"type\":\"scatterternary\",\"marker\":{\"colorbar\":{\"outlinewidth\":0,\"ticks\":\"\"}}}],\"scattercarpet\":[{\"type\":\"scattercarpet\",\"marker\":{\"colorbar\":{\"outlinewidth\":0,\"ticks\":\"\"}}}],\"carpet\":[{\"aaxis\":{\"endlinecolor\":\"#2a3f5f\",\"gridcolor\":\"white\",\"linecolor\":\"white\",\"minorgridcolor\":\"white\",\"startlinecolor\":\"#2a3f5f\"},\"baxis\":{\"endlinecolor\":\"#2a3f5f\",\"gridcolor\":\"white\",\"linecolor\":\"white\",\"minorgridcolor\":\"white\",\"startlinecolor\":\"#2a3f5f\"},\"type\":\"carpet\"}],\"table\":[{\"cells\":{\"fill\":{\"color\":\"#EBF0F8\"},\"line\":{\"color\":\"white\"}},\"header\":{\"fill\":{\"color\":\"#C8D4E3\"},\"line\":{\"color\":\"white\"}},\"type\":\"table\"}],\"barpolar\":[{\"marker\":{\"line\":{\"color\":\"#E5ECF6\",\"width\":0.5},\"pattern\":{\"fillmode\":\"overlay\",\"size\":10,\"solidity\":0.2}},\"type\":\"barpolar\"}],\"pie\":[{\"automargin\":true,\"type\":\"pie\"}]},\"layout\":{\"autotypenumbers\":\"strict\",\"colorway\":[\"#636efa\",\"#EF553B\",\"#00cc96\",\"#ab63fa\",\"#FFA15A\",\"#19d3f3\",\"#FF6692\",\"#B6E880\",\"#FF97FF\",\"#FECB52\"],\"font\":{\"color\":\"#2a3f5f\"},\"hovermode\":\"closest\",\"hoverlabel\":{\"align\":\"left\"},\"paper_bgcolor\":\"white\",\"plot_bgcolor\":\"#E5ECF6\",\"polar\":{\"bgcolor\":\"#E5ECF6\",\"angularaxis\":{\"gridcolor\":\"white\",\"linecolor\":\"white\",\"ticks\":\"\"},\"radialaxis\":{\"gridcolor\":\"white\",\"linecolor\":\"white\",\"ticks\":\"\"}},\"ternary\":{\"bgcolor\":\"#E5ECF6\",\"aaxis\":{\"gridcolor\":\"white\",\"linecolor\":\"white\",\"ticks\":\"\"},\"baxis\":{\"gridcolor\":\"white\",\"linecolor\":\"white\",\"ticks\":\"\"},\"caxis\":{\"gridcolor\":\"white\",\"linecolor\":\"white\",\"ticks\":\"\"}},\"coloraxis\":{\"colorbar\":{\"outlinewidth\":0,\"ticks\":\"\"}},\"colorscale\":{\"sequential\":[[0.0,\"#0d0887\"],[0.1111111111111111,\"#46039f\"],[0.2222222222222222,\"#7201a8\"],[0.3333333333333333,\"#9c179e\"],[0.4444444444444444,\"#bd3786\"],[0.5555555555555556,\"#d8576b\"],[0.6666666666666666,\"#ed7953\"],[0.7777777777777778,\"#fb9f3a\"],[0.8888888888888888,\"#fdca26\"],[1.0,\"#f0f921\"]],\"sequentialminus\":[[0.0,\"#0d0887\"],[0.1111111111111111,\"#46039f\"],[0.2222222222222222,\"#7201a8\"],[0.3333333333333333,\"#9c179e\"],[0.4444444444444444,\"#bd3786\"],[0.5555555555555556,\"#d8576b\"],[0.6666666666666666,\"#ed7953\"],[0.7777777777777778,\"#fb9f3a\"],[0.8888888888888888,\"#fdca26\"],[1.0,\"#f0f921\"]],\"diverging\":[[0,\"#8e0152\"],[0.1,\"#c51b7d\"],[0.2,\"#de77ae\"],[0.3,\"#f1b6da\"],[0.4,\"#fde0ef\"],[0.5,\"#f7f7f7\"],[0.6,\"#e6f5d0\"],[0.7,\"#b8e186\"],[0.8,\"#7fbc41\"],[0.9,\"#4d9221\"],[1,\"#276419\"]]},\"xaxis\":{\"gridcolor\":\"white\",\"linecolor\":\"white\",\"ticks\":\"\",\"title\":{\"standoff\":15},\"zerolinecolor\":\"white\",\"automargin\":true,\"zerolinewidth\":2},\"yaxis\":{\"gridcolor\":\"white\",\"linecolor\":\"white\",\"ticks\":\"\",\"title\":{\"standoff\":15},\"zerolinecolor\":\"white\",\"automargin\":true,\"zerolinewidth\":2},\"scene\":{\"xaxis\":{\"backgroundcolor\":\"#E5ECF6\",\"gridcolor\":\"white\",\"linecolor\":\"white\",\"showbackground\":true,\"ticks\":\"\",\"zerolinecolor\":\"white\",\"gridwidth\":2},\"yaxis\":{\"backgroundcolor\":\"#E5ECF6\",\"gridcolor\":\"white\",\"linecolor\":\"white\",\"showbackground\":true,\"ticks\":\"\",\"zerolinecolor\":\"white\",\"gridwidth\":2},\"zaxis\":{\"backgroundcolor\":\"#E5ECF6\",\"gridcolor\":\"white\",\"linecolor\":\"white\",\"showbackground\":true,\"ticks\":\"\",\"zerolinecolor\":\"white\",\"gridwidth\":2}},\"shapedefaults\":{\"line\":{\"color\":\"#2a3f5f\"}},\"annotationdefaults\":{\"arrowcolor\":\"#2a3f5f\",\"arrowhead\":0,\"arrowwidth\":1},\"geo\":{\"bgcolor\":\"white\",\"landcolor\":\"#E5ECF6\",\"subunitcolor\":\"white\",\"showland\":true,\"showlakes\":true,\"lakecolor\":\"white\"},\"title\":{\"x\":0.05},\"mapbox\":{\"style\":\"light\"}}}},                        {\"responsive\": true}                    ).then(function(){\n",
              "                            \n",
              "var gd = document.getElementById('617ad108-d2d7-4020-bfc4-616a3d142587');\n",
              "var x = new MutationObserver(function (mutations, observer) {{\n",
              "        var display = window.getComputedStyle(gd).display;\n",
              "        if (!display || display === 'none') {{\n",
              "            console.log([gd, 'removed!']);\n",
              "            Plotly.purge(gd);\n",
              "            observer.disconnect();\n",
              "        }}\n",
              "}});\n",
              "\n",
              "// Listen for the removal of the full notebook cells\n",
              "var notebookContainer = gd.closest('#notebook-container');\n",
              "if (notebookContainer) {{\n",
              "    x.observe(notebookContainer, {childList: true});\n",
              "}}\n",
              "\n",
              "// Listen for the clearing of the current output cell\n",
              "var outputEl = gd.closest('.output');\n",
              "if (outputEl) {{\n",
              "    x.observe(outputEl, {childList: true});\n",
              "}}\n",
              "\n",
              "                        })                };                            </script>        </div>\n",
              "</body>\n",
              "</html>"
            ]
          },
          "metadata": {},
          "output_type": "display_data"
        },
        {
          "name": "stderr",
          "output_type": "stream",
          "text": [
            "[I 2024-07-15 16:41:17,497] A new study created in memory with name: no-name-f31e9751-5838-4070-a972-288aa1b10795\n"
          ]
        },
        {
          "name": "stdout",
          "output_type": "stream",
          "text": [
            "Optimizing RNN for input combination: ankle_angle_only\n",
            "300/300 [==============================] - 1s 2ms/step\n"
          ]
        },
        {
          "name": "stderr",
          "output_type": "stream",
          "text": [
            "[I 2024-07-15 16:42:45,489] Trial 0 finished with value: 0.07679486551607533 and parameters: {'units': 95, 'dropout_rate': 0.14653327149305181, 'epochs': 17, 'batch_size': 74}. Best is trial 0 with value: 0.07679486551607533.\n"
          ]
        },
        {
          "name": "stdout",
          "output_type": "stream",
          "text": [
            "300/300 [==============================] - 1s 2ms/step\n"
          ]
        },
        {
          "name": "stderr",
          "output_type": "stream",
          "text": [
            "[I 2024-07-15 16:44:13,530] Trial 1 finished with value: 0.08959644673045941 and parameters: {'units': 77, 'dropout_rate': 0.44630226358494485, 'epochs': 20, 'batch_size': 97}. Best is trial 0 with value: 0.07679486551607533.\n"
          ]
        },
        {
          "name": "stdout",
          "output_type": "stream",
          "text": [
            "300/300 [==============================] - 1s 2ms/step\n"
          ]
        },
        {
          "name": "stderr",
          "output_type": "stream",
          "text": [
            "[I 2024-07-15 16:46:19,886] Trial 2 finished with value: 0.08762044473407149 and parameters: {'units': 17, 'dropout_rate': 0.14864453559535984, 'epochs': 50, 'batch_size': 53}. Best is trial 0 with value: 0.07679486551607533.\n"
          ]
        },
        {
          "name": "stdout",
          "output_type": "stream",
          "text": [
            "300/300 [==============================] - 1s 2ms/step\n"
          ]
        },
        {
          "name": "stderr",
          "output_type": "stream",
          "text": [
            "[I 2024-07-15 16:47:46,087] Trial 3 finished with value: 0.0893761576432934 and parameters: {'units': 22, 'dropout_rate': 0.3039311894840325, 'epochs': 42, 'batch_size': 70}. Best is trial 0 with value: 0.07679486551607533.\n"
          ]
        },
        {
          "name": "stdout",
          "output_type": "stream",
          "text": [
            "300/300 [==============================] - 1s 2ms/step\n"
          ]
        },
        {
          "name": "stderr",
          "output_type": "stream",
          "text": [
            "[I 2024-07-15 16:48:55,601] Trial 4 finished with value: 0.07926099580166171 and parameters: {'units': 70, 'dropout_rate': 0.2627051979111029, 'epochs': 27, 'batch_size': 70}. Best is trial 0 with value: 0.07679486551607533.\n"
          ]
        },
        {
          "name": "stdout",
          "output_type": "stream",
          "text": [
            "300/300 [==============================] - 1s 2ms/step\n"
          ]
        },
        {
          "name": "stderr",
          "output_type": "stream",
          "text": [
            "[I 2024-07-15 16:55:21,801] Trial 5 finished with value: 0.08708962199223011 and parameters: {'units': 85, 'dropout_rate': 0.4499597758594428, 'epochs': 40, 'batch_size': 17}. Best is trial 0 with value: 0.07679486551607533.\n"
          ]
        },
        {
          "name": "stdout",
          "output_type": "stream",
          "text": [
            "300/300 [==============================] - 1s 2ms/step\n"
          ]
        },
        {
          "name": "stderr",
          "output_type": "stream",
          "text": [
            "[I 2024-07-15 16:57:20,970] Trial 6 finished with value: 0.08285446710869064 and parameters: {'units': 44, 'dropout_rate': 0.2665463697041258, 'epochs': 45, 'batch_size': 46}. Best is trial 0 with value: 0.07679486551607533.\n"
          ]
        },
        {
          "name": "stdout",
          "output_type": "stream",
          "text": [
            "300/300 [==============================] - 1s 2ms/step\n"
          ]
        },
        {
          "name": "stderr",
          "output_type": "stream",
          "text": [
            "[I 2024-07-15 16:58:47,101] Trial 7 finished with value: 0.08865711415494526 and parameters: {'units': 45, 'dropout_rate': 0.48898825893641207, 'epochs': 36, 'batch_size': 105}. Best is trial 0 with value: 0.07679486551607533.\n"
          ]
        },
        {
          "name": "stdout",
          "output_type": "stream",
          "text": [
            "300/300 [==============================] - 1s 3ms/step\n"
          ]
        },
        {
          "name": "stderr",
          "output_type": "stream",
          "text": [
            "[I 2024-07-15 17:00:13,570] Trial 8 finished with value: 0.08231176304186576 and parameters: {'units': 75, 'dropout_rate': 0.44640677205309665, 'epochs': 39, 'batch_size': 110}. Best is trial 0 with value: 0.07679486551607533.\n"
          ]
        },
        {
          "name": "stdout",
          "output_type": "stream",
          "text": [
            "300/300 [==============================] - 1s 2ms/step\n"
          ]
        },
        {
          "name": "stderr",
          "output_type": "stream",
          "text": [
            "[I 2024-07-15 17:02:01,525] Trial 9 finished with value: 0.08946207551358144 and parameters: {'units': 32, 'dropout_rate': 0.4634600494083774, 'epochs': 26, 'batch_size': 29}. Best is trial 0 with value: 0.07679486551607533.\n"
          ]
        },
        {
          "name": "stdout",
          "output_type": "stream",
          "text": [
            "Best trial for rnn with input ankle_angle_only:\n",
            "  Value: 0.07679486551607533\n",
            "  Params: \n",
            "    units: 95\n",
            "    dropout_rate: 0.14653327149305181\n",
            "    epochs: 17\n",
            "    batch_size: 74\n"
          ]
        },
        {
          "data": {
            "text/html": [
              "<html>\n",
              "<head><meta charset=\"utf-8\" /></head>\n",
              "<body>\n",
              "    <div>            <script src=\"https://cdnjs.cloudflare.com/ajax/libs/mathjax/2.7.5/MathJax.js?config=TeX-AMS-MML_SVG\"></script><script type=\"text/javascript\">if (window.MathJax && window.MathJax.Hub && window.MathJax.Hub.Config) {window.MathJax.Hub.Config({SVG: {font: \"STIX-Web\"}});}</script>                <script type=\"text/javascript\">window.PlotlyConfig = {MathJaxConfig: 'local'};</script>\n",
              "        <script charset=\"utf-8\" src=\"https://cdn.plot.ly/plotly-2.24.1.min.js\"></script>                <div id=\"2cd1f668-b6a3-4645-8dac-14d8613086a4\" class=\"plotly-graph-div\" style=\"height:525px; width:100%;\"></div>            <script type=\"text/javascript\">                                    window.PLOTLYENV=window.PLOTLYENV || {};                                    if (document.getElementById(\"2cd1f668-b6a3-4645-8dac-14d8613086a4\")) {                    Plotly.newPlot(                        \"2cd1f668-b6a3-4645-8dac-14d8613086a4\",                        [{\"mode\":\"markers\",\"name\":\"Objective Value\",\"x\":[0,1,2,3,4,5,6,7,8,9],\"y\":[0.07679486551607533,0.08959644673045941,0.08762044473407149,0.0893761576432934,0.07926099580166171,0.08708962199223011,0.08285446710869064,0.08865711415494526,0.08231176304186576,0.08946207551358144],\"type\":\"scatter\"},{\"mode\":\"lines\",\"name\":\"Best Value\",\"x\":[0,1,2,3,4,5,6,7,8,9],\"y\":[0.07679486551607533,0.07679486551607533,0.07679486551607533,0.07679486551607533,0.07679486551607533,0.07679486551607533,0.07679486551607533,0.07679486551607533,0.07679486551607533,0.07679486551607533],\"type\":\"scatter\"},{\"marker\":{\"color\":\"#cccccc\"},\"mode\":\"markers\",\"name\":\"Infeasible Trial\",\"showlegend\":false,\"x\":[],\"y\":[],\"type\":\"scatter\"}],                        {\"title\":{\"text\":\"Optimization History Plot\"},\"xaxis\":{\"title\":{\"text\":\"Trial\"}},\"yaxis\":{\"title\":{\"text\":\"Objective Value\"}},\"template\":{\"data\":{\"histogram2dcontour\":[{\"type\":\"histogram2dcontour\",\"colorbar\":{\"outlinewidth\":0,\"ticks\":\"\"},\"colorscale\":[[0.0,\"#0d0887\"],[0.1111111111111111,\"#46039f\"],[0.2222222222222222,\"#7201a8\"],[0.3333333333333333,\"#9c179e\"],[0.4444444444444444,\"#bd3786\"],[0.5555555555555556,\"#d8576b\"],[0.6666666666666666,\"#ed7953\"],[0.7777777777777778,\"#fb9f3a\"],[0.8888888888888888,\"#fdca26\"],[1.0,\"#f0f921\"]]}],\"choropleth\":[{\"type\":\"choropleth\",\"colorbar\":{\"outlinewidth\":0,\"ticks\":\"\"}}],\"histogram2d\":[{\"type\":\"histogram2d\",\"colorbar\":{\"outlinewidth\":0,\"ticks\":\"\"},\"colorscale\":[[0.0,\"#0d0887\"],[0.1111111111111111,\"#46039f\"],[0.2222222222222222,\"#7201a8\"],[0.3333333333333333,\"#9c179e\"],[0.4444444444444444,\"#bd3786\"],[0.5555555555555556,\"#d8576b\"],[0.6666666666666666,\"#ed7953\"],[0.7777777777777778,\"#fb9f3a\"],[0.8888888888888888,\"#fdca26\"],[1.0,\"#f0f921\"]]}],\"heatmap\":[{\"type\":\"heatmap\",\"colorbar\":{\"outlinewidth\":0,\"ticks\":\"\"},\"colorscale\":[[0.0,\"#0d0887\"],[0.1111111111111111,\"#46039f\"],[0.2222222222222222,\"#7201a8\"],[0.3333333333333333,\"#9c179e\"],[0.4444444444444444,\"#bd3786\"],[0.5555555555555556,\"#d8576b\"],[0.6666666666666666,\"#ed7953\"],[0.7777777777777778,\"#fb9f3a\"],[0.8888888888888888,\"#fdca26\"],[1.0,\"#f0f921\"]]}],\"heatmapgl\":[{\"type\":\"heatmapgl\",\"colorbar\":{\"outlinewidth\":0,\"ticks\":\"\"},\"colorscale\":[[0.0,\"#0d0887\"],[0.1111111111111111,\"#46039f\"],[0.2222222222222222,\"#7201a8\"],[0.3333333333333333,\"#9c179e\"],[0.4444444444444444,\"#bd3786\"],[0.5555555555555556,\"#d8576b\"],[0.6666666666666666,\"#ed7953\"],[0.7777777777777778,\"#fb9f3a\"],[0.8888888888888888,\"#fdca26\"],[1.0,\"#f0f921\"]]}],\"contourcarpet\":[{\"type\":\"contourcarpet\",\"colorbar\":{\"outlinewidth\":0,\"ticks\":\"\"}}],\"contour\":[{\"type\":\"contour\",\"colorbar\":{\"outlinewidth\":0,\"ticks\":\"\"},\"colorscale\":[[0.0,\"#0d0887\"],[0.1111111111111111,\"#46039f\"],[0.2222222222222222,\"#7201a8\"],[0.3333333333333333,\"#9c179e\"],[0.4444444444444444,\"#bd3786\"],[0.5555555555555556,\"#d8576b\"],[0.6666666666666666,\"#ed7953\"],[0.7777777777777778,\"#fb9f3a\"],[0.8888888888888888,\"#fdca26\"],[1.0,\"#f0f921\"]]}],\"surface\":[{\"type\":\"surface\",\"colorbar\":{\"outlinewidth\":0,\"ticks\":\"\"},\"colorscale\":[[0.0,\"#0d0887\"],[0.1111111111111111,\"#46039f\"],[0.2222222222222222,\"#7201a8\"],[0.3333333333333333,\"#9c179e\"],[0.4444444444444444,\"#bd3786\"],[0.5555555555555556,\"#d8576b\"],[0.6666666666666666,\"#ed7953\"],[0.7777777777777778,\"#fb9f3a\"],[0.8888888888888888,\"#fdca26\"],[1.0,\"#f0f921\"]]}],\"mesh3d\":[{\"type\":\"mesh3d\",\"colorbar\":{\"outlinewidth\":0,\"ticks\":\"\"}}],\"scatter\":[{\"fillpattern\":{\"fillmode\":\"overlay\",\"size\":10,\"solidity\":0.2},\"type\":\"scatter\"}],\"parcoords\":[{\"type\":\"parcoords\",\"line\":{\"colorbar\":{\"outlinewidth\":0,\"ticks\":\"\"}}}],\"scatterpolargl\":[{\"type\":\"scatterpolargl\",\"marker\":{\"colorbar\":{\"outlinewidth\":0,\"ticks\":\"\"}}}],\"bar\":[{\"error_x\":{\"color\":\"#2a3f5f\"},\"error_y\":{\"color\":\"#2a3f5f\"},\"marker\":{\"line\":{\"color\":\"#E5ECF6\",\"width\":0.5},\"pattern\":{\"fillmode\":\"overlay\",\"size\":10,\"solidity\":0.2}},\"type\":\"bar\"}],\"scattergeo\":[{\"type\":\"scattergeo\",\"marker\":{\"colorbar\":{\"outlinewidth\":0,\"ticks\":\"\"}}}],\"scatterpolar\":[{\"type\":\"scatterpolar\",\"marker\":{\"colorbar\":{\"outlinewidth\":0,\"ticks\":\"\"}}}],\"histogram\":[{\"marker\":{\"pattern\":{\"fillmode\":\"overlay\",\"size\":10,\"solidity\":0.2}},\"type\":\"histogram\"}],\"scattergl\":[{\"type\":\"scattergl\",\"marker\":{\"colorbar\":{\"outlinewidth\":0,\"ticks\":\"\"}}}],\"scatter3d\":[{\"type\":\"scatter3d\",\"line\":{\"colorbar\":{\"outlinewidth\":0,\"ticks\":\"\"}},\"marker\":{\"colorbar\":{\"outlinewidth\":0,\"ticks\":\"\"}}}],\"scattermapbox\":[{\"type\":\"scattermapbox\",\"marker\":{\"colorbar\":{\"outlinewidth\":0,\"ticks\":\"\"}}}],\"scatterternary\":[{\"type\":\"scatterternary\",\"marker\":{\"colorbar\":{\"outlinewidth\":0,\"ticks\":\"\"}}}],\"scattercarpet\":[{\"type\":\"scattercarpet\",\"marker\":{\"colorbar\":{\"outlinewidth\":0,\"ticks\":\"\"}}}],\"carpet\":[{\"aaxis\":{\"endlinecolor\":\"#2a3f5f\",\"gridcolor\":\"white\",\"linecolor\":\"white\",\"minorgridcolor\":\"white\",\"startlinecolor\":\"#2a3f5f\"},\"baxis\":{\"endlinecolor\":\"#2a3f5f\",\"gridcolor\":\"white\",\"linecolor\":\"white\",\"minorgridcolor\":\"white\",\"startlinecolor\":\"#2a3f5f\"},\"type\":\"carpet\"}],\"table\":[{\"cells\":{\"fill\":{\"color\":\"#EBF0F8\"},\"line\":{\"color\":\"white\"}},\"header\":{\"fill\":{\"color\":\"#C8D4E3\"},\"line\":{\"color\":\"white\"}},\"type\":\"table\"}],\"barpolar\":[{\"marker\":{\"line\":{\"color\":\"#E5ECF6\",\"width\":0.5},\"pattern\":{\"fillmode\":\"overlay\",\"size\":10,\"solidity\":0.2}},\"type\":\"barpolar\"}],\"pie\":[{\"automargin\":true,\"type\":\"pie\"}]},\"layout\":{\"autotypenumbers\":\"strict\",\"colorway\":[\"#636efa\",\"#EF553B\",\"#00cc96\",\"#ab63fa\",\"#FFA15A\",\"#19d3f3\",\"#FF6692\",\"#B6E880\",\"#FF97FF\",\"#FECB52\"],\"font\":{\"color\":\"#2a3f5f\"},\"hovermode\":\"closest\",\"hoverlabel\":{\"align\":\"left\"},\"paper_bgcolor\":\"white\",\"plot_bgcolor\":\"#E5ECF6\",\"polar\":{\"bgcolor\":\"#E5ECF6\",\"angularaxis\":{\"gridcolor\":\"white\",\"linecolor\":\"white\",\"ticks\":\"\"},\"radialaxis\":{\"gridcolor\":\"white\",\"linecolor\":\"white\",\"ticks\":\"\"}},\"ternary\":{\"bgcolor\":\"#E5ECF6\",\"aaxis\":{\"gridcolor\":\"white\",\"linecolor\":\"white\",\"ticks\":\"\"},\"baxis\":{\"gridcolor\":\"white\",\"linecolor\":\"white\",\"ticks\":\"\"},\"caxis\":{\"gridcolor\":\"white\",\"linecolor\":\"white\",\"ticks\":\"\"}},\"coloraxis\":{\"colorbar\":{\"outlinewidth\":0,\"ticks\":\"\"}},\"colorscale\":{\"sequential\":[[0.0,\"#0d0887\"],[0.1111111111111111,\"#46039f\"],[0.2222222222222222,\"#7201a8\"],[0.3333333333333333,\"#9c179e\"],[0.4444444444444444,\"#bd3786\"],[0.5555555555555556,\"#d8576b\"],[0.6666666666666666,\"#ed7953\"],[0.7777777777777778,\"#fb9f3a\"],[0.8888888888888888,\"#fdca26\"],[1.0,\"#f0f921\"]],\"sequentialminus\":[[0.0,\"#0d0887\"],[0.1111111111111111,\"#46039f\"],[0.2222222222222222,\"#7201a8\"],[0.3333333333333333,\"#9c179e\"],[0.4444444444444444,\"#bd3786\"],[0.5555555555555556,\"#d8576b\"],[0.6666666666666666,\"#ed7953\"],[0.7777777777777778,\"#fb9f3a\"],[0.8888888888888888,\"#fdca26\"],[1.0,\"#f0f921\"]],\"diverging\":[[0,\"#8e0152\"],[0.1,\"#c51b7d\"],[0.2,\"#de77ae\"],[0.3,\"#f1b6da\"],[0.4,\"#fde0ef\"],[0.5,\"#f7f7f7\"],[0.6,\"#e6f5d0\"],[0.7,\"#b8e186\"],[0.8,\"#7fbc41\"],[0.9,\"#4d9221\"],[1,\"#276419\"]]},\"xaxis\":{\"gridcolor\":\"white\",\"linecolor\":\"white\",\"ticks\":\"\",\"title\":{\"standoff\":15},\"zerolinecolor\":\"white\",\"automargin\":true,\"zerolinewidth\":2},\"yaxis\":{\"gridcolor\":\"white\",\"linecolor\":\"white\",\"ticks\":\"\",\"title\":{\"standoff\":15},\"zerolinecolor\":\"white\",\"automargin\":true,\"zerolinewidth\":2},\"scene\":{\"xaxis\":{\"backgroundcolor\":\"#E5ECF6\",\"gridcolor\":\"white\",\"linecolor\":\"white\",\"showbackground\":true,\"ticks\":\"\",\"zerolinecolor\":\"white\",\"gridwidth\":2},\"yaxis\":{\"backgroundcolor\":\"#E5ECF6\",\"gridcolor\":\"white\",\"linecolor\":\"white\",\"showbackground\":true,\"ticks\":\"\",\"zerolinecolor\":\"white\",\"gridwidth\":2},\"zaxis\":{\"backgroundcolor\":\"#E5ECF6\",\"gridcolor\":\"white\",\"linecolor\":\"white\",\"showbackground\":true,\"ticks\":\"\",\"zerolinecolor\":\"white\",\"gridwidth\":2}},\"shapedefaults\":{\"line\":{\"color\":\"#2a3f5f\"}},\"annotationdefaults\":{\"arrowcolor\":\"#2a3f5f\",\"arrowhead\":0,\"arrowwidth\":1},\"geo\":{\"bgcolor\":\"white\",\"landcolor\":\"#E5ECF6\",\"subunitcolor\":\"white\",\"showland\":true,\"showlakes\":true,\"lakecolor\":\"white\"},\"title\":{\"x\":0.05},\"mapbox\":{\"style\":\"light\"}}}},                        {\"responsive\": true}                    ).then(function(){\n",
              "                            \n",
              "var gd = document.getElementById('2cd1f668-b6a3-4645-8dac-14d8613086a4');\n",
              "var x = new MutationObserver(function (mutations, observer) {{\n",
              "        var display = window.getComputedStyle(gd).display;\n",
              "        if (!display || display === 'none') {{\n",
              "            console.log([gd, 'removed!']);\n",
              "            Plotly.purge(gd);\n",
              "            observer.disconnect();\n",
              "        }}\n",
              "}});\n",
              "\n",
              "// Listen for the removal of the full notebook cells\n",
              "var notebookContainer = gd.closest('#notebook-container');\n",
              "if (notebookContainer) {{\n",
              "    x.observe(notebookContainer, {childList: true});\n",
              "}}\n",
              "\n",
              "// Listen for the clearing of the current output cell\n",
              "var outputEl = gd.closest('.output');\n",
              "if (outputEl) {{\n",
              "    x.observe(outputEl, {childList: true});\n",
              "}}\n",
              "\n",
              "                        })                };                            </script>        </div>\n",
              "</body>\n",
              "</html>"
            ]
          },
          "metadata": {},
          "output_type": "display_data"
        },
        {
          "data": {
            "text/html": [
              "<html>\n",
              "<head><meta charset=\"utf-8\" /></head>\n",
              "<body>\n",
              "    <div>            <script src=\"https://cdnjs.cloudflare.com/ajax/libs/mathjax/2.7.5/MathJax.js?config=TeX-AMS-MML_SVG\"></script><script type=\"text/javascript\">if (window.MathJax && window.MathJax.Hub && window.MathJax.Hub.Config) {window.MathJax.Hub.Config({SVG: {font: \"STIX-Web\"}});}</script>                <script type=\"text/javascript\">window.PlotlyConfig = {MathJaxConfig: 'local'};</script>\n",
              "        <script charset=\"utf-8\" src=\"https://cdn.plot.ly/plotly-2.24.1.min.js\"></script>                <div id=\"f71efe3b-e2cc-4d13-9977-8f23b0d1b322\" class=\"plotly-graph-div\" style=\"height:525px; width:100%;\"></div>            <script type=\"text/javascript\">                                    window.PLOTLYENV=window.PLOTLYENV || {};                                    if (document.getElementById(\"f71efe3b-e2cc-4d13-9977-8f23b0d1b322\")) {                    Plotly.newPlot(                        \"f71efe3b-e2cc-4d13-9977-8f23b0d1b322\",                        [{\"cliponaxis\":false,\"hovertemplate\":[\"batch_size (IntDistribution): 0.10256658913985592\\u003cextra\\u003e\\u003c\\u002fextra\\u003e\",\"units (IntDistribution): 0.18811398003446186\\u003cextra\\u003e\\u003c\\u002fextra\\u003e\",\"epochs (IntDistribution): 0.28421012915399707\\u003cextra\\u003e\\u003c\\u002fextra\\u003e\",\"dropout_rate (FloatDistribution): 0.4251093016716851\\u003cextra\\u003e\\u003c\\u002fextra\\u003e\"],\"name\":\"Objective Value\",\"orientation\":\"h\",\"text\":[\"0.10\",\"0.19\",\"0.28\",\"0.43\"],\"textposition\":\"outside\",\"x\":[0.10256658913985592,0.18811398003446186,0.28421012915399707,0.4251093016716851],\"y\":[\"batch_size\",\"units\",\"epochs\",\"dropout_rate\"],\"type\":\"bar\"}],                        {\"title\":{\"text\":\"Hyperparameter Importances\"},\"xaxis\":{\"title\":{\"text\":\"Hyperparameter Importance\"}},\"yaxis\":{\"title\":{\"text\":\"Hyperparameter\"}},\"template\":{\"data\":{\"histogram2dcontour\":[{\"type\":\"histogram2dcontour\",\"colorbar\":{\"outlinewidth\":0,\"ticks\":\"\"},\"colorscale\":[[0.0,\"#0d0887\"],[0.1111111111111111,\"#46039f\"],[0.2222222222222222,\"#7201a8\"],[0.3333333333333333,\"#9c179e\"],[0.4444444444444444,\"#bd3786\"],[0.5555555555555556,\"#d8576b\"],[0.6666666666666666,\"#ed7953\"],[0.7777777777777778,\"#fb9f3a\"],[0.8888888888888888,\"#fdca26\"],[1.0,\"#f0f921\"]]}],\"choropleth\":[{\"type\":\"choropleth\",\"colorbar\":{\"outlinewidth\":0,\"ticks\":\"\"}}],\"histogram2d\":[{\"type\":\"histogram2d\",\"colorbar\":{\"outlinewidth\":0,\"ticks\":\"\"},\"colorscale\":[[0.0,\"#0d0887\"],[0.1111111111111111,\"#46039f\"],[0.2222222222222222,\"#7201a8\"],[0.3333333333333333,\"#9c179e\"],[0.4444444444444444,\"#bd3786\"],[0.5555555555555556,\"#d8576b\"],[0.6666666666666666,\"#ed7953\"],[0.7777777777777778,\"#fb9f3a\"],[0.8888888888888888,\"#fdca26\"],[1.0,\"#f0f921\"]]}],\"heatmap\":[{\"type\":\"heatmap\",\"colorbar\":{\"outlinewidth\":0,\"ticks\":\"\"},\"colorscale\":[[0.0,\"#0d0887\"],[0.1111111111111111,\"#46039f\"],[0.2222222222222222,\"#7201a8\"],[0.3333333333333333,\"#9c179e\"],[0.4444444444444444,\"#bd3786\"],[0.5555555555555556,\"#d8576b\"],[0.6666666666666666,\"#ed7953\"],[0.7777777777777778,\"#fb9f3a\"],[0.8888888888888888,\"#fdca26\"],[1.0,\"#f0f921\"]]}],\"heatmapgl\":[{\"type\":\"heatmapgl\",\"colorbar\":{\"outlinewidth\":0,\"ticks\":\"\"},\"colorscale\":[[0.0,\"#0d0887\"],[0.1111111111111111,\"#46039f\"],[0.2222222222222222,\"#7201a8\"],[0.3333333333333333,\"#9c179e\"],[0.4444444444444444,\"#bd3786\"],[0.5555555555555556,\"#d8576b\"],[0.6666666666666666,\"#ed7953\"],[0.7777777777777778,\"#fb9f3a\"],[0.8888888888888888,\"#fdca26\"],[1.0,\"#f0f921\"]]}],\"contourcarpet\":[{\"type\":\"contourcarpet\",\"colorbar\":{\"outlinewidth\":0,\"ticks\":\"\"}}],\"contour\":[{\"type\":\"contour\",\"colorbar\":{\"outlinewidth\":0,\"ticks\":\"\"},\"colorscale\":[[0.0,\"#0d0887\"],[0.1111111111111111,\"#46039f\"],[0.2222222222222222,\"#7201a8\"],[0.3333333333333333,\"#9c179e\"],[0.4444444444444444,\"#bd3786\"],[0.5555555555555556,\"#d8576b\"],[0.6666666666666666,\"#ed7953\"],[0.7777777777777778,\"#fb9f3a\"],[0.8888888888888888,\"#fdca26\"],[1.0,\"#f0f921\"]]}],\"surface\":[{\"type\":\"surface\",\"colorbar\":{\"outlinewidth\":0,\"ticks\":\"\"},\"colorscale\":[[0.0,\"#0d0887\"],[0.1111111111111111,\"#46039f\"],[0.2222222222222222,\"#7201a8\"],[0.3333333333333333,\"#9c179e\"],[0.4444444444444444,\"#bd3786\"],[0.5555555555555556,\"#d8576b\"],[0.6666666666666666,\"#ed7953\"],[0.7777777777777778,\"#fb9f3a\"],[0.8888888888888888,\"#fdca26\"],[1.0,\"#f0f921\"]]}],\"mesh3d\":[{\"type\":\"mesh3d\",\"colorbar\":{\"outlinewidth\":0,\"ticks\":\"\"}}],\"scatter\":[{\"fillpattern\":{\"fillmode\":\"overlay\",\"size\":10,\"solidity\":0.2},\"type\":\"scatter\"}],\"parcoords\":[{\"type\":\"parcoords\",\"line\":{\"colorbar\":{\"outlinewidth\":0,\"ticks\":\"\"}}}],\"scatterpolargl\":[{\"type\":\"scatterpolargl\",\"marker\":{\"colorbar\":{\"outlinewidth\":0,\"ticks\":\"\"}}}],\"bar\":[{\"error_x\":{\"color\":\"#2a3f5f\"},\"error_y\":{\"color\":\"#2a3f5f\"},\"marker\":{\"line\":{\"color\":\"#E5ECF6\",\"width\":0.5},\"pattern\":{\"fillmode\":\"overlay\",\"size\":10,\"solidity\":0.2}},\"type\":\"bar\"}],\"scattergeo\":[{\"type\":\"scattergeo\",\"marker\":{\"colorbar\":{\"outlinewidth\":0,\"ticks\":\"\"}}}],\"scatterpolar\":[{\"type\":\"scatterpolar\",\"marker\":{\"colorbar\":{\"outlinewidth\":0,\"ticks\":\"\"}}}],\"histogram\":[{\"marker\":{\"pattern\":{\"fillmode\":\"overlay\",\"size\":10,\"solidity\":0.2}},\"type\":\"histogram\"}],\"scattergl\":[{\"type\":\"scattergl\",\"marker\":{\"colorbar\":{\"outlinewidth\":0,\"ticks\":\"\"}}}],\"scatter3d\":[{\"type\":\"scatter3d\",\"line\":{\"colorbar\":{\"outlinewidth\":0,\"ticks\":\"\"}},\"marker\":{\"colorbar\":{\"outlinewidth\":0,\"ticks\":\"\"}}}],\"scattermapbox\":[{\"type\":\"scattermapbox\",\"marker\":{\"colorbar\":{\"outlinewidth\":0,\"ticks\":\"\"}}}],\"scatterternary\":[{\"type\":\"scatterternary\",\"marker\":{\"colorbar\":{\"outlinewidth\":0,\"ticks\":\"\"}}}],\"scattercarpet\":[{\"type\":\"scattercarpet\",\"marker\":{\"colorbar\":{\"outlinewidth\":0,\"ticks\":\"\"}}}],\"carpet\":[{\"aaxis\":{\"endlinecolor\":\"#2a3f5f\",\"gridcolor\":\"white\",\"linecolor\":\"white\",\"minorgridcolor\":\"white\",\"startlinecolor\":\"#2a3f5f\"},\"baxis\":{\"endlinecolor\":\"#2a3f5f\",\"gridcolor\":\"white\",\"linecolor\":\"white\",\"minorgridcolor\":\"white\",\"startlinecolor\":\"#2a3f5f\"},\"type\":\"carpet\"}],\"table\":[{\"cells\":{\"fill\":{\"color\":\"#EBF0F8\"},\"line\":{\"color\":\"white\"}},\"header\":{\"fill\":{\"color\":\"#C8D4E3\"},\"line\":{\"color\":\"white\"}},\"type\":\"table\"}],\"barpolar\":[{\"marker\":{\"line\":{\"color\":\"#E5ECF6\",\"width\":0.5},\"pattern\":{\"fillmode\":\"overlay\",\"size\":10,\"solidity\":0.2}},\"type\":\"barpolar\"}],\"pie\":[{\"automargin\":true,\"type\":\"pie\"}]},\"layout\":{\"autotypenumbers\":\"strict\",\"colorway\":[\"#636efa\",\"#EF553B\",\"#00cc96\",\"#ab63fa\",\"#FFA15A\",\"#19d3f3\",\"#FF6692\",\"#B6E880\",\"#FF97FF\",\"#FECB52\"],\"font\":{\"color\":\"#2a3f5f\"},\"hovermode\":\"closest\",\"hoverlabel\":{\"align\":\"left\"},\"paper_bgcolor\":\"white\",\"plot_bgcolor\":\"#E5ECF6\",\"polar\":{\"bgcolor\":\"#E5ECF6\",\"angularaxis\":{\"gridcolor\":\"white\",\"linecolor\":\"white\",\"ticks\":\"\"},\"radialaxis\":{\"gridcolor\":\"white\",\"linecolor\":\"white\",\"ticks\":\"\"}},\"ternary\":{\"bgcolor\":\"#E5ECF6\",\"aaxis\":{\"gridcolor\":\"white\",\"linecolor\":\"white\",\"ticks\":\"\"},\"baxis\":{\"gridcolor\":\"white\",\"linecolor\":\"white\",\"ticks\":\"\"},\"caxis\":{\"gridcolor\":\"white\",\"linecolor\":\"white\",\"ticks\":\"\"}},\"coloraxis\":{\"colorbar\":{\"outlinewidth\":0,\"ticks\":\"\"}},\"colorscale\":{\"sequential\":[[0.0,\"#0d0887\"],[0.1111111111111111,\"#46039f\"],[0.2222222222222222,\"#7201a8\"],[0.3333333333333333,\"#9c179e\"],[0.4444444444444444,\"#bd3786\"],[0.5555555555555556,\"#d8576b\"],[0.6666666666666666,\"#ed7953\"],[0.7777777777777778,\"#fb9f3a\"],[0.8888888888888888,\"#fdca26\"],[1.0,\"#f0f921\"]],\"sequentialminus\":[[0.0,\"#0d0887\"],[0.1111111111111111,\"#46039f\"],[0.2222222222222222,\"#7201a8\"],[0.3333333333333333,\"#9c179e\"],[0.4444444444444444,\"#bd3786\"],[0.5555555555555556,\"#d8576b\"],[0.6666666666666666,\"#ed7953\"],[0.7777777777777778,\"#fb9f3a\"],[0.8888888888888888,\"#fdca26\"],[1.0,\"#f0f921\"]],\"diverging\":[[0,\"#8e0152\"],[0.1,\"#c51b7d\"],[0.2,\"#de77ae\"],[0.3,\"#f1b6da\"],[0.4,\"#fde0ef\"],[0.5,\"#f7f7f7\"],[0.6,\"#e6f5d0\"],[0.7,\"#b8e186\"],[0.8,\"#7fbc41\"],[0.9,\"#4d9221\"],[1,\"#276419\"]]},\"xaxis\":{\"gridcolor\":\"white\",\"linecolor\":\"white\",\"ticks\":\"\",\"title\":{\"standoff\":15},\"zerolinecolor\":\"white\",\"automargin\":true,\"zerolinewidth\":2},\"yaxis\":{\"gridcolor\":\"white\",\"linecolor\":\"white\",\"ticks\":\"\",\"title\":{\"standoff\":15},\"zerolinecolor\":\"white\",\"automargin\":true,\"zerolinewidth\":2},\"scene\":{\"xaxis\":{\"backgroundcolor\":\"#E5ECF6\",\"gridcolor\":\"white\",\"linecolor\":\"white\",\"showbackground\":true,\"ticks\":\"\",\"zerolinecolor\":\"white\",\"gridwidth\":2},\"yaxis\":{\"backgroundcolor\":\"#E5ECF6\",\"gridcolor\":\"white\",\"linecolor\":\"white\",\"showbackground\":true,\"ticks\":\"\",\"zerolinecolor\":\"white\",\"gridwidth\":2},\"zaxis\":{\"backgroundcolor\":\"#E5ECF6\",\"gridcolor\":\"white\",\"linecolor\":\"white\",\"showbackground\":true,\"ticks\":\"\",\"zerolinecolor\":\"white\",\"gridwidth\":2}},\"shapedefaults\":{\"line\":{\"color\":\"#2a3f5f\"}},\"annotationdefaults\":{\"arrowcolor\":\"#2a3f5f\",\"arrowhead\":0,\"arrowwidth\":1},\"geo\":{\"bgcolor\":\"white\",\"landcolor\":\"#E5ECF6\",\"subunitcolor\":\"white\",\"showland\":true,\"showlakes\":true,\"lakecolor\":\"white\"},\"title\":{\"x\":0.05},\"mapbox\":{\"style\":\"light\"}}}},                        {\"responsive\": true}                    ).then(function(){\n",
              "                            \n",
              "var gd = document.getElementById('f71efe3b-e2cc-4d13-9977-8f23b0d1b322');\n",
              "var x = new MutationObserver(function (mutations, observer) {{\n",
              "        var display = window.getComputedStyle(gd).display;\n",
              "        if (!display || display === 'none') {{\n",
              "            console.log([gd, 'removed!']);\n",
              "            Plotly.purge(gd);\n",
              "            observer.disconnect();\n",
              "        }}\n",
              "}});\n",
              "\n",
              "// Listen for the removal of the full notebook cells\n",
              "var notebookContainer = gd.closest('#notebook-container');\n",
              "if (notebookContainer) {{\n",
              "    x.observe(notebookContainer, {childList: true});\n",
              "}}\n",
              "\n",
              "// Listen for the clearing of the current output cell\n",
              "var outputEl = gd.closest('.output');\n",
              "if (outputEl) {{\n",
              "    x.observe(outputEl, {childList: true});\n",
              "}}\n",
              "\n",
              "                        })                };                            </script>        </div>\n",
              "</body>\n",
              "</html>"
            ]
          },
          "metadata": {},
          "output_type": "display_data"
        },
        {
          "name": "stderr",
          "output_type": "stream",
          "text": [
            "[I 2024-07-15 17:02:01,758] A new study created in memory with name: no-name-5339a29a-7ef9-4b82-842a-c05367eabf18\n"
          ]
        },
        {
          "name": "stdout",
          "output_type": "stream",
          "text": [
            "Optimizing CNN for input combination: ankle_angle_only\n",
            "300/300 [==============================] - 1s 3ms/step\n"
          ]
        },
        {
          "name": "stderr",
          "output_type": "stream",
          "text": [
            "[I 2024-07-15 17:03:26,326] Trial 0 finished with value: 0.07666344870819257 and parameters: {'units': 79, 'dropout_rate': 0.3648060733105246, 'epochs': 49, 'batch_size': 85}. Best is trial 0 with value: 0.07666344870819257.\n"
          ]
        },
        {
          "name": "stdout",
          "output_type": "stream",
          "text": [
            "300/300 [==============================] - 1s 1ms/step\n"
          ]
        },
        {
          "name": "stderr",
          "output_type": "stream",
          "text": [
            "[I 2024-07-15 17:04:51,084] Trial 1 finished with value: 0.08163326420005527 and parameters: {'units': 85, 'dropout_rate': 0.2766388232392547, 'epochs': 12, 'batch_size': 22}. Best is trial 0 with value: 0.07666344870819257.\n"
          ]
        },
        {
          "name": "stdout",
          "output_type": "stream",
          "text": [
            "300/300 [==============================] - 1s 2ms/step\n"
          ]
        },
        {
          "name": "stderr",
          "output_type": "stream",
          "text": [
            "[I 2024-07-15 17:06:15,351] Trial 2 finished with value: 0.07935143516682484 and parameters: {'units': 86, 'dropout_rate': 0.34161690803870237, 'epochs': 43, 'batch_size': 78}. Best is trial 0 with value: 0.07666344870819257.\n"
          ]
        },
        {
          "name": "stdout",
          "output_type": "stream",
          "text": [
            "300/300 [==============================] - 1s 1ms/step\n"
          ]
        },
        {
          "name": "stderr",
          "output_type": "stream",
          "text": [
            "[I 2024-07-15 17:07:44,118] Trial 3 finished with value: 0.08214082450064102 and parameters: {'units': 96, 'dropout_rate': 0.37864640395658633, 'epochs': 36, 'batch_size': 39}. Best is trial 0 with value: 0.07666344870819257.\n"
          ]
        },
        {
          "name": "stdout",
          "output_type": "stream",
          "text": [
            "300/300 [==============================] - 1s 2ms/step\n"
          ]
        },
        {
          "name": "stderr",
          "output_type": "stream",
          "text": [
            "[I 2024-07-15 17:08:15,247] Trial 4 finished with value: 0.0849518233204486 and parameters: {'units': 65, 'dropout_rate': 0.4284257344214232, 'epochs': 18, 'batch_size': 68}. Best is trial 0 with value: 0.07666344870819257.\n"
          ]
        },
        {
          "name": "stdout",
          "output_type": "stream",
          "text": [
            "300/300 [==============================] - 1s 2ms/step\n"
          ]
        },
        {
          "name": "stderr",
          "output_type": "stream",
          "text": [
            "[I 2024-07-15 17:08:38,071] Trial 5 finished with value: 0.24322192418391442 and parameters: {'units': 11, 'dropout_rate': 0.3391707327132086, 'epochs': 23, 'batch_size': 123}. Best is trial 0 with value: 0.07666344870819257.\n"
          ]
        },
        {
          "name": "stdout",
          "output_type": "stream",
          "text": [
            "300/300 [==============================] - 1s 1ms/step\n"
          ]
        },
        {
          "name": "stderr",
          "output_type": "stream",
          "text": [
            "[I 2024-07-15 17:09:28,589] Trial 6 finished with value: 0.07685412308106872 and parameters: {'units': 51, 'dropout_rate': 0.2970565313124125, 'epochs': 41, 'batch_size': 111}. Best is trial 0 with value: 0.07666344870819257.\n"
          ]
        },
        {
          "name": "stdout",
          "output_type": "stream",
          "text": [
            "300/300 [==============================] - 1s 2ms/step\n"
          ]
        },
        {
          "name": "stderr",
          "output_type": "stream",
          "text": [
            "[I 2024-07-15 17:10:53,343] Trial 7 finished with value: 0.08629869176032556 and parameters: {'units': 28, 'dropout_rate': 0.18363059967253334, 'epochs': 23, 'batch_size': 24}. Best is trial 0 with value: 0.07666344870819257.\n"
          ]
        },
        {
          "name": "stdout",
          "output_type": "stream",
          "text": [
            "300/300 [==============================] - 1s 1ms/step\n"
          ]
        },
        {
          "name": "stderr",
          "output_type": "stream",
          "text": [
            "[I 2024-07-15 17:11:38,681] Trial 8 finished with value: 0.07988554740875976 and parameters: {'units': 58, 'dropout_rate': 0.44307605273305317, 'epochs': 44, 'batch_size': 121}. Best is trial 0 with value: 0.07666344870819257.\n"
          ]
        },
        {
          "name": "stdout",
          "output_type": "stream",
          "text": [
            "300/300 [==============================] - 1s 2ms/step\n"
          ]
        },
        {
          "name": "stderr",
          "output_type": "stream",
          "text": [
            "[I 2024-07-15 17:12:50,433] Trial 9 finished with value: 0.08438915446445878 and parameters: {'units': 52, 'dropout_rate': 0.21487404280430505, 'epochs': 19, 'batch_size': 21}. Best is trial 0 with value: 0.07666344870819257.\n"
          ]
        },
        {
          "name": "stdout",
          "output_type": "stream",
          "text": [
            "Best trial for cnn with input ankle_angle_only:\n",
            "  Value: 0.07666344870819257\n",
            "  Params: \n",
            "    units: 79\n",
            "    dropout_rate: 0.3648060733105246\n",
            "    epochs: 49\n",
            "    batch_size: 85\n"
          ]
        },
        {
          "data": {
            "text/html": [
              "<html>\n",
              "<head><meta charset=\"utf-8\" /></head>\n",
              "<body>\n",
              "    <div>            <script src=\"https://cdnjs.cloudflare.com/ajax/libs/mathjax/2.7.5/MathJax.js?config=TeX-AMS-MML_SVG\"></script><script type=\"text/javascript\">if (window.MathJax && window.MathJax.Hub && window.MathJax.Hub.Config) {window.MathJax.Hub.Config({SVG: {font: \"STIX-Web\"}});}</script>                <script type=\"text/javascript\">window.PlotlyConfig = {MathJaxConfig: 'local'};</script>\n",
              "        <script charset=\"utf-8\" src=\"https://cdn.plot.ly/plotly-2.24.1.min.js\"></script>                <div id=\"df2ac642-3ad7-4711-94e2-51112a8aace2\" class=\"plotly-graph-div\" style=\"height:525px; width:100%;\"></div>            <script type=\"text/javascript\">                                    window.PLOTLYENV=window.PLOTLYENV || {};                                    if (document.getElementById(\"df2ac642-3ad7-4711-94e2-51112a8aace2\")) {                    Plotly.newPlot(                        \"df2ac642-3ad7-4711-94e2-51112a8aace2\",                        [{\"mode\":\"markers\",\"name\":\"Objective Value\",\"x\":[0,1,2,3,4,5,6,7,8,9],\"y\":[0.07666344870819257,0.08163326420005527,0.07935143516682484,0.08214082450064102,0.0849518233204486,0.24322192418391442,0.07685412308106872,0.08629869176032556,0.07988554740875976,0.08438915446445878],\"type\":\"scatter\"},{\"mode\":\"lines\",\"name\":\"Best Value\",\"x\":[0,1,2,3,4,5,6,7,8,9],\"y\":[0.07666344870819257,0.07666344870819257,0.07666344870819257,0.07666344870819257,0.07666344870819257,0.07666344870819257,0.07666344870819257,0.07666344870819257,0.07666344870819257,0.07666344870819257],\"type\":\"scatter\"},{\"marker\":{\"color\":\"#cccccc\"},\"mode\":\"markers\",\"name\":\"Infeasible Trial\",\"showlegend\":false,\"x\":[],\"y\":[],\"type\":\"scatter\"}],                        {\"title\":{\"text\":\"Optimization History Plot\"},\"xaxis\":{\"title\":{\"text\":\"Trial\"}},\"yaxis\":{\"title\":{\"text\":\"Objective Value\"}},\"template\":{\"data\":{\"histogram2dcontour\":[{\"type\":\"histogram2dcontour\",\"colorbar\":{\"outlinewidth\":0,\"ticks\":\"\"},\"colorscale\":[[0.0,\"#0d0887\"],[0.1111111111111111,\"#46039f\"],[0.2222222222222222,\"#7201a8\"],[0.3333333333333333,\"#9c179e\"],[0.4444444444444444,\"#bd3786\"],[0.5555555555555556,\"#d8576b\"],[0.6666666666666666,\"#ed7953\"],[0.7777777777777778,\"#fb9f3a\"],[0.8888888888888888,\"#fdca26\"],[1.0,\"#f0f921\"]]}],\"choropleth\":[{\"type\":\"choropleth\",\"colorbar\":{\"outlinewidth\":0,\"ticks\":\"\"}}],\"histogram2d\":[{\"type\":\"histogram2d\",\"colorbar\":{\"outlinewidth\":0,\"ticks\":\"\"},\"colorscale\":[[0.0,\"#0d0887\"],[0.1111111111111111,\"#46039f\"],[0.2222222222222222,\"#7201a8\"],[0.3333333333333333,\"#9c179e\"],[0.4444444444444444,\"#bd3786\"],[0.5555555555555556,\"#d8576b\"],[0.6666666666666666,\"#ed7953\"],[0.7777777777777778,\"#fb9f3a\"],[0.8888888888888888,\"#fdca26\"],[1.0,\"#f0f921\"]]}],\"heatmap\":[{\"type\":\"heatmap\",\"colorbar\":{\"outlinewidth\":0,\"ticks\":\"\"},\"colorscale\":[[0.0,\"#0d0887\"],[0.1111111111111111,\"#46039f\"],[0.2222222222222222,\"#7201a8\"],[0.3333333333333333,\"#9c179e\"],[0.4444444444444444,\"#bd3786\"],[0.5555555555555556,\"#d8576b\"],[0.6666666666666666,\"#ed7953\"],[0.7777777777777778,\"#fb9f3a\"],[0.8888888888888888,\"#fdca26\"],[1.0,\"#f0f921\"]]}],\"heatmapgl\":[{\"type\":\"heatmapgl\",\"colorbar\":{\"outlinewidth\":0,\"ticks\":\"\"},\"colorscale\":[[0.0,\"#0d0887\"],[0.1111111111111111,\"#46039f\"],[0.2222222222222222,\"#7201a8\"],[0.3333333333333333,\"#9c179e\"],[0.4444444444444444,\"#bd3786\"],[0.5555555555555556,\"#d8576b\"],[0.6666666666666666,\"#ed7953\"],[0.7777777777777778,\"#fb9f3a\"],[0.8888888888888888,\"#fdca26\"],[1.0,\"#f0f921\"]]}],\"contourcarpet\":[{\"type\":\"contourcarpet\",\"colorbar\":{\"outlinewidth\":0,\"ticks\":\"\"}}],\"contour\":[{\"type\":\"contour\",\"colorbar\":{\"outlinewidth\":0,\"ticks\":\"\"},\"colorscale\":[[0.0,\"#0d0887\"],[0.1111111111111111,\"#46039f\"],[0.2222222222222222,\"#7201a8\"],[0.3333333333333333,\"#9c179e\"],[0.4444444444444444,\"#bd3786\"],[0.5555555555555556,\"#d8576b\"],[0.6666666666666666,\"#ed7953\"],[0.7777777777777778,\"#fb9f3a\"],[0.8888888888888888,\"#fdca26\"],[1.0,\"#f0f921\"]]}],\"surface\":[{\"type\":\"surface\",\"colorbar\":{\"outlinewidth\":0,\"ticks\":\"\"},\"colorscale\":[[0.0,\"#0d0887\"],[0.1111111111111111,\"#46039f\"],[0.2222222222222222,\"#7201a8\"],[0.3333333333333333,\"#9c179e\"],[0.4444444444444444,\"#bd3786\"],[0.5555555555555556,\"#d8576b\"],[0.6666666666666666,\"#ed7953\"],[0.7777777777777778,\"#fb9f3a\"],[0.8888888888888888,\"#fdca26\"],[1.0,\"#f0f921\"]]}],\"mesh3d\":[{\"type\":\"mesh3d\",\"colorbar\":{\"outlinewidth\":0,\"ticks\":\"\"}}],\"scatter\":[{\"fillpattern\":{\"fillmode\":\"overlay\",\"size\":10,\"solidity\":0.2},\"type\":\"scatter\"}],\"parcoords\":[{\"type\":\"parcoords\",\"line\":{\"colorbar\":{\"outlinewidth\":0,\"ticks\":\"\"}}}],\"scatterpolargl\":[{\"type\":\"scatterpolargl\",\"marker\":{\"colorbar\":{\"outlinewidth\":0,\"ticks\":\"\"}}}],\"bar\":[{\"error_x\":{\"color\":\"#2a3f5f\"},\"error_y\":{\"color\":\"#2a3f5f\"},\"marker\":{\"line\":{\"color\":\"#E5ECF6\",\"width\":0.5},\"pattern\":{\"fillmode\":\"overlay\",\"size\":10,\"solidity\":0.2}},\"type\":\"bar\"}],\"scattergeo\":[{\"type\":\"scattergeo\",\"marker\":{\"colorbar\":{\"outlinewidth\":0,\"ticks\":\"\"}}}],\"scatterpolar\":[{\"type\":\"scatterpolar\",\"marker\":{\"colorbar\":{\"outlinewidth\":0,\"ticks\":\"\"}}}],\"histogram\":[{\"marker\":{\"pattern\":{\"fillmode\":\"overlay\",\"size\":10,\"solidity\":0.2}},\"type\":\"histogram\"}],\"scattergl\":[{\"type\":\"scattergl\",\"marker\":{\"colorbar\":{\"outlinewidth\":0,\"ticks\":\"\"}}}],\"scatter3d\":[{\"type\":\"scatter3d\",\"line\":{\"colorbar\":{\"outlinewidth\":0,\"ticks\":\"\"}},\"marker\":{\"colorbar\":{\"outlinewidth\":0,\"ticks\":\"\"}}}],\"scattermapbox\":[{\"type\":\"scattermapbox\",\"marker\":{\"colorbar\":{\"outlinewidth\":0,\"ticks\":\"\"}}}],\"scatterternary\":[{\"type\":\"scatterternary\",\"marker\":{\"colorbar\":{\"outlinewidth\":0,\"ticks\":\"\"}}}],\"scattercarpet\":[{\"type\":\"scattercarpet\",\"marker\":{\"colorbar\":{\"outlinewidth\":0,\"ticks\":\"\"}}}],\"carpet\":[{\"aaxis\":{\"endlinecolor\":\"#2a3f5f\",\"gridcolor\":\"white\",\"linecolor\":\"white\",\"minorgridcolor\":\"white\",\"startlinecolor\":\"#2a3f5f\"},\"baxis\":{\"endlinecolor\":\"#2a3f5f\",\"gridcolor\":\"white\",\"linecolor\":\"white\",\"minorgridcolor\":\"white\",\"startlinecolor\":\"#2a3f5f\"},\"type\":\"carpet\"}],\"table\":[{\"cells\":{\"fill\":{\"color\":\"#EBF0F8\"},\"line\":{\"color\":\"white\"}},\"header\":{\"fill\":{\"color\":\"#C8D4E3\"},\"line\":{\"color\":\"white\"}},\"type\":\"table\"}],\"barpolar\":[{\"marker\":{\"line\":{\"color\":\"#E5ECF6\",\"width\":0.5},\"pattern\":{\"fillmode\":\"overlay\",\"size\":10,\"solidity\":0.2}},\"type\":\"barpolar\"}],\"pie\":[{\"automargin\":true,\"type\":\"pie\"}]},\"layout\":{\"autotypenumbers\":\"strict\",\"colorway\":[\"#636efa\",\"#EF553B\",\"#00cc96\",\"#ab63fa\",\"#FFA15A\",\"#19d3f3\",\"#FF6692\",\"#B6E880\",\"#FF97FF\",\"#FECB52\"],\"font\":{\"color\":\"#2a3f5f\"},\"hovermode\":\"closest\",\"hoverlabel\":{\"align\":\"left\"},\"paper_bgcolor\":\"white\",\"plot_bgcolor\":\"#E5ECF6\",\"polar\":{\"bgcolor\":\"#E5ECF6\",\"angularaxis\":{\"gridcolor\":\"white\",\"linecolor\":\"white\",\"ticks\":\"\"},\"radialaxis\":{\"gridcolor\":\"white\",\"linecolor\":\"white\",\"ticks\":\"\"}},\"ternary\":{\"bgcolor\":\"#E5ECF6\",\"aaxis\":{\"gridcolor\":\"white\",\"linecolor\":\"white\",\"ticks\":\"\"},\"baxis\":{\"gridcolor\":\"white\",\"linecolor\":\"white\",\"ticks\":\"\"},\"caxis\":{\"gridcolor\":\"white\",\"linecolor\":\"white\",\"ticks\":\"\"}},\"coloraxis\":{\"colorbar\":{\"outlinewidth\":0,\"ticks\":\"\"}},\"colorscale\":{\"sequential\":[[0.0,\"#0d0887\"],[0.1111111111111111,\"#46039f\"],[0.2222222222222222,\"#7201a8\"],[0.3333333333333333,\"#9c179e\"],[0.4444444444444444,\"#bd3786\"],[0.5555555555555556,\"#d8576b\"],[0.6666666666666666,\"#ed7953\"],[0.7777777777777778,\"#fb9f3a\"],[0.8888888888888888,\"#fdca26\"],[1.0,\"#f0f921\"]],\"sequentialminus\":[[0.0,\"#0d0887\"],[0.1111111111111111,\"#46039f\"],[0.2222222222222222,\"#7201a8\"],[0.3333333333333333,\"#9c179e\"],[0.4444444444444444,\"#bd3786\"],[0.5555555555555556,\"#d8576b\"],[0.6666666666666666,\"#ed7953\"],[0.7777777777777778,\"#fb9f3a\"],[0.8888888888888888,\"#fdca26\"],[1.0,\"#f0f921\"]],\"diverging\":[[0,\"#8e0152\"],[0.1,\"#c51b7d\"],[0.2,\"#de77ae\"],[0.3,\"#f1b6da\"],[0.4,\"#fde0ef\"],[0.5,\"#f7f7f7\"],[0.6,\"#e6f5d0\"],[0.7,\"#b8e186\"],[0.8,\"#7fbc41\"],[0.9,\"#4d9221\"],[1,\"#276419\"]]},\"xaxis\":{\"gridcolor\":\"white\",\"linecolor\":\"white\",\"ticks\":\"\",\"title\":{\"standoff\":15},\"zerolinecolor\":\"white\",\"automargin\":true,\"zerolinewidth\":2},\"yaxis\":{\"gridcolor\":\"white\",\"linecolor\":\"white\",\"ticks\":\"\",\"title\":{\"standoff\":15},\"zerolinecolor\":\"white\",\"automargin\":true,\"zerolinewidth\":2},\"scene\":{\"xaxis\":{\"backgroundcolor\":\"#E5ECF6\",\"gridcolor\":\"white\",\"linecolor\":\"white\",\"showbackground\":true,\"ticks\":\"\",\"zerolinecolor\":\"white\",\"gridwidth\":2},\"yaxis\":{\"backgroundcolor\":\"#E5ECF6\",\"gridcolor\":\"white\",\"linecolor\":\"white\",\"showbackground\":true,\"ticks\":\"\",\"zerolinecolor\":\"white\",\"gridwidth\":2},\"zaxis\":{\"backgroundcolor\":\"#E5ECF6\",\"gridcolor\":\"white\",\"linecolor\":\"white\",\"showbackground\":true,\"ticks\":\"\",\"zerolinecolor\":\"white\",\"gridwidth\":2}},\"shapedefaults\":{\"line\":{\"color\":\"#2a3f5f\"}},\"annotationdefaults\":{\"arrowcolor\":\"#2a3f5f\",\"arrowhead\":0,\"arrowwidth\":1},\"geo\":{\"bgcolor\":\"white\",\"landcolor\":\"#E5ECF6\",\"subunitcolor\":\"white\",\"showland\":true,\"showlakes\":true,\"lakecolor\":\"white\"},\"title\":{\"x\":0.05},\"mapbox\":{\"style\":\"light\"}}}},                        {\"responsive\": true}                    ).then(function(){\n",
              "                            \n",
              "var gd = document.getElementById('df2ac642-3ad7-4711-94e2-51112a8aace2');\n",
              "var x = new MutationObserver(function (mutations, observer) {{\n",
              "        var display = window.getComputedStyle(gd).display;\n",
              "        if (!display || display === 'none') {{\n",
              "            console.log([gd, 'removed!']);\n",
              "            Plotly.purge(gd);\n",
              "            observer.disconnect();\n",
              "        }}\n",
              "}});\n",
              "\n",
              "// Listen for the removal of the full notebook cells\n",
              "var notebookContainer = gd.closest('#notebook-container');\n",
              "if (notebookContainer) {{\n",
              "    x.observe(notebookContainer, {childList: true});\n",
              "}}\n",
              "\n",
              "// Listen for the clearing of the current output cell\n",
              "var outputEl = gd.closest('.output');\n",
              "if (outputEl) {{\n",
              "    x.observe(outputEl, {childList: true});\n",
              "}}\n",
              "\n",
              "                        })                };                            </script>        </div>\n",
              "</body>\n",
              "</html>"
            ]
          },
          "metadata": {},
          "output_type": "display_data"
        },
        {
          "data": {
            "text/html": [
              "<html>\n",
              "<head><meta charset=\"utf-8\" /></head>\n",
              "<body>\n",
              "    <div>            <script src=\"https://cdnjs.cloudflare.com/ajax/libs/mathjax/2.7.5/MathJax.js?config=TeX-AMS-MML_SVG\"></script><script type=\"text/javascript\">if (window.MathJax && window.MathJax.Hub && window.MathJax.Hub.Config) {window.MathJax.Hub.Config({SVG: {font: \"STIX-Web\"}});}</script>                <script type=\"text/javascript\">window.PlotlyConfig = {MathJaxConfig: 'local'};</script>\n",
              "        <script charset=\"utf-8\" src=\"https://cdn.plot.ly/plotly-2.24.1.min.js\"></script>                <div id=\"f1253854-e69b-4537-ac27-8e7bbdfa4801\" class=\"plotly-graph-div\" style=\"height:525px; width:100%;\"></div>            <script type=\"text/javascript\">                                    window.PLOTLYENV=window.PLOTLYENV || {};                                    if (document.getElementById(\"f1253854-e69b-4537-ac27-8e7bbdfa4801\")) {                    Plotly.newPlot(                        \"f1253854-e69b-4537-ac27-8e7bbdfa4801\",                        [{\"cliponaxis\":false,\"hovertemplate\":[\"dropout_rate (FloatDistribution): 0.018567293953545182\\u003cextra\\u003e\\u003c\\u002fextra\\u003e\",\"epochs (IntDistribution): 0.18302144036572204\\u003cextra\\u003e\\u003c\\u002fextra\\u003e\",\"units (IntDistribution): 0.21440753016861094\\u003cextra\\u003e\\u003c\\u002fextra\\u003e\",\"batch_size (IntDistribution): 0.5840037355121219\\u003cextra\\u003e\\u003c\\u002fextra\\u003e\"],\"name\":\"Objective Value\",\"orientation\":\"h\",\"text\":[\"0.02\",\"0.18\",\"0.21\",\"0.58\"],\"textposition\":\"outside\",\"x\":[0.018567293953545182,0.18302144036572204,0.21440753016861094,0.5840037355121219],\"y\":[\"dropout_rate\",\"epochs\",\"units\",\"batch_size\"],\"type\":\"bar\"}],                        {\"title\":{\"text\":\"Hyperparameter Importances\"},\"xaxis\":{\"title\":{\"text\":\"Hyperparameter Importance\"}},\"yaxis\":{\"title\":{\"text\":\"Hyperparameter\"}},\"template\":{\"data\":{\"histogram2dcontour\":[{\"type\":\"histogram2dcontour\",\"colorbar\":{\"outlinewidth\":0,\"ticks\":\"\"},\"colorscale\":[[0.0,\"#0d0887\"],[0.1111111111111111,\"#46039f\"],[0.2222222222222222,\"#7201a8\"],[0.3333333333333333,\"#9c179e\"],[0.4444444444444444,\"#bd3786\"],[0.5555555555555556,\"#d8576b\"],[0.6666666666666666,\"#ed7953\"],[0.7777777777777778,\"#fb9f3a\"],[0.8888888888888888,\"#fdca26\"],[1.0,\"#f0f921\"]]}],\"choropleth\":[{\"type\":\"choropleth\",\"colorbar\":{\"outlinewidth\":0,\"ticks\":\"\"}}],\"histogram2d\":[{\"type\":\"histogram2d\",\"colorbar\":{\"outlinewidth\":0,\"ticks\":\"\"},\"colorscale\":[[0.0,\"#0d0887\"],[0.1111111111111111,\"#46039f\"],[0.2222222222222222,\"#7201a8\"],[0.3333333333333333,\"#9c179e\"],[0.4444444444444444,\"#bd3786\"],[0.5555555555555556,\"#d8576b\"],[0.6666666666666666,\"#ed7953\"],[0.7777777777777778,\"#fb9f3a\"],[0.8888888888888888,\"#fdca26\"],[1.0,\"#f0f921\"]]}],\"heatmap\":[{\"type\":\"heatmap\",\"colorbar\":{\"outlinewidth\":0,\"ticks\":\"\"},\"colorscale\":[[0.0,\"#0d0887\"],[0.1111111111111111,\"#46039f\"],[0.2222222222222222,\"#7201a8\"],[0.3333333333333333,\"#9c179e\"],[0.4444444444444444,\"#bd3786\"],[0.5555555555555556,\"#d8576b\"],[0.6666666666666666,\"#ed7953\"],[0.7777777777777778,\"#fb9f3a\"],[0.8888888888888888,\"#fdca26\"],[1.0,\"#f0f921\"]]}],\"heatmapgl\":[{\"type\":\"heatmapgl\",\"colorbar\":{\"outlinewidth\":0,\"ticks\":\"\"},\"colorscale\":[[0.0,\"#0d0887\"],[0.1111111111111111,\"#46039f\"],[0.2222222222222222,\"#7201a8\"],[0.3333333333333333,\"#9c179e\"],[0.4444444444444444,\"#bd3786\"],[0.5555555555555556,\"#d8576b\"],[0.6666666666666666,\"#ed7953\"],[0.7777777777777778,\"#fb9f3a\"],[0.8888888888888888,\"#fdca26\"],[1.0,\"#f0f921\"]]}],\"contourcarpet\":[{\"type\":\"contourcarpet\",\"colorbar\":{\"outlinewidth\":0,\"ticks\":\"\"}}],\"contour\":[{\"type\":\"contour\",\"colorbar\":{\"outlinewidth\":0,\"ticks\":\"\"},\"colorscale\":[[0.0,\"#0d0887\"],[0.1111111111111111,\"#46039f\"],[0.2222222222222222,\"#7201a8\"],[0.3333333333333333,\"#9c179e\"],[0.4444444444444444,\"#bd3786\"],[0.5555555555555556,\"#d8576b\"],[0.6666666666666666,\"#ed7953\"],[0.7777777777777778,\"#fb9f3a\"],[0.8888888888888888,\"#fdca26\"],[1.0,\"#f0f921\"]]}],\"surface\":[{\"type\":\"surface\",\"colorbar\":{\"outlinewidth\":0,\"ticks\":\"\"},\"colorscale\":[[0.0,\"#0d0887\"],[0.1111111111111111,\"#46039f\"],[0.2222222222222222,\"#7201a8\"],[0.3333333333333333,\"#9c179e\"],[0.4444444444444444,\"#bd3786\"],[0.5555555555555556,\"#d8576b\"],[0.6666666666666666,\"#ed7953\"],[0.7777777777777778,\"#fb9f3a\"],[0.8888888888888888,\"#fdca26\"],[1.0,\"#f0f921\"]]}],\"mesh3d\":[{\"type\":\"mesh3d\",\"colorbar\":{\"outlinewidth\":0,\"ticks\":\"\"}}],\"scatter\":[{\"fillpattern\":{\"fillmode\":\"overlay\",\"size\":10,\"solidity\":0.2},\"type\":\"scatter\"}],\"parcoords\":[{\"type\":\"parcoords\",\"line\":{\"colorbar\":{\"outlinewidth\":0,\"ticks\":\"\"}}}],\"scatterpolargl\":[{\"type\":\"scatterpolargl\",\"marker\":{\"colorbar\":{\"outlinewidth\":0,\"ticks\":\"\"}}}],\"bar\":[{\"error_x\":{\"color\":\"#2a3f5f\"},\"error_y\":{\"color\":\"#2a3f5f\"},\"marker\":{\"line\":{\"color\":\"#E5ECF6\",\"width\":0.5},\"pattern\":{\"fillmode\":\"overlay\",\"size\":10,\"solidity\":0.2}},\"type\":\"bar\"}],\"scattergeo\":[{\"type\":\"scattergeo\",\"marker\":{\"colorbar\":{\"outlinewidth\":0,\"ticks\":\"\"}}}],\"scatterpolar\":[{\"type\":\"scatterpolar\",\"marker\":{\"colorbar\":{\"outlinewidth\":0,\"ticks\":\"\"}}}],\"histogram\":[{\"marker\":{\"pattern\":{\"fillmode\":\"overlay\",\"size\":10,\"solidity\":0.2}},\"type\":\"histogram\"}],\"scattergl\":[{\"type\":\"scattergl\",\"marker\":{\"colorbar\":{\"outlinewidth\":0,\"ticks\":\"\"}}}],\"scatter3d\":[{\"type\":\"scatter3d\",\"line\":{\"colorbar\":{\"outlinewidth\":0,\"ticks\":\"\"}},\"marker\":{\"colorbar\":{\"outlinewidth\":0,\"ticks\":\"\"}}}],\"scattermapbox\":[{\"type\":\"scattermapbox\",\"marker\":{\"colorbar\":{\"outlinewidth\":0,\"ticks\":\"\"}}}],\"scatterternary\":[{\"type\":\"scatterternary\",\"marker\":{\"colorbar\":{\"outlinewidth\":0,\"ticks\":\"\"}}}],\"scattercarpet\":[{\"type\":\"scattercarpet\",\"marker\":{\"colorbar\":{\"outlinewidth\":0,\"ticks\":\"\"}}}],\"carpet\":[{\"aaxis\":{\"endlinecolor\":\"#2a3f5f\",\"gridcolor\":\"white\",\"linecolor\":\"white\",\"minorgridcolor\":\"white\",\"startlinecolor\":\"#2a3f5f\"},\"baxis\":{\"endlinecolor\":\"#2a3f5f\",\"gridcolor\":\"white\",\"linecolor\":\"white\",\"minorgridcolor\":\"white\",\"startlinecolor\":\"#2a3f5f\"},\"type\":\"carpet\"}],\"table\":[{\"cells\":{\"fill\":{\"color\":\"#EBF0F8\"},\"line\":{\"color\":\"white\"}},\"header\":{\"fill\":{\"color\":\"#C8D4E3\"},\"line\":{\"color\":\"white\"}},\"type\":\"table\"}],\"barpolar\":[{\"marker\":{\"line\":{\"color\":\"#E5ECF6\",\"width\":0.5},\"pattern\":{\"fillmode\":\"overlay\",\"size\":10,\"solidity\":0.2}},\"type\":\"barpolar\"}],\"pie\":[{\"automargin\":true,\"type\":\"pie\"}]},\"layout\":{\"autotypenumbers\":\"strict\",\"colorway\":[\"#636efa\",\"#EF553B\",\"#00cc96\",\"#ab63fa\",\"#FFA15A\",\"#19d3f3\",\"#FF6692\",\"#B6E880\",\"#FF97FF\",\"#FECB52\"],\"font\":{\"color\":\"#2a3f5f\"},\"hovermode\":\"closest\",\"hoverlabel\":{\"align\":\"left\"},\"paper_bgcolor\":\"white\",\"plot_bgcolor\":\"#E5ECF6\",\"polar\":{\"bgcolor\":\"#E5ECF6\",\"angularaxis\":{\"gridcolor\":\"white\",\"linecolor\":\"white\",\"ticks\":\"\"},\"radialaxis\":{\"gridcolor\":\"white\",\"linecolor\":\"white\",\"ticks\":\"\"}},\"ternary\":{\"bgcolor\":\"#E5ECF6\",\"aaxis\":{\"gridcolor\":\"white\",\"linecolor\":\"white\",\"ticks\":\"\"},\"baxis\":{\"gridcolor\":\"white\",\"linecolor\":\"white\",\"ticks\":\"\"},\"caxis\":{\"gridcolor\":\"white\",\"linecolor\":\"white\",\"ticks\":\"\"}},\"coloraxis\":{\"colorbar\":{\"outlinewidth\":0,\"ticks\":\"\"}},\"colorscale\":{\"sequential\":[[0.0,\"#0d0887\"],[0.1111111111111111,\"#46039f\"],[0.2222222222222222,\"#7201a8\"],[0.3333333333333333,\"#9c179e\"],[0.4444444444444444,\"#bd3786\"],[0.5555555555555556,\"#d8576b\"],[0.6666666666666666,\"#ed7953\"],[0.7777777777777778,\"#fb9f3a\"],[0.8888888888888888,\"#fdca26\"],[1.0,\"#f0f921\"]],\"sequentialminus\":[[0.0,\"#0d0887\"],[0.1111111111111111,\"#46039f\"],[0.2222222222222222,\"#7201a8\"],[0.3333333333333333,\"#9c179e\"],[0.4444444444444444,\"#bd3786\"],[0.5555555555555556,\"#d8576b\"],[0.6666666666666666,\"#ed7953\"],[0.7777777777777778,\"#fb9f3a\"],[0.8888888888888888,\"#fdca26\"],[1.0,\"#f0f921\"]],\"diverging\":[[0,\"#8e0152\"],[0.1,\"#c51b7d\"],[0.2,\"#de77ae\"],[0.3,\"#f1b6da\"],[0.4,\"#fde0ef\"],[0.5,\"#f7f7f7\"],[0.6,\"#e6f5d0\"],[0.7,\"#b8e186\"],[0.8,\"#7fbc41\"],[0.9,\"#4d9221\"],[1,\"#276419\"]]},\"xaxis\":{\"gridcolor\":\"white\",\"linecolor\":\"white\",\"ticks\":\"\",\"title\":{\"standoff\":15},\"zerolinecolor\":\"white\",\"automargin\":true,\"zerolinewidth\":2},\"yaxis\":{\"gridcolor\":\"white\",\"linecolor\":\"white\",\"ticks\":\"\",\"title\":{\"standoff\":15},\"zerolinecolor\":\"white\",\"automargin\":true,\"zerolinewidth\":2},\"scene\":{\"xaxis\":{\"backgroundcolor\":\"#E5ECF6\",\"gridcolor\":\"white\",\"linecolor\":\"white\",\"showbackground\":true,\"ticks\":\"\",\"zerolinecolor\":\"white\",\"gridwidth\":2},\"yaxis\":{\"backgroundcolor\":\"#E5ECF6\",\"gridcolor\":\"white\",\"linecolor\":\"white\",\"showbackground\":true,\"ticks\":\"\",\"zerolinecolor\":\"white\",\"gridwidth\":2},\"zaxis\":{\"backgroundcolor\":\"#E5ECF6\",\"gridcolor\":\"white\",\"linecolor\":\"white\",\"showbackground\":true,\"ticks\":\"\",\"zerolinecolor\":\"white\",\"gridwidth\":2}},\"shapedefaults\":{\"line\":{\"color\":\"#2a3f5f\"}},\"annotationdefaults\":{\"arrowcolor\":\"#2a3f5f\",\"arrowhead\":0,\"arrowwidth\":1},\"geo\":{\"bgcolor\":\"white\",\"landcolor\":\"#E5ECF6\",\"subunitcolor\":\"white\",\"showland\":true,\"showlakes\":true,\"lakecolor\":\"white\"},\"title\":{\"x\":0.05},\"mapbox\":{\"style\":\"light\"}}}},                        {\"responsive\": true}                    ).then(function(){\n",
              "                            \n",
              "var gd = document.getElementById('f1253854-e69b-4537-ac27-8e7bbdfa4801');\n",
              "var x = new MutationObserver(function (mutations, observer) {{\n",
              "        var display = window.getComputedStyle(gd).display;\n",
              "        if (!display || display === 'none') {{\n",
              "            console.log([gd, 'removed!']);\n",
              "            Plotly.purge(gd);\n",
              "            observer.disconnect();\n",
              "        }}\n",
              "}});\n",
              "\n",
              "// Listen for the removal of the full notebook cells\n",
              "var notebookContainer = gd.closest('#notebook-container');\n",
              "if (notebookContainer) {{\n",
              "    x.observe(notebookContainer, {childList: true});\n",
              "}}\n",
              "\n",
              "// Listen for the clearing of the current output cell\n",
              "var outputEl = gd.closest('.output');\n",
              "if (outputEl) {{\n",
              "    x.observe(outputEl, {childList: true});\n",
              "}}\n",
              "\n",
              "                        })                };                            </script>        </div>\n",
              "</body>\n",
              "</html>"
            ]
          },
          "metadata": {},
          "output_type": "display_data"
        },
        {
          "name": "stderr",
          "output_type": "stream",
          "text": [
            "[I 2024-07-15 17:12:50,665] A new study created in memory with name: no-name-9b624755-35b6-4f73-9bf0-8b113af26dde\n"
          ]
        },
        {
          "name": "stdout",
          "output_type": "stream",
          "text": [
            "Optimizing RNN for input combination: all_angles\n",
            "300/300 [==============================] - 1s 3ms/step\n"
          ]
        },
        {
          "name": "stderr",
          "output_type": "stream",
          "text": [
            "[I 2024-07-15 17:14:17,529] Trial 0 finished with value: 0.013781427402050616 and parameters: {'units': 73, 'dropout_rate': 0.46918049127751316, 'epochs': 15, 'batch_size': 42}. Best is trial 0 with value: 0.013781427402050616.\n"
          ]
        },
        {
          "name": "stdout",
          "output_type": "stream",
          "text": [
            "300/300 [==============================] - 1s 2ms/step\n"
          ]
        },
        {
          "name": "stderr",
          "output_type": "stream",
          "text": [
            "[I 2024-07-15 17:15:15,839] Trial 1 finished with value: 0.030145077273625434 and parameters: {'units': 17, 'dropout_rate': 0.15253605457003552, 'epochs': 41, 'batch_size': 83}. Best is trial 0 with value: 0.013781427402050616.\n"
          ]
        },
        {
          "name": "stdout",
          "output_type": "stream",
          "text": [
            "300/300 [==============================] - 1s 2ms/step\n"
          ]
        },
        {
          "name": "stderr",
          "output_type": "stream",
          "text": [
            "[I 2024-07-15 17:16:42,486] Trial 2 finished with value: 0.012217481831227459 and parameters: {'units': 76, 'dropout_rate': 0.4564966844926287, 'epochs': 27, 'batch_size': 71}. Best is trial 2 with value: 0.012217481831227459.\n"
          ]
        },
        {
          "name": "stdout",
          "output_type": "stream",
          "text": [
            "300/300 [==============================] - 2s 2ms/step\n"
          ]
        },
        {
          "name": "stderr",
          "output_type": "stream",
          "text": [
            "[I 2024-07-15 17:20:09,417] Trial 3 finished with value: 0.012204524919242647 and parameters: {'units': 45, 'dropout_rate': 0.4090137428008366, 'epochs': 38, 'batch_size': 20}. Best is trial 3 with value: 0.012204524919242647.\n"
          ]
        },
        {
          "name": "stdout",
          "output_type": "stream",
          "text": [
            "300/300 [==============================] - 1s 2ms/step\n"
          ]
        },
        {
          "name": "stderr",
          "output_type": "stream",
          "text": [
            "[I 2024-07-15 17:21:12,324] Trial 4 finished with value: 0.013749949543391104 and parameters: {'units': 45, 'dropout_rate': 0.2939226866008396, 'epochs': 48, 'batch_size': 127}. Best is trial 3 with value: 0.012204524919242647.\n"
          ]
        },
        {
          "name": "stdout",
          "output_type": "stream",
          "text": [
            "300/300 [==============================] - 1s 3ms/step\n"
          ]
        },
        {
          "name": "stderr",
          "output_type": "stream",
          "text": [
            "[I 2024-07-15 17:21:34,511] Trial 5 finished with value: 0.016505149023490547 and parameters: {'units': 58, 'dropout_rate': 0.4034160634831828, 'epochs': 12, 'batch_size': 108}. Best is trial 3 with value: 0.012204524919242647.\n"
          ]
        },
        {
          "name": "stdout",
          "output_type": "stream",
          "text": [
            "300/300 [==============================] - 1s 2ms/step\n"
          ]
        },
        {
          "name": "stderr",
          "output_type": "stream",
          "text": [
            "[I 2024-07-15 17:22:17,743] Trial 6 finished with value: 0.015772544382522794 and parameters: {'units': 52, 'dropout_rate': 0.40136676665818805, 'epochs': 29, 'batch_size': 112}. Best is trial 3 with value: 0.012204524919242647.\n"
          ]
        },
        {
          "name": "stdout",
          "output_type": "stream",
          "text": [
            "300/300 [==============================] - 1s 2ms/step\n"
          ]
        },
        {
          "name": "stderr",
          "output_type": "stream",
          "text": [
            "[I 2024-07-15 17:23:34,721] Trial 7 finished with value: 0.012598149801856388 and parameters: {'units': 66, 'dropout_rate': 0.4044984119810291, 'epochs': 39, 'batch_size': 112}. Best is trial 3 with value: 0.012204524919242647.\n"
          ]
        },
        {
          "name": "stdout",
          "output_type": "stream",
          "text": [
            "300/300 [==============================] - 1s 2ms/step\n"
          ]
        },
        {
          "name": "stderr",
          "output_type": "stream",
          "text": [
            "[I 2024-07-15 17:25:48,659] Trial 8 finished with value: 0.0118117502156798 and parameters: {'units': 88, 'dropout_rate': 0.14389941374778178, 'epochs': 48, 'batch_size': 76}. Best is trial 8 with value: 0.0118117502156798.\n"
          ]
        },
        {
          "name": "stdout",
          "output_type": "stream",
          "text": [
            "300/300 [==============================] - 1s 2ms/step\n"
          ]
        },
        {
          "name": "stderr",
          "output_type": "stream",
          "text": [
            "[I 2024-07-15 17:26:33,868] Trial 9 finished with value: 0.012913060987155061 and parameters: {'units': 100, 'dropout_rate': 0.4509882791257819, 'epochs': 11, 'batch_size': 86}. Best is trial 8 with value: 0.0118117502156798.\n"
          ]
        },
        {
          "name": "stdout",
          "output_type": "stream",
          "text": [
            "Best trial for rnn with input all_angles:\n",
            "  Value: 0.0118117502156798\n",
            "  Params: \n",
            "    units: 88\n",
            "    dropout_rate: 0.14389941374778178\n",
            "    epochs: 48\n",
            "    batch_size: 76\n"
          ]
        },
        {
          "data": {
            "text/html": [
              "<html>\n",
              "<head><meta charset=\"utf-8\" /></head>\n",
              "<body>\n",
              "    <div>            <script src=\"https://cdnjs.cloudflare.com/ajax/libs/mathjax/2.7.5/MathJax.js?config=TeX-AMS-MML_SVG\"></script><script type=\"text/javascript\">if (window.MathJax && window.MathJax.Hub && window.MathJax.Hub.Config) {window.MathJax.Hub.Config({SVG: {font: \"STIX-Web\"}});}</script>                <script type=\"text/javascript\">window.PlotlyConfig = {MathJaxConfig: 'local'};</script>\n",
              "        <script charset=\"utf-8\" src=\"https://cdn.plot.ly/plotly-2.24.1.min.js\"></script>                <div id=\"21842194-a31f-4e5a-94c4-715ebe3cdd0e\" class=\"plotly-graph-div\" style=\"height:525px; width:100%;\"></div>            <script type=\"text/javascript\">                                    window.PLOTLYENV=window.PLOTLYENV || {};                                    if (document.getElementById(\"21842194-a31f-4e5a-94c4-715ebe3cdd0e\")) {                    Plotly.newPlot(                        \"21842194-a31f-4e5a-94c4-715ebe3cdd0e\",                        [{\"mode\":\"markers\",\"name\":\"Objective Value\",\"x\":[0,1,2,3,4,5,6,7,8,9],\"y\":[0.013781427402050616,0.030145077273625434,0.012217481831227459,0.012204524919242647,0.013749949543391104,0.016505149023490547,0.015772544382522794,0.012598149801856388,0.0118117502156798,0.012913060987155061],\"type\":\"scatter\"},{\"mode\":\"lines\",\"name\":\"Best Value\",\"x\":[0,1,2,3,4,5,6,7,8,9],\"y\":[0.013781427402050616,0.013781427402050616,0.012217481831227459,0.012204524919242647,0.012204524919242647,0.012204524919242647,0.012204524919242647,0.012204524919242647,0.0118117502156798,0.0118117502156798],\"type\":\"scatter\"},{\"marker\":{\"color\":\"#cccccc\"},\"mode\":\"markers\",\"name\":\"Infeasible Trial\",\"showlegend\":false,\"x\":[],\"y\":[],\"type\":\"scatter\"}],                        {\"title\":{\"text\":\"Optimization History Plot\"},\"xaxis\":{\"title\":{\"text\":\"Trial\"}},\"yaxis\":{\"title\":{\"text\":\"Objective Value\"}},\"template\":{\"data\":{\"histogram2dcontour\":[{\"type\":\"histogram2dcontour\",\"colorbar\":{\"outlinewidth\":0,\"ticks\":\"\"},\"colorscale\":[[0.0,\"#0d0887\"],[0.1111111111111111,\"#46039f\"],[0.2222222222222222,\"#7201a8\"],[0.3333333333333333,\"#9c179e\"],[0.4444444444444444,\"#bd3786\"],[0.5555555555555556,\"#d8576b\"],[0.6666666666666666,\"#ed7953\"],[0.7777777777777778,\"#fb9f3a\"],[0.8888888888888888,\"#fdca26\"],[1.0,\"#f0f921\"]]}],\"choropleth\":[{\"type\":\"choropleth\",\"colorbar\":{\"outlinewidth\":0,\"ticks\":\"\"}}],\"histogram2d\":[{\"type\":\"histogram2d\",\"colorbar\":{\"outlinewidth\":0,\"ticks\":\"\"},\"colorscale\":[[0.0,\"#0d0887\"],[0.1111111111111111,\"#46039f\"],[0.2222222222222222,\"#7201a8\"],[0.3333333333333333,\"#9c179e\"],[0.4444444444444444,\"#bd3786\"],[0.5555555555555556,\"#d8576b\"],[0.6666666666666666,\"#ed7953\"],[0.7777777777777778,\"#fb9f3a\"],[0.8888888888888888,\"#fdca26\"],[1.0,\"#f0f921\"]]}],\"heatmap\":[{\"type\":\"heatmap\",\"colorbar\":{\"outlinewidth\":0,\"ticks\":\"\"},\"colorscale\":[[0.0,\"#0d0887\"],[0.1111111111111111,\"#46039f\"],[0.2222222222222222,\"#7201a8\"],[0.3333333333333333,\"#9c179e\"],[0.4444444444444444,\"#bd3786\"],[0.5555555555555556,\"#d8576b\"],[0.6666666666666666,\"#ed7953\"],[0.7777777777777778,\"#fb9f3a\"],[0.8888888888888888,\"#fdca26\"],[1.0,\"#f0f921\"]]}],\"heatmapgl\":[{\"type\":\"heatmapgl\",\"colorbar\":{\"outlinewidth\":0,\"ticks\":\"\"},\"colorscale\":[[0.0,\"#0d0887\"],[0.1111111111111111,\"#46039f\"],[0.2222222222222222,\"#7201a8\"],[0.3333333333333333,\"#9c179e\"],[0.4444444444444444,\"#bd3786\"],[0.5555555555555556,\"#d8576b\"],[0.6666666666666666,\"#ed7953\"],[0.7777777777777778,\"#fb9f3a\"],[0.8888888888888888,\"#fdca26\"],[1.0,\"#f0f921\"]]}],\"contourcarpet\":[{\"type\":\"contourcarpet\",\"colorbar\":{\"outlinewidth\":0,\"ticks\":\"\"}}],\"contour\":[{\"type\":\"contour\",\"colorbar\":{\"outlinewidth\":0,\"ticks\":\"\"},\"colorscale\":[[0.0,\"#0d0887\"],[0.1111111111111111,\"#46039f\"],[0.2222222222222222,\"#7201a8\"],[0.3333333333333333,\"#9c179e\"],[0.4444444444444444,\"#bd3786\"],[0.5555555555555556,\"#d8576b\"],[0.6666666666666666,\"#ed7953\"],[0.7777777777777778,\"#fb9f3a\"],[0.8888888888888888,\"#fdca26\"],[1.0,\"#f0f921\"]]}],\"surface\":[{\"type\":\"surface\",\"colorbar\":{\"outlinewidth\":0,\"ticks\":\"\"},\"colorscale\":[[0.0,\"#0d0887\"],[0.1111111111111111,\"#46039f\"],[0.2222222222222222,\"#7201a8\"],[0.3333333333333333,\"#9c179e\"],[0.4444444444444444,\"#bd3786\"],[0.5555555555555556,\"#d8576b\"],[0.6666666666666666,\"#ed7953\"],[0.7777777777777778,\"#fb9f3a\"],[0.8888888888888888,\"#fdca26\"],[1.0,\"#f0f921\"]]}],\"mesh3d\":[{\"type\":\"mesh3d\",\"colorbar\":{\"outlinewidth\":0,\"ticks\":\"\"}}],\"scatter\":[{\"fillpattern\":{\"fillmode\":\"overlay\",\"size\":10,\"solidity\":0.2},\"type\":\"scatter\"}],\"parcoords\":[{\"type\":\"parcoords\",\"line\":{\"colorbar\":{\"outlinewidth\":0,\"ticks\":\"\"}}}],\"scatterpolargl\":[{\"type\":\"scatterpolargl\",\"marker\":{\"colorbar\":{\"outlinewidth\":0,\"ticks\":\"\"}}}],\"bar\":[{\"error_x\":{\"color\":\"#2a3f5f\"},\"error_y\":{\"color\":\"#2a3f5f\"},\"marker\":{\"line\":{\"color\":\"#E5ECF6\",\"width\":0.5},\"pattern\":{\"fillmode\":\"overlay\",\"size\":10,\"solidity\":0.2}},\"type\":\"bar\"}],\"scattergeo\":[{\"type\":\"scattergeo\",\"marker\":{\"colorbar\":{\"outlinewidth\":0,\"ticks\":\"\"}}}],\"scatterpolar\":[{\"type\":\"scatterpolar\",\"marker\":{\"colorbar\":{\"outlinewidth\":0,\"ticks\":\"\"}}}],\"histogram\":[{\"marker\":{\"pattern\":{\"fillmode\":\"overlay\",\"size\":10,\"solidity\":0.2}},\"type\":\"histogram\"}],\"scattergl\":[{\"type\":\"scattergl\",\"marker\":{\"colorbar\":{\"outlinewidth\":0,\"ticks\":\"\"}}}],\"scatter3d\":[{\"type\":\"scatter3d\",\"line\":{\"colorbar\":{\"outlinewidth\":0,\"ticks\":\"\"}},\"marker\":{\"colorbar\":{\"outlinewidth\":0,\"ticks\":\"\"}}}],\"scattermapbox\":[{\"type\":\"scattermapbox\",\"marker\":{\"colorbar\":{\"outlinewidth\":0,\"ticks\":\"\"}}}],\"scatterternary\":[{\"type\":\"scatterternary\",\"marker\":{\"colorbar\":{\"outlinewidth\":0,\"ticks\":\"\"}}}],\"scattercarpet\":[{\"type\":\"scattercarpet\",\"marker\":{\"colorbar\":{\"outlinewidth\":0,\"ticks\":\"\"}}}],\"carpet\":[{\"aaxis\":{\"endlinecolor\":\"#2a3f5f\",\"gridcolor\":\"white\",\"linecolor\":\"white\",\"minorgridcolor\":\"white\",\"startlinecolor\":\"#2a3f5f\"},\"baxis\":{\"endlinecolor\":\"#2a3f5f\",\"gridcolor\":\"white\",\"linecolor\":\"white\",\"minorgridcolor\":\"white\",\"startlinecolor\":\"#2a3f5f\"},\"type\":\"carpet\"}],\"table\":[{\"cells\":{\"fill\":{\"color\":\"#EBF0F8\"},\"line\":{\"color\":\"white\"}},\"header\":{\"fill\":{\"color\":\"#C8D4E3\"},\"line\":{\"color\":\"white\"}},\"type\":\"table\"}],\"barpolar\":[{\"marker\":{\"line\":{\"color\":\"#E5ECF6\",\"width\":0.5},\"pattern\":{\"fillmode\":\"overlay\",\"size\":10,\"solidity\":0.2}},\"type\":\"barpolar\"}],\"pie\":[{\"automargin\":true,\"type\":\"pie\"}]},\"layout\":{\"autotypenumbers\":\"strict\",\"colorway\":[\"#636efa\",\"#EF553B\",\"#00cc96\",\"#ab63fa\",\"#FFA15A\",\"#19d3f3\",\"#FF6692\",\"#B6E880\",\"#FF97FF\",\"#FECB52\"],\"font\":{\"color\":\"#2a3f5f\"},\"hovermode\":\"closest\",\"hoverlabel\":{\"align\":\"left\"},\"paper_bgcolor\":\"white\",\"plot_bgcolor\":\"#E5ECF6\",\"polar\":{\"bgcolor\":\"#E5ECF6\",\"angularaxis\":{\"gridcolor\":\"white\",\"linecolor\":\"white\",\"ticks\":\"\"},\"radialaxis\":{\"gridcolor\":\"white\",\"linecolor\":\"white\",\"ticks\":\"\"}},\"ternary\":{\"bgcolor\":\"#E5ECF6\",\"aaxis\":{\"gridcolor\":\"white\",\"linecolor\":\"white\",\"ticks\":\"\"},\"baxis\":{\"gridcolor\":\"white\",\"linecolor\":\"white\",\"ticks\":\"\"},\"caxis\":{\"gridcolor\":\"white\",\"linecolor\":\"white\",\"ticks\":\"\"}},\"coloraxis\":{\"colorbar\":{\"outlinewidth\":0,\"ticks\":\"\"}},\"colorscale\":{\"sequential\":[[0.0,\"#0d0887\"],[0.1111111111111111,\"#46039f\"],[0.2222222222222222,\"#7201a8\"],[0.3333333333333333,\"#9c179e\"],[0.4444444444444444,\"#bd3786\"],[0.5555555555555556,\"#d8576b\"],[0.6666666666666666,\"#ed7953\"],[0.7777777777777778,\"#fb9f3a\"],[0.8888888888888888,\"#fdca26\"],[1.0,\"#f0f921\"]],\"sequentialminus\":[[0.0,\"#0d0887\"],[0.1111111111111111,\"#46039f\"],[0.2222222222222222,\"#7201a8\"],[0.3333333333333333,\"#9c179e\"],[0.4444444444444444,\"#bd3786\"],[0.5555555555555556,\"#d8576b\"],[0.6666666666666666,\"#ed7953\"],[0.7777777777777778,\"#fb9f3a\"],[0.8888888888888888,\"#fdca26\"],[1.0,\"#f0f921\"]],\"diverging\":[[0,\"#8e0152\"],[0.1,\"#c51b7d\"],[0.2,\"#de77ae\"],[0.3,\"#f1b6da\"],[0.4,\"#fde0ef\"],[0.5,\"#f7f7f7\"],[0.6,\"#e6f5d0\"],[0.7,\"#b8e186\"],[0.8,\"#7fbc41\"],[0.9,\"#4d9221\"],[1,\"#276419\"]]},\"xaxis\":{\"gridcolor\":\"white\",\"linecolor\":\"white\",\"ticks\":\"\",\"title\":{\"standoff\":15},\"zerolinecolor\":\"white\",\"automargin\":true,\"zerolinewidth\":2},\"yaxis\":{\"gridcolor\":\"white\",\"linecolor\":\"white\",\"ticks\":\"\",\"title\":{\"standoff\":15},\"zerolinecolor\":\"white\",\"automargin\":true,\"zerolinewidth\":2},\"scene\":{\"xaxis\":{\"backgroundcolor\":\"#E5ECF6\",\"gridcolor\":\"white\",\"linecolor\":\"white\",\"showbackground\":true,\"ticks\":\"\",\"zerolinecolor\":\"white\",\"gridwidth\":2},\"yaxis\":{\"backgroundcolor\":\"#E5ECF6\",\"gridcolor\":\"white\",\"linecolor\":\"white\",\"showbackground\":true,\"ticks\":\"\",\"zerolinecolor\":\"white\",\"gridwidth\":2},\"zaxis\":{\"backgroundcolor\":\"#E5ECF6\",\"gridcolor\":\"white\",\"linecolor\":\"white\",\"showbackground\":true,\"ticks\":\"\",\"zerolinecolor\":\"white\",\"gridwidth\":2}},\"shapedefaults\":{\"line\":{\"color\":\"#2a3f5f\"}},\"annotationdefaults\":{\"arrowcolor\":\"#2a3f5f\",\"arrowhead\":0,\"arrowwidth\":1},\"geo\":{\"bgcolor\":\"white\",\"landcolor\":\"#E5ECF6\",\"subunitcolor\":\"white\",\"showland\":true,\"showlakes\":true,\"lakecolor\":\"white\"},\"title\":{\"x\":0.05},\"mapbox\":{\"style\":\"light\"}}}},                        {\"responsive\": true}                    ).then(function(){\n",
              "                            \n",
              "var gd = document.getElementById('21842194-a31f-4e5a-94c4-715ebe3cdd0e');\n",
              "var x = new MutationObserver(function (mutations, observer) {{\n",
              "        var display = window.getComputedStyle(gd).display;\n",
              "        if (!display || display === 'none') {{\n",
              "            console.log([gd, 'removed!']);\n",
              "            Plotly.purge(gd);\n",
              "            observer.disconnect();\n",
              "        }}\n",
              "}});\n",
              "\n",
              "// Listen for the removal of the full notebook cells\n",
              "var notebookContainer = gd.closest('#notebook-container');\n",
              "if (notebookContainer) {{\n",
              "    x.observe(notebookContainer, {childList: true});\n",
              "}}\n",
              "\n",
              "// Listen for the clearing of the current output cell\n",
              "var outputEl = gd.closest('.output');\n",
              "if (outputEl) {{\n",
              "    x.observe(outputEl, {childList: true});\n",
              "}}\n",
              "\n",
              "                        })                };                            </script>        </div>\n",
              "</body>\n",
              "</html>"
            ]
          },
          "metadata": {},
          "output_type": "display_data"
        },
        {
          "data": {
            "text/html": [
              "<html>\n",
              "<head><meta charset=\"utf-8\" /></head>\n",
              "<body>\n",
              "    <div>            <script src=\"https://cdnjs.cloudflare.com/ajax/libs/mathjax/2.7.5/MathJax.js?config=TeX-AMS-MML_SVG\"></script><script type=\"text/javascript\">if (window.MathJax && window.MathJax.Hub && window.MathJax.Hub.Config) {window.MathJax.Hub.Config({SVG: {font: \"STIX-Web\"}});}</script>                <script type=\"text/javascript\">window.PlotlyConfig = {MathJaxConfig: 'local'};</script>\n",
              "        <script charset=\"utf-8\" src=\"https://cdn.plot.ly/plotly-2.24.1.min.js\"></script>                <div id=\"d63e9d05-40ae-4cb3-9eb6-60d8b82f2f05\" class=\"plotly-graph-div\" style=\"height:525px; width:100%;\"></div>            <script type=\"text/javascript\">                                    window.PLOTLYENV=window.PLOTLYENV || {};                                    if (document.getElementById(\"d63e9d05-40ae-4cb3-9eb6-60d8b82f2f05\")) {                    Plotly.newPlot(                        \"d63e9d05-40ae-4cb3-9eb6-60d8b82f2f05\",                        [{\"cliponaxis\":false,\"hovertemplate\":[\"batch_size (IntDistribution): 0.059987559708222206\\u003cextra\\u003e\\u003c\\u002fextra\\u003e\",\"epochs (IntDistribution): 0.07294533572649411\\u003cextra\\u003e\\u003c\\u002fextra\\u003e\",\"dropout_rate (FloatDistribution): 0.26882979020192593\\u003cextra\\u003e\\u003c\\u002fextra\\u003e\",\"units (IntDistribution): 0.5982373143633578\\u003cextra\\u003e\\u003c\\u002fextra\\u003e\"],\"name\":\"Objective Value\",\"orientation\":\"h\",\"text\":[\"0.06\",\"0.07\",\"0.27\",\"0.60\"],\"textposition\":\"outside\",\"x\":[0.059987559708222206,0.07294533572649411,0.26882979020192593,0.5982373143633578],\"y\":[\"batch_size\",\"epochs\",\"dropout_rate\",\"units\"],\"type\":\"bar\"}],                        {\"title\":{\"text\":\"Hyperparameter Importances\"},\"xaxis\":{\"title\":{\"text\":\"Hyperparameter Importance\"}},\"yaxis\":{\"title\":{\"text\":\"Hyperparameter\"}},\"template\":{\"data\":{\"histogram2dcontour\":[{\"type\":\"histogram2dcontour\",\"colorbar\":{\"outlinewidth\":0,\"ticks\":\"\"},\"colorscale\":[[0.0,\"#0d0887\"],[0.1111111111111111,\"#46039f\"],[0.2222222222222222,\"#7201a8\"],[0.3333333333333333,\"#9c179e\"],[0.4444444444444444,\"#bd3786\"],[0.5555555555555556,\"#d8576b\"],[0.6666666666666666,\"#ed7953\"],[0.7777777777777778,\"#fb9f3a\"],[0.8888888888888888,\"#fdca26\"],[1.0,\"#f0f921\"]]}],\"choropleth\":[{\"type\":\"choropleth\",\"colorbar\":{\"outlinewidth\":0,\"ticks\":\"\"}}],\"histogram2d\":[{\"type\":\"histogram2d\",\"colorbar\":{\"outlinewidth\":0,\"ticks\":\"\"},\"colorscale\":[[0.0,\"#0d0887\"],[0.1111111111111111,\"#46039f\"],[0.2222222222222222,\"#7201a8\"],[0.3333333333333333,\"#9c179e\"],[0.4444444444444444,\"#bd3786\"],[0.5555555555555556,\"#d8576b\"],[0.6666666666666666,\"#ed7953\"],[0.7777777777777778,\"#fb9f3a\"],[0.8888888888888888,\"#fdca26\"],[1.0,\"#f0f921\"]]}],\"heatmap\":[{\"type\":\"heatmap\",\"colorbar\":{\"outlinewidth\":0,\"ticks\":\"\"},\"colorscale\":[[0.0,\"#0d0887\"],[0.1111111111111111,\"#46039f\"],[0.2222222222222222,\"#7201a8\"],[0.3333333333333333,\"#9c179e\"],[0.4444444444444444,\"#bd3786\"],[0.5555555555555556,\"#d8576b\"],[0.6666666666666666,\"#ed7953\"],[0.7777777777777778,\"#fb9f3a\"],[0.8888888888888888,\"#fdca26\"],[1.0,\"#f0f921\"]]}],\"heatmapgl\":[{\"type\":\"heatmapgl\",\"colorbar\":{\"outlinewidth\":0,\"ticks\":\"\"},\"colorscale\":[[0.0,\"#0d0887\"],[0.1111111111111111,\"#46039f\"],[0.2222222222222222,\"#7201a8\"],[0.3333333333333333,\"#9c179e\"],[0.4444444444444444,\"#bd3786\"],[0.5555555555555556,\"#d8576b\"],[0.6666666666666666,\"#ed7953\"],[0.7777777777777778,\"#fb9f3a\"],[0.8888888888888888,\"#fdca26\"],[1.0,\"#f0f921\"]]}],\"contourcarpet\":[{\"type\":\"contourcarpet\",\"colorbar\":{\"outlinewidth\":0,\"ticks\":\"\"}}],\"contour\":[{\"type\":\"contour\",\"colorbar\":{\"outlinewidth\":0,\"ticks\":\"\"},\"colorscale\":[[0.0,\"#0d0887\"],[0.1111111111111111,\"#46039f\"],[0.2222222222222222,\"#7201a8\"],[0.3333333333333333,\"#9c179e\"],[0.4444444444444444,\"#bd3786\"],[0.5555555555555556,\"#d8576b\"],[0.6666666666666666,\"#ed7953\"],[0.7777777777777778,\"#fb9f3a\"],[0.8888888888888888,\"#fdca26\"],[1.0,\"#f0f921\"]]}],\"surface\":[{\"type\":\"surface\",\"colorbar\":{\"outlinewidth\":0,\"ticks\":\"\"},\"colorscale\":[[0.0,\"#0d0887\"],[0.1111111111111111,\"#46039f\"],[0.2222222222222222,\"#7201a8\"],[0.3333333333333333,\"#9c179e\"],[0.4444444444444444,\"#bd3786\"],[0.5555555555555556,\"#d8576b\"],[0.6666666666666666,\"#ed7953\"],[0.7777777777777778,\"#fb9f3a\"],[0.8888888888888888,\"#fdca26\"],[1.0,\"#f0f921\"]]}],\"mesh3d\":[{\"type\":\"mesh3d\",\"colorbar\":{\"outlinewidth\":0,\"ticks\":\"\"}}],\"scatter\":[{\"fillpattern\":{\"fillmode\":\"overlay\",\"size\":10,\"solidity\":0.2},\"type\":\"scatter\"}],\"parcoords\":[{\"type\":\"parcoords\",\"line\":{\"colorbar\":{\"outlinewidth\":0,\"ticks\":\"\"}}}],\"scatterpolargl\":[{\"type\":\"scatterpolargl\",\"marker\":{\"colorbar\":{\"outlinewidth\":0,\"ticks\":\"\"}}}],\"bar\":[{\"error_x\":{\"color\":\"#2a3f5f\"},\"error_y\":{\"color\":\"#2a3f5f\"},\"marker\":{\"line\":{\"color\":\"#E5ECF6\",\"width\":0.5},\"pattern\":{\"fillmode\":\"overlay\",\"size\":10,\"solidity\":0.2}},\"type\":\"bar\"}],\"scattergeo\":[{\"type\":\"scattergeo\",\"marker\":{\"colorbar\":{\"outlinewidth\":0,\"ticks\":\"\"}}}],\"scatterpolar\":[{\"type\":\"scatterpolar\",\"marker\":{\"colorbar\":{\"outlinewidth\":0,\"ticks\":\"\"}}}],\"histogram\":[{\"marker\":{\"pattern\":{\"fillmode\":\"overlay\",\"size\":10,\"solidity\":0.2}},\"type\":\"histogram\"}],\"scattergl\":[{\"type\":\"scattergl\",\"marker\":{\"colorbar\":{\"outlinewidth\":0,\"ticks\":\"\"}}}],\"scatter3d\":[{\"type\":\"scatter3d\",\"line\":{\"colorbar\":{\"outlinewidth\":0,\"ticks\":\"\"}},\"marker\":{\"colorbar\":{\"outlinewidth\":0,\"ticks\":\"\"}}}],\"scattermapbox\":[{\"type\":\"scattermapbox\",\"marker\":{\"colorbar\":{\"outlinewidth\":0,\"ticks\":\"\"}}}],\"scatterternary\":[{\"type\":\"scatterternary\",\"marker\":{\"colorbar\":{\"outlinewidth\":0,\"ticks\":\"\"}}}],\"scattercarpet\":[{\"type\":\"scattercarpet\",\"marker\":{\"colorbar\":{\"outlinewidth\":0,\"ticks\":\"\"}}}],\"carpet\":[{\"aaxis\":{\"endlinecolor\":\"#2a3f5f\",\"gridcolor\":\"white\",\"linecolor\":\"white\",\"minorgridcolor\":\"white\",\"startlinecolor\":\"#2a3f5f\"},\"baxis\":{\"endlinecolor\":\"#2a3f5f\",\"gridcolor\":\"white\",\"linecolor\":\"white\",\"minorgridcolor\":\"white\",\"startlinecolor\":\"#2a3f5f\"},\"type\":\"carpet\"}],\"table\":[{\"cells\":{\"fill\":{\"color\":\"#EBF0F8\"},\"line\":{\"color\":\"white\"}},\"header\":{\"fill\":{\"color\":\"#C8D4E3\"},\"line\":{\"color\":\"white\"}},\"type\":\"table\"}],\"barpolar\":[{\"marker\":{\"line\":{\"color\":\"#E5ECF6\",\"width\":0.5},\"pattern\":{\"fillmode\":\"overlay\",\"size\":10,\"solidity\":0.2}},\"type\":\"barpolar\"}],\"pie\":[{\"automargin\":true,\"type\":\"pie\"}]},\"layout\":{\"autotypenumbers\":\"strict\",\"colorway\":[\"#636efa\",\"#EF553B\",\"#00cc96\",\"#ab63fa\",\"#FFA15A\",\"#19d3f3\",\"#FF6692\",\"#B6E880\",\"#FF97FF\",\"#FECB52\"],\"font\":{\"color\":\"#2a3f5f\"},\"hovermode\":\"closest\",\"hoverlabel\":{\"align\":\"left\"},\"paper_bgcolor\":\"white\",\"plot_bgcolor\":\"#E5ECF6\",\"polar\":{\"bgcolor\":\"#E5ECF6\",\"angularaxis\":{\"gridcolor\":\"white\",\"linecolor\":\"white\",\"ticks\":\"\"},\"radialaxis\":{\"gridcolor\":\"white\",\"linecolor\":\"white\",\"ticks\":\"\"}},\"ternary\":{\"bgcolor\":\"#E5ECF6\",\"aaxis\":{\"gridcolor\":\"white\",\"linecolor\":\"white\",\"ticks\":\"\"},\"baxis\":{\"gridcolor\":\"white\",\"linecolor\":\"white\",\"ticks\":\"\"},\"caxis\":{\"gridcolor\":\"white\",\"linecolor\":\"white\",\"ticks\":\"\"}},\"coloraxis\":{\"colorbar\":{\"outlinewidth\":0,\"ticks\":\"\"}},\"colorscale\":{\"sequential\":[[0.0,\"#0d0887\"],[0.1111111111111111,\"#46039f\"],[0.2222222222222222,\"#7201a8\"],[0.3333333333333333,\"#9c179e\"],[0.4444444444444444,\"#bd3786\"],[0.5555555555555556,\"#d8576b\"],[0.6666666666666666,\"#ed7953\"],[0.7777777777777778,\"#fb9f3a\"],[0.8888888888888888,\"#fdca26\"],[1.0,\"#f0f921\"]],\"sequentialminus\":[[0.0,\"#0d0887\"],[0.1111111111111111,\"#46039f\"],[0.2222222222222222,\"#7201a8\"],[0.3333333333333333,\"#9c179e\"],[0.4444444444444444,\"#bd3786\"],[0.5555555555555556,\"#d8576b\"],[0.6666666666666666,\"#ed7953\"],[0.7777777777777778,\"#fb9f3a\"],[0.8888888888888888,\"#fdca26\"],[1.0,\"#f0f921\"]],\"diverging\":[[0,\"#8e0152\"],[0.1,\"#c51b7d\"],[0.2,\"#de77ae\"],[0.3,\"#f1b6da\"],[0.4,\"#fde0ef\"],[0.5,\"#f7f7f7\"],[0.6,\"#e6f5d0\"],[0.7,\"#b8e186\"],[0.8,\"#7fbc41\"],[0.9,\"#4d9221\"],[1,\"#276419\"]]},\"xaxis\":{\"gridcolor\":\"white\",\"linecolor\":\"white\",\"ticks\":\"\",\"title\":{\"standoff\":15},\"zerolinecolor\":\"white\",\"automargin\":true,\"zerolinewidth\":2},\"yaxis\":{\"gridcolor\":\"white\",\"linecolor\":\"white\",\"ticks\":\"\",\"title\":{\"standoff\":15},\"zerolinecolor\":\"white\",\"automargin\":true,\"zerolinewidth\":2},\"scene\":{\"xaxis\":{\"backgroundcolor\":\"#E5ECF6\",\"gridcolor\":\"white\",\"linecolor\":\"white\",\"showbackground\":true,\"ticks\":\"\",\"zerolinecolor\":\"white\",\"gridwidth\":2},\"yaxis\":{\"backgroundcolor\":\"#E5ECF6\",\"gridcolor\":\"white\",\"linecolor\":\"white\",\"showbackground\":true,\"ticks\":\"\",\"zerolinecolor\":\"white\",\"gridwidth\":2},\"zaxis\":{\"backgroundcolor\":\"#E5ECF6\",\"gridcolor\":\"white\",\"linecolor\":\"white\",\"showbackground\":true,\"ticks\":\"\",\"zerolinecolor\":\"white\",\"gridwidth\":2}},\"shapedefaults\":{\"line\":{\"color\":\"#2a3f5f\"}},\"annotationdefaults\":{\"arrowcolor\":\"#2a3f5f\",\"arrowhead\":0,\"arrowwidth\":1},\"geo\":{\"bgcolor\":\"white\",\"landcolor\":\"#E5ECF6\",\"subunitcolor\":\"white\",\"showland\":true,\"showlakes\":true,\"lakecolor\":\"white\"},\"title\":{\"x\":0.05},\"mapbox\":{\"style\":\"light\"}}}},                        {\"responsive\": true}                    ).then(function(){\n",
              "                            \n",
              "var gd = document.getElementById('d63e9d05-40ae-4cb3-9eb6-60d8b82f2f05');\n",
              "var x = new MutationObserver(function (mutations, observer) {{\n",
              "        var display = window.getComputedStyle(gd).display;\n",
              "        if (!display || display === 'none') {{\n",
              "            console.log([gd, 'removed!']);\n",
              "            Plotly.purge(gd);\n",
              "            observer.disconnect();\n",
              "        }}\n",
              "}});\n",
              "\n",
              "// Listen for the removal of the full notebook cells\n",
              "var notebookContainer = gd.closest('#notebook-container');\n",
              "if (notebookContainer) {{\n",
              "    x.observe(notebookContainer, {childList: true});\n",
              "}}\n",
              "\n",
              "// Listen for the clearing of the current output cell\n",
              "var outputEl = gd.closest('.output');\n",
              "if (outputEl) {{\n",
              "    x.observe(outputEl, {childList: true});\n",
              "}}\n",
              "\n",
              "                        })                };                            </script>        </div>\n",
              "</body>\n",
              "</html>"
            ]
          },
          "metadata": {},
          "output_type": "display_data"
        },
        {
          "name": "stderr",
          "output_type": "stream",
          "text": [
            "[I 2024-07-15 17:26:34,214] A new study created in memory with name: no-name-4ed983a0-449b-44fb-a364-af6b7b70808b\n"
          ]
        },
        {
          "name": "stdout",
          "output_type": "stream",
          "text": [
            "Optimizing CNN for input combination: all_angles\n",
            "300/300 [==============================] - 1s 1ms/step\n"
          ]
        },
        {
          "name": "stderr",
          "output_type": "stream",
          "text": [
            "[I 2024-07-15 17:27:17,820] Trial 0 finished with value: 0.037702055865148985 and parameters: {'units': 26, 'dropout_rate': 0.47376617065840443, 'epochs': 37, 'batch_size': 114}. Best is trial 0 with value: 0.037702055865148985.\n"
          ]
        },
        {
          "name": "stdout",
          "output_type": "stream",
          "text": [
            "300/300 [==============================] - 1s 2ms/step\n"
          ]
        },
        {
          "name": "stderr",
          "output_type": "stream",
          "text": [
            "[I 2024-07-15 17:28:56,304] Trial 1 finished with value: 0.016255591984132886 and parameters: {'units': 89, 'dropout_rate': 0.26113656792931567, 'epochs': 47, 'batch_size': 73}. Best is trial 1 with value: 0.016255591984132886.\n"
          ]
        },
        {
          "name": "stdout",
          "output_type": "stream",
          "text": [
            "300/300 [==============================] - 1s 1ms/step\n"
          ]
        },
        {
          "name": "stderr",
          "output_type": "stream",
          "text": [
            "[I 2024-07-15 17:29:20,196] Trial 2 finished with value: 0.04585394663934653 and parameters: {'units': 29, 'dropout_rate': 0.4511750829733573, 'epochs': 23, 'batch_size': 122}. Best is trial 1 with value: 0.016255591984132886.\n"
          ]
        },
        {
          "name": "stdout",
          "output_type": "stream",
          "text": [
            "300/300 [==============================] - 1s 2ms/step\n"
          ]
        },
        {
          "name": "stderr",
          "output_type": "stream",
          "text": [
            "[I 2024-07-15 17:30:03,233] Trial 3 finished with value: 0.01729033708561679 and parameters: {'units': 82, 'dropout_rate': 0.4638513753303183, 'epochs': 14, 'batch_size': 37}. Best is trial 1 with value: 0.016255591984132886.\n"
          ]
        },
        {
          "name": "stdout",
          "output_type": "stream",
          "text": [
            "300/300 [==============================] - 1s 2ms/step\n"
          ]
        },
        {
          "name": "stderr",
          "output_type": "stream",
          "text": [
            "[I 2024-07-15 17:30:50,565] Trial 4 finished with value: 0.02318736861088162 and parameters: {'units': 91, 'dropout_rate': 0.42356481751774255, 'epochs': 27, 'batch_size': 112}. Best is trial 1 with value: 0.016255591984132886.\n"
          ]
        },
        {
          "name": "stdout",
          "output_type": "stream",
          "text": [
            "300/300 [==============================] - 1s 1ms/step\n"
          ]
        },
        {
          "name": "stderr",
          "output_type": "stream",
          "text": [
            "[I 2024-07-15 17:31:33,621] Trial 5 finished with value: 0.015856250027142662 and parameters: {'units': 91, 'dropout_rate': 0.17786010190677204, 'epochs': 11, 'batch_size': 67}. Best is trial 5 with value: 0.015856250027142662.\n"
          ]
        },
        {
          "name": "stdout",
          "output_type": "stream",
          "text": [
            "300/300 [==============================] - 1s 2ms/step\n"
          ]
        },
        {
          "name": "stderr",
          "output_type": "stream",
          "text": [
            "[I 2024-07-15 17:32:57,725] Trial 6 finished with value: 0.01908558443727545 and parameters: {'units': 70, 'dropout_rate': 0.32450547843167765, 'epochs': 19, 'batch_size': 45}. Best is trial 5 with value: 0.015856250027142662.\n"
          ]
        },
        {
          "name": "stdout",
          "output_type": "stream",
          "text": [
            "300/300 [==============================] - 1s 2ms/step\n"
          ]
        },
        {
          "name": "stderr",
          "output_type": "stream",
          "text": [
            "[I 2024-07-15 17:34:17,917] Trial 7 finished with value: 0.01541162879811736 and parameters: {'units': 88, 'dropout_rate': 0.4489498860037714, 'epochs': 33, 'batch_size': 55}. Best is trial 7 with value: 0.01541162879811736.\n"
          ]
        },
        {
          "name": "stdout",
          "output_type": "stream",
          "text": [
            "300/300 [==============================] - 1s 2ms/step\n"
          ]
        },
        {
          "name": "stderr",
          "output_type": "stream",
          "text": [
            "[I 2024-07-15 17:35:42,236] Trial 8 finished with value: 0.02127120517950852 and parameters: {'units': 79, 'dropout_rate': 0.4811023032123547, 'epochs': 16, 'batch_size': 32}. Best is trial 7 with value: 0.01541162879811736.\n"
          ]
        },
        {
          "name": "stdout",
          "output_type": "stream",
          "text": [
            "300/300 [==============================] - 1s 2ms/step\n"
          ]
        },
        {
          "name": "stderr",
          "output_type": "stream",
          "text": [
            "[I 2024-07-15 17:36:07,766] Trial 9 finished with value: 0.028333727350368144 and parameters: {'units': 53, 'dropout_rate': 0.44348839042804433, 'epochs': 13, 'batch_size': 92}. Best is trial 7 with value: 0.01541162879811736.\n"
          ]
        },
        {
          "name": "stdout",
          "output_type": "stream",
          "text": [
            "Best trial for cnn with input all_angles:\n",
            "  Value: 0.01541162879811736\n",
            "  Params: \n",
            "    units: 88\n",
            "    dropout_rate: 0.4489498860037714\n",
            "    epochs: 33\n",
            "    batch_size: 55\n"
          ]
        },
        {
          "data": {
            "text/html": [
              "<html>\n",
              "<head><meta charset=\"utf-8\" /></head>\n",
              "<body>\n",
              "    <div>            <script src=\"https://cdnjs.cloudflare.com/ajax/libs/mathjax/2.7.5/MathJax.js?config=TeX-AMS-MML_SVG\"></script><script type=\"text/javascript\">if (window.MathJax && window.MathJax.Hub && window.MathJax.Hub.Config) {window.MathJax.Hub.Config({SVG: {font: \"STIX-Web\"}});}</script>                <script type=\"text/javascript\">window.PlotlyConfig = {MathJaxConfig: 'local'};</script>\n",
              "        <script charset=\"utf-8\" src=\"https://cdn.plot.ly/plotly-2.24.1.min.js\"></script>                <div id=\"23a4c845-94f0-4d26-a096-fed55204f816\" class=\"plotly-graph-div\" style=\"height:525px; width:100%;\"></div>            <script type=\"text/javascript\">                                    window.PLOTLYENV=window.PLOTLYENV || {};                                    if (document.getElementById(\"23a4c845-94f0-4d26-a096-fed55204f816\")) {                    Plotly.newPlot(                        \"23a4c845-94f0-4d26-a096-fed55204f816\",                        [{\"mode\":\"markers\",\"name\":\"Objective Value\",\"x\":[0,1,2,3,4,5,6,7,8,9],\"y\":[0.037702055865148985,0.016255591984132886,0.04585394663934653,0.01729033708561679,0.02318736861088162,0.015856250027142662,0.01908558443727545,0.01541162879811736,0.02127120517950852,0.028333727350368144],\"type\":\"scatter\"},{\"mode\":\"lines\",\"name\":\"Best Value\",\"x\":[0,1,2,3,4,5,6,7,8,9],\"y\":[0.037702055865148985,0.016255591984132886,0.016255591984132886,0.016255591984132886,0.016255591984132886,0.015856250027142662,0.015856250027142662,0.01541162879811736,0.01541162879811736,0.01541162879811736],\"type\":\"scatter\"},{\"marker\":{\"color\":\"#cccccc\"},\"mode\":\"markers\",\"name\":\"Infeasible Trial\",\"showlegend\":false,\"x\":[],\"y\":[],\"type\":\"scatter\"}],                        {\"title\":{\"text\":\"Optimization History Plot\"},\"xaxis\":{\"title\":{\"text\":\"Trial\"}},\"yaxis\":{\"title\":{\"text\":\"Objective Value\"}},\"template\":{\"data\":{\"histogram2dcontour\":[{\"type\":\"histogram2dcontour\",\"colorbar\":{\"outlinewidth\":0,\"ticks\":\"\"},\"colorscale\":[[0.0,\"#0d0887\"],[0.1111111111111111,\"#46039f\"],[0.2222222222222222,\"#7201a8\"],[0.3333333333333333,\"#9c179e\"],[0.4444444444444444,\"#bd3786\"],[0.5555555555555556,\"#d8576b\"],[0.6666666666666666,\"#ed7953\"],[0.7777777777777778,\"#fb9f3a\"],[0.8888888888888888,\"#fdca26\"],[1.0,\"#f0f921\"]]}],\"choropleth\":[{\"type\":\"choropleth\",\"colorbar\":{\"outlinewidth\":0,\"ticks\":\"\"}}],\"histogram2d\":[{\"type\":\"histogram2d\",\"colorbar\":{\"outlinewidth\":0,\"ticks\":\"\"},\"colorscale\":[[0.0,\"#0d0887\"],[0.1111111111111111,\"#46039f\"],[0.2222222222222222,\"#7201a8\"],[0.3333333333333333,\"#9c179e\"],[0.4444444444444444,\"#bd3786\"],[0.5555555555555556,\"#d8576b\"],[0.6666666666666666,\"#ed7953\"],[0.7777777777777778,\"#fb9f3a\"],[0.8888888888888888,\"#fdca26\"],[1.0,\"#f0f921\"]]}],\"heatmap\":[{\"type\":\"heatmap\",\"colorbar\":{\"outlinewidth\":0,\"ticks\":\"\"},\"colorscale\":[[0.0,\"#0d0887\"],[0.1111111111111111,\"#46039f\"],[0.2222222222222222,\"#7201a8\"],[0.3333333333333333,\"#9c179e\"],[0.4444444444444444,\"#bd3786\"],[0.5555555555555556,\"#d8576b\"],[0.6666666666666666,\"#ed7953\"],[0.7777777777777778,\"#fb9f3a\"],[0.8888888888888888,\"#fdca26\"],[1.0,\"#f0f921\"]]}],\"heatmapgl\":[{\"type\":\"heatmapgl\",\"colorbar\":{\"outlinewidth\":0,\"ticks\":\"\"},\"colorscale\":[[0.0,\"#0d0887\"],[0.1111111111111111,\"#46039f\"],[0.2222222222222222,\"#7201a8\"],[0.3333333333333333,\"#9c179e\"],[0.4444444444444444,\"#bd3786\"],[0.5555555555555556,\"#d8576b\"],[0.6666666666666666,\"#ed7953\"],[0.7777777777777778,\"#fb9f3a\"],[0.8888888888888888,\"#fdca26\"],[1.0,\"#f0f921\"]]}],\"contourcarpet\":[{\"type\":\"contourcarpet\",\"colorbar\":{\"outlinewidth\":0,\"ticks\":\"\"}}],\"contour\":[{\"type\":\"contour\",\"colorbar\":{\"outlinewidth\":0,\"ticks\":\"\"},\"colorscale\":[[0.0,\"#0d0887\"],[0.1111111111111111,\"#46039f\"],[0.2222222222222222,\"#7201a8\"],[0.3333333333333333,\"#9c179e\"],[0.4444444444444444,\"#bd3786\"],[0.5555555555555556,\"#d8576b\"],[0.6666666666666666,\"#ed7953\"],[0.7777777777777778,\"#fb9f3a\"],[0.8888888888888888,\"#fdca26\"],[1.0,\"#f0f921\"]]}],\"surface\":[{\"type\":\"surface\",\"colorbar\":{\"outlinewidth\":0,\"ticks\":\"\"},\"colorscale\":[[0.0,\"#0d0887\"],[0.1111111111111111,\"#46039f\"],[0.2222222222222222,\"#7201a8\"],[0.3333333333333333,\"#9c179e\"],[0.4444444444444444,\"#bd3786\"],[0.5555555555555556,\"#d8576b\"],[0.6666666666666666,\"#ed7953\"],[0.7777777777777778,\"#fb9f3a\"],[0.8888888888888888,\"#fdca26\"],[1.0,\"#f0f921\"]]}],\"mesh3d\":[{\"type\":\"mesh3d\",\"colorbar\":{\"outlinewidth\":0,\"ticks\":\"\"}}],\"scatter\":[{\"fillpattern\":{\"fillmode\":\"overlay\",\"size\":10,\"solidity\":0.2},\"type\":\"scatter\"}],\"parcoords\":[{\"type\":\"parcoords\",\"line\":{\"colorbar\":{\"outlinewidth\":0,\"ticks\":\"\"}}}],\"scatterpolargl\":[{\"type\":\"scatterpolargl\",\"marker\":{\"colorbar\":{\"outlinewidth\":0,\"ticks\":\"\"}}}],\"bar\":[{\"error_x\":{\"color\":\"#2a3f5f\"},\"error_y\":{\"color\":\"#2a3f5f\"},\"marker\":{\"line\":{\"color\":\"#E5ECF6\",\"width\":0.5},\"pattern\":{\"fillmode\":\"overlay\",\"size\":10,\"solidity\":0.2}},\"type\":\"bar\"}],\"scattergeo\":[{\"type\":\"scattergeo\",\"marker\":{\"colorbar\":{\"outlinewidth\":0,\"ticks\":\"\"}}}],\"scatterpolar\":[{\"type\":\"scatterpolar\",\"marker\":{\"colorbar\":{\"outlinewidth\":0,\"ticks\":\"\"}}}],\"histogram\":[{\"marker\":{\"pattern\":{\"fillmode\":\"overlay\",\"size\":10,\"solidity\":0.2}},\"type\":\"histogram\"}],\"scattergl\":[{\"type\":\"scattergl\",\"marker\":{\"colorbar\":{\"outlinewidth\":0,\"ticks\":\"\"}}}],\"scatter3d\":[{\"type\":\"scatter3d\",\"line\":{\"colorbar\":{\"outlinewidth\":0,\"ticks\":\"\"}},\"marker\":{\"colorbar\":{\"outlinewidth\":0,\"ticks\":\"\"}}}],\"scattermapbox\":[{\"type\":\"scattermapbox\",\"marker\":{\"colorbar\":{\"outlinewidth\":0,\"ticks\":\"\"}}}],\"scatterternary\":[{\"type\":\"scatterternary\",\"marker\":{\"colorbar\":{\"outlinewidth\":0,\"ticks\":\"\"}}}],\"scattercarpet\":[{\"type\":\"scattercarpet\",\"marker\":{\"colorbar\":{\"outlinewidth\":0,\"ticks\":\"\"}}}],\"carpet\":[{\"aaxis\":{\"endlinecolor\":\"#2a3f5f\",\"gridcolor\":\"white\",\"linecolor\":\"white\",\"minorgridcolor\":\"white\",\"startlinecolor\":\"#2a3f5f\"},\"baxis\":{\"endlinecolor\":\"#2a3f5f\",\"gridcolor\":\"white\",\"linecolor\":\"white\",\"minorgridcolor\":\"white\",\"startlinecolor\":\"#2a3f5f\"},\"type\":\"carpet\"}],\"table\":[{\"cells\":{\"fill\":{\"color\":\"#EBF0F8\"},\"line\":{\"color\":\"white\"}},\"header\":{\"fill\":{\"color\":\"#C8D4E3\"},\"line\":{\"color\":\"white\"}},\"type\":\"table\"}],\"barpolar\":[{\"marker\":{\"line\":{\"color\":\"#E5ECF6\",\"width\":0.5},\"pattern\":{\"fillmode\":\"overlay\",\"size\":10,\"solidity\":0.2}},\"type\":\"barpolar\"}],\"pie\":[{\"automargin\":true,\"type\":\"pie\"}]},\"layout\":{\"autotypenumbers\":\"strict\",\"colorway\":[\"#636efa\",\"#EF553B\",\"#00cc96\",\"#ab63fa\",\"#FFA15A\",\"#19d3f3\",\"#FF6692\",\"#B6E880\",\"#FF97FF\",\"#FECB52\"],\"font\":{\"color\":\"#2a3f5f\"},\"hovermode\":\"closest\",\"hoverlabel\":{\"align\":\"left\"},\"paper_bgcolor\":\"white\",\"plot_bgcolor\":\"#E5ECF6\",\"polar\":{\"bgcolor\":\"#E5ECF6\",\"angularaxis\":{\"gridcolor\":\"white\",\"linecolor\":\"white\",\"ticks\":\"\"},\"radialaxis\":{\"gridcolor\":\"white\",\"linecolor\":\"white\",\"ticks\":\"\"}},\"ternary\":{\"bgcolor\":\"#E5ECF6\",\"aaxis\":{\"gridcolor\":\"white\",\"linecolor\":\"white\",\"ticks\":\"\"},\"baxis\":{\"gridcolor\":\"white\",\"linecolor\":\"white\",\"ticks\":\"\"},\"caxis\":{\"gridcolor\":\"white\",\"linecolor\":\"white\",\"ticks\":\"\"}},\"coloraxis\":{\"colorbar\":{\"outlinewidth\":0,\"ticks\":\"\"}},\"colorscale\":{\"sequential\":[[0.0,\"#0d0887\"],[0.1111111111111111,\"#46039f\"],[0.2222222222222222,\"#7201a8\"],[0.3333333333333333,\"#9c179e\"],[0.4444444444444444,\"#bd3786\"],[0.5555555555555556,\"#d8576b\"],[0.6666666666666666,\"#ed7953\"],[0.7777777777777778,\"#fb9f3a\"],[0.8888888888888888,\"#fdca26\"],[1.0,\"#f0f921\"]],\"sequentialminus\":[[0.0,\"#0d0887\"],[0.1111111111111111,\"#46039f\"],[0.2222222222222222,\"#7201a8\"],[0.3333333333333333,\"#9c179e\"],[0.4444444444444444,\"#bd3786\"],[0.5555555555555556,\"#d8576b\"],[0.6666666666666666,\"#ed7953\"],[0.7777777777777778,\"#fb9f3a\"],[0.8888888888888888,\"#fdca26\"],[1.0,\"#f0f921\"]],\"diverging\":[[0,\"#8e0152\"],[0.1,\"#c51b7d\"],[0.2,\"#de77ae\"],[0.3,\"#f1b6da\"],[0.4,\"#fde0ef\"],[0.5,\"#f7f7f7\"],[0.6,\"#e6f5d0\"],[0.7,\"#b8e186\"],[0.8,\"#7fbc41\"],[0.9,\"#4d9221\"],[1,\"#276419\"]]},\"xaxis\":{\"gridcolor\":\"white\",\"linecolor\":\"white\",\"ticks\":\"\",\"title\":{\"standoff\":15},\"zerolinecolor\":\"white\",\"automargin\":true,\"zerolinewidth\":2},\"yaxis\":{\"gridcolor\":\"white\",\"linecolor\":\"white\",\"ticks\":\"\",\"title\":{\"standoff\":15},\"zerolinecolor\":\"white\",\"automargin\":true,\"zerolinewidth\":2},\"scene\":{\"xaxis\":{\"backgroundcolor\":\"#E5ECF6\",\"gridcolor\":\"white\",\"linecolor\":\"white\",\"showbackground\":true,\"ticks\":\"\",\"zerolinecolor\":\"white\",\"gridwidth\":2},\"yaxis\":{\"backgroundcolor\":\"#E5ECF6\",\"gridcolor\":\"white\",\"linecolor\":\"white\",\"showbackground\":true,\"ticks\":\"\",\"zerolinecolor\":\"white\",\"gridwidth\":2},\"zaxis\":{\"backgroundcolor\":\"#E5ECF6\",\"gridcolor\":\"white\",\"linecolor\":\"white\",\"showbackground\":true,\"ticks\":\"\",\"zerolinecolor\":\"white\",\"gridwidth\":2}},\"shapedefaults\":{\"line\":{\"color\":\"#2a3f5f\"}},\"annotationdefaults\":{\"arrowcolor\":\"#2a3f5f\",\"arrowhead\":0,\"arrowwidth\":1},\"geo\":{\"bgcolor\":\"white\",\"landcolor\":\"#E5ECF6\",\"subunitcolor\":\"white\",\"showland\":true,\"showlakes\":true,\"lakecolor\":\"white\"},\"title\":{\"x\":0.05},\"mapbox\":{\"style\":\"light\"}}}},                        {\"responsive\": true}                    ).then(function(){\n",
              "                            \n",
              "var gd = document.getElementById('23a4c845-94f0-4d26-a096-fed55204f816');\n",
              "var x = new MutationObserver(function (mutations, observer) {{\n",
              "        var display = window.getComputedStyle(gd).display;\n",
              "        if (!display || display === 'none') {{\n",
              "            console.log([gd, 'removed!']);\n",
              "            Plotly.purge(gd);\n",
              "            observer.disconnect();\n",
              "        }}\n",
              "}});\n",
              "\n",
              "// Listen for the removal of the full notebook cells\n",
              "var notebookContainer = gd.closest('#notebook-container');\n",
              "if (notebookContainer) {{\n",
              "    x.observe(notebookContainer, {childList: true});\n",
              "}}\n",
              "\n",
              "// Listen for the clearing of the current output cell\n",
              "var outputEl = gd.closest('.output');\n",
              "if (outputEl) {{\n",
              "    x.observe(outputEl, {childList: true});\n",
              "}}\n",
              "\n",
              "                        })                };                            </script>        </div>\n",
              "</body>\n",
              "</html>"
            ]
          },
          "metadata": {},
          "output_type": "display_data"
        },
        {
          "data": {
            "text/html": [
              "<html>\n",
              "<head><meta charset=\"utf-8\" /></head>\n",
              "<body>\n",
              "    <div>            <script src=\"https://cdnjs.cloudflare.com/ajax/libs/mathjax/2.7.5/MathJax.js?config=TeX-AMS-MML_SVG\"></script><script type=\"text/javascript\">if (window.MathJax && window.MathJax.Hub && window.MathJax.Hub.Config) {window.MathJax.Hub.Config({SVG: {font: \"STIX-Web\"}});}</script>                <script type=\"text/javascript\">window.PlotlyConfig = {MathJaxConfig: 'local'};</script>\n",
              "        <script charset=\"utf-8\" src=\"https://cdn.plot.ly/plotly-2.24.1.min.js\"></script>                <div id=\"a92c69af-bd97-46c8-91df-ea9700f2e703\" class=\"plotly-graph-div\" style=\"height:525px; width:100%;\"></div>            <script type=\"text/javascript\">                                    window.PLOTLYENV=window.PLOTLYENV || {};                                    if (document.getElementById(\"a92c69af-bd97-46c8-91df-ea9700f2e703\")) {                    Plotly.newPlot(                        \"a92c69af-bd97-46c8-91df-ea9700f2e703\",                        [{\"cliponaxis\":false,\"hovertemplate\":[\"dropout_rate (FloatDistribution): 0.03185783367616645\\u003cextra\\u003e\\u003c\\u002fextra\\u003e\",\"epochs (IntDistribution): 0.04457803411864814\\u003cextra\\u003e\\u003c\\u002fextra\\u003e\",\"units (IntDistribution): 0.4488769245018883\\u003cextra\\u003e\\u003c\\u002fextra\\u003e\",\"batch_size (IntDistribution): 0.4746872077032971\\u003cextra\\u003e\\u003c\\u002fextra\\u003e\"],\"name\":\"Objective Value\",\"orientation\":\"h\",\"text\":[\"0.03\",\"0.04\",\"0.45\",\"0.47\"],\"textposition\":\"outside\",\"x\":[0.03185783367616645,0.04457803411864814,0.4488769245018883,0.4746872077032971],\"y\":[\"dropout_rate\",\"epochs\",\"units\",\"batch_size\"],\"type\":\"bar\"}],                        {\"title\":{\"text\":\"Hyperparameter Importances\"},\"xaxis\":{\"title\":{\"text\":\"Hyperparameter Importance\"}},\"yaxis\":{\"title\":{\"text\":\"Hyperparameter\"}},\"template\":{\"data\":{\"histogram2dcontour\":[{\"type\":\"histogram2dcontour\",\"colorbar\":{\"outlinewidth\":0,\"ticks\":\"\"},\"colorscale\":[[0.0,\"#0d0887\"],[0.1111111111111111,\"#46039f\"],[0.2222222222222222,\"#7201a8\"],[0.3333333333333333,\"#9c179e\"],[0.4444444444444444,\"#bd3786\"],[0.5555555555555556,\"#d8576b\"],[0.6666666666666666,\"#ed7953\"],[0.7777777777777778,\"#fb9f3a\"],[0.8888888888888888,\"#fdca26\"],[1.0,\"#f0f921\"]]}],\"choropleth\":[{\"type\":\"choropleth\",\"colorbar\":{\"outlinewidth\":0,\"ticks\":\"\"}}],\"histogram2d\":[{\"type\":\"histogram2d\",\"colorbar\":{\"outlinewidth\":0,\"ticks\":\"\"},\"colorscale\":[[0.0,\"#0d0887\"],[0.1111111111111111,\"#46039f\"],[0.2222222222222222,\"#7201a8\"],[0.3333333333333333,\"#9c179e\"],[0.4444444444444444,\"#bd3786\"],[0.5555555555555556,\"#d8576b\"],[0.6666666666666666,\"#ed7953\"],[0.7777777777777778,\"#fb9f3a\"],[0.8888888888888888,\"#fdca26\"],[1.0,\"#f0f921\"]]}],\"heatmap\":[{\"type\":\"heatmap\",\"colorbar\":{\"outlinewidth\":0,\"ticks\":\"\"},\"colorscale\":[[0.0,\"#0d0887\"],[0.1111111111111111,\"#46039f\"],[0.2222222222222222,\"#7201a8\"],[0.3333333333333333,\"#9c179e\"],[0.4444444444444444,\"#bd3786\"],[0.5555555555555556,\"#d8576b\"],[0.6666666666666666,\"#ed7953\"],[0.7777777777777778,\"#fb9f3a\"],[0.8888888888888888,\"#fdca26\"],[1.0,\"#f0f921\"]]}],\"heatmapgl\":[{\"type\":\"heatmapgl\",\"colorbar\":{\"outlinewidth\":0,\"ticks\":\"\"},\"colorscale\":[[0.0,\"#0d0887\"],[0.1111111111111111,\"#46039f\"],[0.2222222222222222,\"#7201a8\"],[0.3333333333333333,\"#9c179e\"],[0.4444444444444444,\"#bd3786\"],[0.5555555555555556,\"#d8576b\"],[0.6666666666666666,\"#ed7953\"],[0.7777777777777778,\"#fb9f3a\"],[0.8888888888888888,\"#fdca26\"],[1.0,\"#f0f921\"]]}],\"contourcarpet\":[{\"type\":\"contourcarpet\",\"colorbar\":{\"outlinewidth\":0,\"ticks\":\"\"}}],\"contour\":[{\"type\":\"contour\",\"colorbar\":{\"outlinewidth\":0,\"ticks\":\"\"},\"colorscale\":[[0.0,\"#0d0887\"],[0.1111111111111111,\"#46039f\"],[0.2222222222222222,\"#7201a8\"],[0.3333333333333333,\"#9c179e\"],[0.4444444444444444,\"#bd3786\"],[0.5555555555555556,\"#d8576b\"],[0.6666666666666666,\"#ed7953\"],[0.7777777777777778,\"#fb9f3a\"],[0.8888888888888888,\"#fdca26\"],[1.0,\"#f0f921\"]]}],\"surface\":[{\"type\":\"surface\",\"colorbar\":{\"outlinewidth\":0,\"ticks\":\"\"},\"colorscale\":[[0.0,\"#0d0887\"],[0.1111111111111111,\"#46039f\"],[0.2222222222222222,\"#7201a8\"],[0.3333333333333333,\"#9c179e\"],[0.4444444444444444,\"#bd3786\"],[0.5555555555555556,\"#d8576b\"],[0.6666666666666666,\"#ed7953\"],[0.7777777777777778,\"#fb9f3a\"],[0.8888888888888888,\"#fdca26\"],[1.0,\"#f0f921\"]]}],\"mesh3d\":[{\"type\":\"mesh3d\",\"colorbar\":{\"outlinewidth\":0,\"ticks\":\"\"}}],\"scatter\":[{\"fillpattern\":{\"fillmode\":\"overlay\",\"size\":10,\"solidity\":0.2},\"type\":\"scatter\"}],\"parcoords\":[{\"type\":\"parcoords\",\"line\":{\"colorbar\":{\"outlinewidth\":0,\"ticks\":\"\"}}}],\"scatterpolargl\":[{\"type\":\"scatterpolargl\",\"marker\":{\"colorbar\":{\"outlinewidth\":0,\"ticks\":\"\"}}}],\"bar\":[{\"error_x\":{\"color\":\"#2a3f5f\"},\"error_y\":{\"color\":\"#2a3f5f\"},\"marker\":{\"line\":{\"color\":\"#E5ECF6\",\"width\":0.5},\"pattern\":{\"fillmode\":\"overlay\",\"size\":10,\"solidity\":0.2}},\"type\":\"bar\"}],\"scattergeo\":[{\"type\":\"scattergeo\",\"marker\":{\"colorbar\":{\"outlinewidth\":0,\"ticks\":\"\"}}}],\"scatterpolar\":[{\"type\":\"scatterpolar\",\"marker\":{\"colorbar\":{\"outlinewidth\":0,\"ticks\":\"\"}}}],\"histogram\":[{\"marker\":{\"pattern\":{\"fillmode\":\"overlay\",\"size\":10,\"solidity\":0.2}},\"type\":\"histogram\"}],\"scattergl\":[{\"type\":\"scattergl\",\"marker\":{\"colorbar\":{\"outlinewidth\":0,\"ticks\":\"\"}}}],\"scatter3d\":[{\"type\":\"scatter3d\",\"line\":{\"colorbar\":{\"outlinewidth\":0,\"ticks\":\"\"}},\"marker\":{\"colorbar\":{\"outlinewidth\":0,\"ticks\":\"\"}}}],\"scattermapbox\":[{\"type\":\"scattermapbox\",\"marker\":{\"colorbar\":{\"outlinewidth\":0,\"ticks\":\"\"}}}],\"scatterternary\":[{\"type\":\"scatterternary\",\"marker\":{\"colorbar\":{\"outlinewidth\":0,\"ticks\":\"\"}}}],\"scattercarpet\":[{\"type\":\"scattercarpet\",\"marker\":{\"colorbar\":{\"outlinewidth\":0,\"ticks\":\"\"}}}],\"carpet\":[{\"aaxis\":{\"endlinecolor\":\"#2a3f5f\",\"gridcolor\":\"white\",\"linecolor\":\"white\",\"minorgridcolor\":\"white\",\"startlinecolor\":\"#2a3f5f\"},\"baxis\":{\"endlinecolor\":\"#2a3f5f\",\"gridcolor\":\"white\",\"linecolor\":\"white\",\"minorgridcolor\":\"white\",\"startlinecolor\":\"#2a3f5f\"},\"type\":\"carpet\"}],\"table\":[{\"cells\":{\"fill\":{\"color\":\"#EBF0F8\"},\"line\":{\"color\":\"white\"}},\"header\":{\"fill\":{\"color\":\"#C8D4E3\"},\"line\":{\"color\":\"white\"}},\"type\":\"table\"}],\"barpolar\":[{\"marker\":{\"line\":{\"color\":\"#E5ECF6\",\"width\":0.5},\"pattern\":{\"fillmode\":\"overlay\",\"size\":10,\"solidity\":0.2}},\"type\":\"barpolar\"}],\"pie\":[{\"automargin\":true,\"type\":\"pie\"}]},\"layout\":{\"autotypenumbers\":\"strict\",\"colorway\":[\"#636efa\",\"#EF553B\",\"#00cc96\",\"#ab63fa\",\"#FFA15A\",\"#19d3f3\",\"#FF6692\",\"#B6E880\",\"#FF97FF\",\"#FECB52\"],\"font\":{\"color\":\"#2a3f5f\"},\"hovermode\":\"closest\",\"hoverlabel\":{\"align\":\"left\"},\"paper_bgcolor\":\"white\",\"plot_bgcolor\":\"#E5ECF6\",\"polar\":{\"bgcolor\":\"#E5ECF6\",\"angularaxis\":{\"gridcolor\":\"white\",\"linecolor\":\"white\",\"ticks\":\"\"},\"radialaxis\":{\"gridcolor\":\"white\",\"linecolor\":\"white\",\"ticks\":\"\"}},\"ternary\":{\"bgcolor\":\"#E5ECF6\",\"aaxis\":{\"gridcolor\":\"white\",\"linecolor\":\"white\",\"ticks\":\"\"},\"baxis\":{\"gridcolor\":\"white\",\"linecolor\":\"white\",\"ticks\":\"\"},\"caxis\":{\"gridcolor\":\"white\",\"linecolor\":\"white\",\"ticks\":\"\"}},\"coloraxis\":{\"colorbar\":{\"outlinewidth\":0,\"ticks\":\"\"}},\"colorscale\":{\"sequential\":[[0.0,\"#0d0887\"],[0.1111111111111111,\"#46039f\"],[0.2222222222222222,\"#7201a8\"],[0.3333333333333333,\"#9c179e\"],[0.4444444444444444,\"#bd3786\"],[0.5555555555555556,\"#d8576b\"],[0.6666666666666666,\"#ed7953\"],[0.7777777777777778,\"#fb9f3a\"],[0.8888888888888888,\"#fdca26\"],[1.0,\"#f0f921\"]],\"sequentialminus\":[[0.0,\"#0d0887\"],[0.1111111111111111,\"#46039f\"],[0.2222222222222222,\"#7201a8\"],[0.3333333333333333,\"#9c179e\"],[0.4444444444444444,\"#bd3786\"],[0.5555555555555556,\"#d8576b\"],[0.6666666666666666,\"#ed7953\"],[0.7777777777777778,\"#fb9f3a\"],[0.8888888888888888,\"#fdca26\"],[1.0,\"#f0f921\"]],\"diverging\":[[0,\"#8e0152\"],[0.1,\"#c51b7d\"],[0.2,\"#de77ae\"],[0.3,\"#f1b6da\"],[0.4,\"#fde0ef\"],[0.5,\"#f7f7f7\"],[0.6,\"#e6f5d0\"],[0.7,\"#b8e186\"],[0.8,\"#7fbc41\"],[0.9,\"#4d9221\"],[1,\"#276419\"]]},\"xaxis\":{\"gridcolor\":\"white\",\"linecolor\":\"white\",\"ticks\":\"\",\"title\":{\"standoff\":15},\"zerolinecolor\":\"white\",\"automargin\":true,\"zerolinewidth\":2},\"yaxis\":{\"gridcolor\":\"white\",\"linecolor\":\"white\",\"ticks\":\"\",\"title\":{\"standoff\":15},\"zerolinecolor\":\"white\",\"automargin\":true,\"zerolinewidth\":2},\"scene\":{\"xaxis\":{\"backgroundcolor\":\"#E5ECF6\",\"gridcolor\":\"white\",\"linecolor\":\"white\",\"showbackground\":true,\"ticks\":\"\",\"zerolinecolor\":\"white\",\"gridwidth\":2},\"yaxis\":{\"backgroundcolor\":\"#E5ECF6\",\"gridcolor\":\"white\",\"linecolor\":\"white\",\"showbackground\":true,\"ticks\":\"\",\"zerolinecolor\":\"white\",\"gridwidth\":2},\"zaxis\":{\"backgroundcolor\":\"#E5ECF6\",\"gridcolor\":\"white\",\"linecolor\":\"white\",\"showbackground\":true,\"ticks\":\"\",\"zerolinecolor\":\"white\",\"gridwidth\":2}},\"shapedefaults\":{\"line\":{\"color\":\"#2a3f5f\"}},\"annotationdefaults\":{\"arrowcolor\":\"#2a3f5f\",\"arrowhead\":0,\"arrowwidth\":1},\"geo\":{\"bgcolor\":\"white\",\"landcolor\":\"#E5ECF6\",\"subunitcolor\":\"white\",\"showland\":true,\"showlakes\":true,\"lakecolor\":\"white\"},\"title\":{\"x\":0.05},\"mapbox\":{\"style\":\"light\"}}}},                        {\"responsive\": true}                    ).then(function(){\n",
              "                            \n",
              "var gd = document.getElementById('a92c69af-bd97-46c8-91df-ea9700f2e703');\n",
              "var x = new MutationObserver(function (mutations, observer) {{\n",
              "        var display = window.getComputedStyle(gd).display;\n",
              "        if (!display || display === 'none') {{\n",
              "            console.log([gd, 'removed!']);\n",
              "            Plotly.purge(gd);\n",
              "            observer.disconnect();\n",
              "        }}\n",
              "}});\n",
              "\n",
              "// Listen for the removal of the full notebook cells\n",
              "var notebookContainer = gd.closest('#notebook-container');\n",
              "if (notebookContainer) {{\n",
              "    x.observe(notebookContainer, {childList: true});\n",
              "}}\n",
              "\n",
              "// Listen for the clearing of the current output cell\n",
              "var outputEl = gd.closest('.output');\n",
              "if (outputEl) {{\n",
              "    x.observe(outputEl, {childList: true});\n",
              "}}\n",
              "\n",
              "                        })                };                            </script>        </div>\n",
              "</body>\n",
              "</html>"
            ]
          },
          "metadata": {},
          "output_type": "display_data"
        },
        {
          "name": "stdout",
          "output_type": "stream",
          "text": [
            "{'all_angles_and_vgrf': {'rnn_best_trial': FrozenTrial(number=9, state=TrialState.COMPLETE, values=[0.007542293262754615], datetime_start=datetime.datetime(2024, 7, 15, 16, 25, 51, 11950), datetime_complete=datetime.datetime(2024, 7, 15, 16, 27, 17, 728359), params={'units': 70, 'dropout_rate': 0.35241529851814357, 'epochs': 28, 'batch_size': 104}, user_attrs={}, system_attrs={}, intermediate_values={}, distributions={'units': IntDistribution(high=100, log=False, low=10, step=1), 'dropout_rate': FloatDistribution(high=0.5, log=False, low=0.1, step=None), 'epochs': IntDistribution(high=50, log=False, low=10, step=1), 'batch_size': IntDistribution(high=128, log=False, low=16, step=1)}, trial_id=9, value=None), 'cnn_best_trial': FrozenTrial(number=4, state=TrialState.COMPLETE, values=[0.011235552231079722], datetime_start=datetime.datetime(2024, 7, 15, 16, 32, 30, 683119), datetime_complete=datetime.datetime(2024, 7, 15, 16, 35, 55, 572837), params={'units': 94, 'dropout_rate': 0.1844123524786388, 'epochs': 47, 'batch_size': 43}, user_attrs={}, system_attrs={}, intermediate_values={}, distributions={'units': IntDistribution(high=100, log=False, low=10, step=1), 'dropout_rate': FloatDistribution(high=0.5, log=False, low=0.1, step=None), 'epochs': IntDistribution(high=50, log=False, low=10, step=1), 'batch_size': IntDistribution(high=128, log=False, low=16, step=1)}, trial_id=4, value=None)}, 'ankle_angle_only': {'rnn_best_trial': FrozenTrial(number=0, state=TrialState.COMPLETE, values=[0.07679486551607533], datetime_start=datetime.datetime(2024, 7, 15, 16, 41, 17, 500448), datetime_complete=datetime.datetime(2024, 7, 15, 16, 42, 45, 489274), params={'units': 95, 'dropout_rate': 0.14653327149305181, 'epochs': 17, 'batch_size': 74}, user_attrs={}, system_attrs={}, intermediate_values={}, distributions={'units': IntDistribution(high=100, log=False, low=10, step=1), 'dropout_rate': FloatDistribution(high=0.5, log=False, low=0.1, step=None), 'epochs': IntDistribution(high=50, log=False, low=10, step=1), 'batch_size': IntDistribution(high=128, log=False, low=16, step=1)}, trial_id=0, value=None), 'cnn_best_trial': FrozenTrial(number=0, state=TrialState.COMPLETE, values=[0.07666344870819257], datetime_start=datetime.datetime(2024, 7, 15, 17, 2, 1, 761807), datetime_complete=datetime.datetime(2024, 7, 15, 17, 3, 26, 325804), params={'units': 79, 'dropout_rate': 0.3648060733105246, 'epochs': 49, 'batch_size': 85}, user_attrs={}, system_attrs={}, intermediate_values={}, distributions={'units': IntDistribution(high=100, log=False, low=10, step=1), 'dropout_rate': FloatDistribution(high=0.5, log=False, low=0.1, step=None), 'epochs': IntDistribution(high=50, log=False, low=10, step=1), 'batch_size': IntDistribution(high=128, log=False, low=16, step=1)}, trial_id=0, value=None)}, 'all_angles': {'rnn_best_trial': FrozenTrial(number=8, state=TrialState.COMPLETE, values=[0.0118117502156798], datetime_start=datetime.datetime(2024, 7, 15, 17, 23, 34, 722622), datetime_complete=datetime.datetime(2024, 7, 15, 17, 25, 48, 658853), params={'units': 88, 'dropout_rate': 0.14389941374778178, 'epochs': 48, 'batch_size': 76}, user_attrs={}, system_attrs={}, intermediate_values={}, distributions={'units': IntDistribution(high=100, log=False, low=10, step=1), 'dropout_rate': FloatDistribution(high=0.5, log=False, low=0.1, step=None), 'epochs': IntDistribution(high=50, log=False, low=10, step=1), 'batch_size': IntDistribution(high=128, log=False, low=16, step=1)}, trial_id=8, value=None), 'cnn_best_trial': FrozenTrial(number=7, state=TrialState.COMPLETE, values=[0.01541162879811736], datetime_start=datetime.datetime(2024, 7, 15, 17, 32, 57, 728216), datetime_complete=datetime.datetime(2024, 7, 15, 17, 34, 17, 916893), params={'units': 88, 'dropout_rate': 0.4489498860037714, 'epochs': 33, 'batch_size': 55}, user_attrs={}, system_attrs={}, intermediate_values={}, distributions={'units': IntDistribution(high=100, log=False, low=10, step=1), 'dropout_rate': FloatDistribution(high=0.5, log=False, low=0.1, step=None), 'epochs': IntDistribution(high=50, log=False, low=10, step=1), 'batch_size': IntDistribution(high=128, log=False, low=16, step=1)}, trial_id=7, value=None)}}\n"
          ]
        }
      ],
      "source": [
        "# Define input combinations\n",
        "input_combinations = {\n",
        "    'all_angles_and_vgrf': ['vgrf', 'trunk_angle', 'hip_angle', 'knee_angle', 'ankle_angle'],\n",
        "    'ankle_angle_only': ['vgrf', 'ankle_angle'],\n",
        "    'all_angles': ['trunk_angle', 'hip_angle', 'knee_angle', 'ankle_angle'],\n",
        "}\n",
        "\n",
        "results = {}\n",
        "for key, columns in input_combinations.items():\n",
        "    print(f\"Optimizing RNN for input combination: {key}\")\n",
        "    rnn_best_trial = optimize_model('rnn', key, columns, n_trials=10)\n",
        "\n",
        "    print(f\"Optimizing CNN for input combination: {key}\")\n",
        "    cnn_best_trial = optimize_model('cnn', key, columns, n_trials=10)\n",
        "\n",
        "    results[key] = {\n",
        "        'rnn_best_trial': rnn_best_trial,\n",
        "        'cnn_best_trial': cnn_best_trial\n",
        "    }\n",
        "\n",
        "print(results)"
      ]
    },
    {
      "cell_type": "code",
      "execution_count": null,
      "metadata": {
        "colab": {
          "base_uri": "https://localhost:8080/"
        },
        "id": "zoXXUP7IHT3Y",
        "outputId": "5969f508-76e5-4001-8c91-d3347ddaf57b"
      },
      "outputs": [
        {
          "name": "stdout",
          "output_type": "stream",
          "text": [
            "{'all_angles_and_vgrf': {'rnn_best_trial': FrozenTrial(number=9, state=TrialState.COMPLETE, values=[0.007542293262754615], datetime_start=datetime.datetime(2024, 7, 15, 16, 25, 51, 11950), datetime_complete=datetime.datetime(2024, 7, 15, 16, 27, 17, 728359), params={'units': 70, 'dropout_rate': 0.35241529851814357, 'epochs': 28, 'batch_size': 104}, user_attrs={}, system_attrs={}, intermediate_values={}, distributions={'units': IntDistribution(high=100, log=False, low=10, step=1), 'dropout_rate': FloatDistribution(high=0.5, log=False, low=0.1, step=None), 'epochs': IntDistribution(high=50, log=False, low=10, step=1), 'batch_size': IntDistribution(high=128, log=False, low=16, step=1)}, trial_id=9, value=None), 'cnn_best_trial': FrozenTrial(number=4, state=TrialState.COMPLETE, values=[0.011235552231079722], datetime_start=datetime.datetime(2024, 7, 15, 16, 32, 30, 683119), datetime_complete=datetime.datetime(2024, 7, 15, 16, 35, 55, 572837), params={'units': 94, 'dropout_rate': 0.1844123524786388, 'epochs': 47, 'batch_size': 43}, user_attrs={}, system_attrs={}, intermediate_values={}, distributions={'units': IntDistribution(high=100, log=False, low=10, step=1), 'dropout_rate': FloatDistribution(high=0.5, log=False, low=0.1, step=None), 'epochs': IntDistribution(high=50, log=False, low=10, step=1), 'batch_size': IntDistribution(high=128, log=False, low=16, step=1)}, trial_id=4, value=None)}, 'ankle_angle_only': {'rnn_best_trial': FrozenTrial(number=0, state=TrialState.COMPLETE, values=[0.07679486551607533], datetime_start=datetime.datetime(2024, 7, 15, 16, 41, 17, 500448), datetime_complete=datetime.datetime(2024, 7, 15, 16, 42, 45, 489274), params={'units': 95, 'dropout_rate': 0.14653327149305181, 'epochs': 17, 'batch_size': 74}, user_attrs={}, system_attrs={}, intermediate_values={}, distributions={'units': IntDistribution(high=100, log=False, low=10, step=1), 'dropout_rate': FloatDistribution(high=0.5, log=False, low=0.1, step=None), 'epochs': IntDistribution(high=50, log=False, low=10, step=1), 'batch_size': IntDistribution(high=128, log=False, low=16, step=1)}, trial_id=0, value=None), 'cnn_best_trial': FrozenTrial(number=0, state=TrialState.COMPLETE, values=[0.07666344870819257], datetime_start=datetime.datetime(2024, 7, 15, 17, 2, 1, 761807), datetime_complete=datetime.datetime(2024, 7, 15, 17, 3, 26, 325804), params={'units': 79, 'dropout_rate': 0.3648060733105246, 'epochs': 49, 'batch_size': 85}, user_attrs={}, system_attrs={}, intermediate_values={}, distributions={'units': IntDistribution(high=100, log=False, low=10, step=1), 'dropout_rate': FloatDistribution(high=0.5, log=False, low=0.1, step=None), 'epochs': IntDistribution(high=50, log=False, low=10, step=1), 'batch_size': IntDistribution(high=128, log=False, low=16, step=1)}, trial_id=0, value=None)}, 'all_angles': {'rnn_best_trial': FrozenTrial(number=8, state=TrialState.COMPLETE, values=[0.0118117502156798], datetime_start=datetime.datetime(2024, 7, 15, 17, 23, 34, 722622), datetime_complete=datetime.datetime(2024, 7, 15, 17, 25, 48, 658853), params={'units': 88, 'dropout_rate': 0.14389941374778178, 'epochs': 48, 'batch_size': 76}, user_attrs={}, system_attrs={}, intermediate_values={}, distributions={'units': IntDistribution(high=100, log=False, low=10, step=1), 'dropout_rate': FloatDistribution(high=0.5, log=False, low=0.1, step=None), 'epochs': IntDistribution(high=50, log=False, low=10, step=1), 'batch_size': IntDistribution(high=128, log=False, low=16, step=1)}, trial_id=8, value=None), 'cnn_best_trial': FrozenTrial(number=7, state=TrialState.COMPLETE, values=[0.01541162879811736], datetime_start=datetime.datetime(2024, 7, 15, 17, 32, 57, 728216), datetime_complete=datetime.datetime(2024, 7, 15, 17, 34, 17, 916893), params={'units': 88, 'dropout_rate': 0.4489498860037714, 'epochs': 33, 'batch_size': 55}, user_attrs={}, system_attrs={}, intermediate_values={}, distributions={'units': IntDistribution(high=100, log=False, low=10, step=1), 'dropout_rate': FloatDistribution(high=0.5, log=False, low=0.1, step=None), 'epochs': IntDistribution(high=50, log=False, low=10, step=1), 'batch_size': IntDistribution(high=128, log=False, low=16, step=1)}, trial_id=7, value=None)}}\n"
          ]
        }
      ],
      "source": [
        "print(results)"
      ]
    }
  ],
  "metadata": {
    "colab": {
      "provenance": []
    },
    "kernelspec": {
      "display_name": "cv",
      "language": "python",
      "name": "python3"
    },
    "language_info": {
      "codemirror_mode": {
        "name": "ipython",
        "version": 3
      },
      "file_extension": ".py",
      "mimetype": "text/x-python",
      "name": "python",
      "nbconvert_exporter": "python",
      "pygments_lexer": "ipython3",
      "version": "3.9.16"
    }
  },
  "nbformat": 4,
  "nbformat_minor": 0
}
