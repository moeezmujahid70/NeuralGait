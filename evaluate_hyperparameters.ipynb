{
  "cells": [
    {
      "cell_type": "code",
      "execution_count": null,
      "metadata": {
        "colab": {
          "base_uri": "https://localhost:8080/"
        },
        "id": "HtKiK9LGEuoz",
        "outputId": "f19cd936-5b82-4667-d3ed-0c86fbdf9ea5"
      },
      "outputs": [
        {
          "name": "stdout",
          "output_type": "stream",
          "text": [
            "(48000, 7)\n"
          ]
        }
      ],
      "source": [
        "import scipy.io\n",
        "data = scipy.io.loadmat('Data_ankle.mat')\n",
        "ankle_data= data['ankle_data']\n",
        "print(ankle_data.shape)"
      ]
    },
    {
      "cell_type": "markdown",
      "metadata": {
        "id": "nrNmQbYtEz2J"
      },
      "source": [
        "# New Section"
      ]
    },
    {
      "cell_type": "code",
      "execution_count": null,
      "metadata": {
        "id": "foY8gI_qEuo0"
      },
      "outputs": [],
      "source": [
        "import pandas as pd\n",
        "# Define column names\n",
        "column_names = [\n",
        "    'time',\n",
        "    'vgrf',  # vertical ground reaction force\n",
        "    'trunk_angle',\n",
        "    'hip_angle',\n",
        "    'knee_angle',\n",
        "    'ankle_angle',\n",
        "    'joint_moment'\n",
        "]\n"
      ]
    },
    {
      "cell_type": "code",
      "execution_count": null,
      "metadata": {
        "colab": {
          "base_uri": "https://localhost:8080/",
          "height": 206
        },
        "id": "R95DHlr5Euo0",
        "outputId": "7c84ce16-19d4-42ba-d86e-3922ef0e5d96"
      },
      "outputs": [
        {
          "data": {
            "text/html": [
              "<div>\n",
              "<style scoped>\n",
              "    .dataframe tbody tr th:only-of-type {\n",
              "        vertical-align: middle;\n",
              "    }\n",
              "\n",
              "    .dataframe tbody tr th {\n",
              "        vertical-align: top;\n",
              "    }\n",
              "\n",
              "    .dataframe thead th {\n",
              "        text-align: right;\n",
              "    }\n",
              "</style>\n",
              "<table border=\"1\" class=\"dataframe\">\n",
              "  <thead>\n",
              "    <tr style=\"text-align: right;\">\n",
              "      <th></th>\n",
              "      <th>time</th>\n",
              "      <th>vgrf</th>\n",
              "      <th>trunk_angle</th>\n",
              "      <th>hip_angle</th>\n",
              "      <th>knee_angle</th>\n",
              "      <th>ankle_angle</th>\n",
              "      <th>joint_moment</th>\n",
              "    </tr>\n",
              "  </thead>\n",
              "  <tbody>\n",
              "    <tr>\n",
              "      <th>0</th>\n",
              "      <td>0.00</td>\n",
              "      <td>-10.321381</td>\n",
              "      <td>-0.094286</td>\n",
              "      <td>0.292974</td>\n",
              "      <td>0.825063</td>\n",
              "      <td>-1.492588</td>\n",
              "      <td>-2.011628</td>\n",
              "    </tr>\n",
              "    <tr>\n",
              "      <th>1</th>\n",
              "      <td>0.01</td>\n",
              "      <td>-7.990312</td>\n",
              "      <td>-0.096174</td>\n",
              "      <td>0.293179</td>\n",
              "      <td>0.822469</td>\n",
              "      <td>-1.493192</td>\n",
              "      <td>-3.655209</td>\n",
              "    </tr>\n",
              "    <tr>\n",
              "      <th>2</th>\n",
              "      <td>0.02</td>\n",
              "      <td>-6.208738</td>\n",
              "      <td>-0.096449</td>\n",
              "      <td>0.294008</td>\n",
              "      <td>0.810997</td>\n",
              "      <td>-1.495867</td>\n",
              "      <td>-5.786433</td>\n",
              "    </tr>\n",
              "    <tr>\n",
              "      <th>3</th>\n",
              "      <td>0.03</td>\n",
              "      <td>-5.126637</td>\n",
              "      <td>-0.097196</td>\n",
              "      <td>0.295568</td>\n",
              "      <td>0.785731</td>\n",
              "      <td>-1.501793</td>\n",
              "      <td>-6.190008</td>\n",
              "    </tr>\n",
              "    <tr>\n",
              "      <th>4</th>\n",
              "      <td>0.04</td>\n",
              "      <td>-4.774037</td>\n",
              "      <td>-0.095624</td>\n",
              "      <td>0.297472</td>\n",
              "      <td>0.745707</td>\n",
              "      <td>-1.511208</td>\n",
              "      <td>-5.542868</td>\n",
              "    </tr>\n",
              "  </tbody>\n",
              "</table>\n",
              "</div>"
            ],
            "text/plain": [
              "   time       vgrf  trunk_angle  hip_angle  knee_angle  ankle_angle  \\\n",
              "0  0.00 -10.321381    -0.094286   0.292974    0.825063    -1.492588   \n",
              "1  0.01  -7.990312    -0.096174   0.293179    0.822469    -1.493192   \n",
              "2  0.02  -6.208738    -0.096449   0.294008    0.810997    -1.495867   \n",
              "3  0.03  -5.126637    -0.097196   0.295568    0.785731    -1.501793   \n",
              "4  0.04  -4.774037    -0.095624   0.297472    0.745707    -1.511208   \n",
              "\n",
              "   joint_moment  \n",
              "0     -2.011628  \n",
              "1     -3.655209  \n",
              "2     -5.786433  \n",
              "3     -6.190008  \n",
              "4     -5.542868  "
            ]
          },
          "execution_count": 3,
          "metadata": {},
          "output_type": "execute_result"
        }
      ],
      "source": [
        "df = pd.DataFrame(ankle_data, columns=column_names )\n",
        "df.head()"
      ]
    },
    {
      "cell_type": "code",
      "execution_count": null,
      "metadata": {
        "id": "fEN12OBQEuo1"
      },
      "outputs": [],
      "source": [
        "# Split the data into training and testing sets\n",
        "train_size = int(0.8 * len(df))\n",
        "train_data = df[:train_size]\n",
        "test_data = df[train_size:]"
      ]
    },
    {
      "cell_type": "code",
      "execution_count": null,
      "metadata": {
        "id": "zAXYlVTGEuo1"
      },
      "outputs": [],
      "source": [
        "# Separate the features and target variable\n",
        "X_train = train_data.drop(columns=['time', 'joint_moment'])\n",
        "Y_train = train_data['joint_moment'].values.reshape(-1, 1)  # Reshape for scaler\n",
        "X_test = test_data.drop(columns=['time', 'joint_moment'])\n",
        "Y_test = test_data['joint_moment'].values.reshape(-1, 1)  # Reshape for scaler"
      ]
    },
    {
      "cell_type": "code",
      "execution_count": null,
      "metadata": {
        "id": "QpIhuMcaEuo1"
      },
      "outputs": [],
      "source": [
        "from sklearn.preprocessing import StandardScaler\n",
        "# Apply scaling only to the training data\n",
        "scaler_X = StandardScaler()\n",
        "X_train_scaled = scaler_X.fit_transform(X_train)\n",
        "X_test_scaled = scaler_X.transform(X_test)  # Use the same scaler to transform the test data"
      ]
    },
    {
      "cell_type": "code",
      "execution_count": null,
      "metadata": {
        "colab": {
          "base_uri": "https://localhost:8080/"
        },
        "id": "3ymQSbI1Euo1",
        "outputId": "5bd76490-ba43-4cd5-bc4d-28501b6ce5aa"
      },
      "outputs": [
        {
          "name": "stdout",
          "output_type": "stream",
          "text": [
            "[[-0.98351688]\n",
            " [-0.98411872]\n",
            " [-0.96365408]\n",
            " ...\n",
            " [ 0.30780874]\n",
            " [ 0.34680355]\n",
            " [ 0.37615492]]\n"
          ]
        }
      ],
      "source": [
        "# Apply scaling to the target variable\n",
        "scaler_Y = StandardScaler()\n",
        "Y_train_scaled = scaler_Y.fit_transform(Y_train)  # Fit and transform the training target variable\n",
        "Y_test_scaled = scaler_Y.transform(Y_test)  # Transform the test target variable using the same scaler\n",
        "\n",
        "print(Y_test_scaled)"
      ]
    },
    {
      "cell_type": "code",
      "execution_count": null,
      "metadata": {
        "id": "WCa5gGmAEuo1"
      },
      "outputs": [],
      "source": [
        "# Convert scaled data back to DataFrame\n",
        "normalized_train_df = pd.DataFrame(X_train_scaled, columns=X_train.columns)\n",
        "normalized_train_df['time'] = train_data['time'].reset_index(drop=True)\n",
        "normalized_train_df['joint_moment'] = Y_train_scaled.flatten()  # Flatten to 1D\n",
        "\n",
        "normalized_test_df = pd.DataFrame(X_test_scaled, columns=X_test.columns)\n",
        "normalized_test_df['time'] = test_data['time'].reset_index(drop=True)\n",
        "normalized_test_df['joint_moment'] = Y_test_scaled.flatten()  # Flatten to 1D"
      ]
    },
    {
      "cell_type": "code",
      "execution_count": null,
      "metadata": {
        "colab": {
          "base_uri": "https://localhost:8080/"
        },
        "id": "_Tyzs_rvEuo1",
        "outputId": "73f1993a-f018-4212-8eaa-3633d3f3aa3e"
      },
      "outputs": [
        {
          "name": "stdout",
          "output_type": "stream",
          "text": [
            "   time       vgrf  trunk_angle  hip_angle  knee_angle  ankle_angle  \\\n",
            "0  0.00 -10.321381    -0.094286   0.292974    0.825063    -1.492588   \n",
            "1  0.01  -7.990312    -0.096174   0.293179    0.822469    -1.493192   \n",
            "2  0.02  -6.208738    -0.096449   0.294008    0.810997    -1.495867   \n",
            "3  0.03  -5.126637    -0.097196   0.295568    0.785731    -1.501793   \n",
            "4  0.04  -4.774037    -0.095624   0.297472    0.745707    -1.511208   \n",
            "\n",
            "   joint_moment  \n",
            "0     -2.011628  \n",
            "1     -3.655209  \n",
            "2     -5.786433  \n",
            "3     -6.190008  \n",
            "4     -5.542868  \n",
            "         time       vgrf  trunk_angle  hip_angle  knee_angle  ankle_angle  \\\n",
            "38400  384.00 -11.512108    -0.032512   0.007387    0.973938    -1.273562   \n",
            "38401  384.01 -15.839764    -0.035124   0.037376    1.022451    -1.272575   \n",
            "38402  384.02 -16.915961    -0.038637   0.066333    1.062992    -1.280968   \n",
            "38403  384.03 -15.981315    -0.044385   0.093862    1.094613    -1.295619   \n",
            "38404  384.04 -13.927180    -0.048895   0.119811    1.116854    -1.313351   \n",
            "\n",
            "       joint_moment  \n",
            "38400     -5.112922  \n",
            "38401     -5.135164  \n",
            "38402     -4.378849  \n",
            "38403     -3.180236  \n",
            "38404     -1.864921  \n",
            "0   -0.983517\n",
            "1   -0.984119\n",
            "2   -0.963654\n",
            "3   -0.931222\n",
            "4   -0.895631\n",
            "Name: joint_moment, dtype: float64\n"
          ]
        }
      ],
      "source": [
        "# Print the normalized data\n",
        "print(train_data.head())\n",
        "print(test_data.head())\n",
        "\n",
        "# If you need to access the target variable from the test data separately\n",
        "target_Ytest_normalized = normalized_test_df['joint_moment']\n",
        "print(target_Ytest_normalized.head())"
      ]
    },
    {
      "cell_type": "code",
      "execution_count": null,
      "metadata": {
        "id": "LDx7ef3zEuo1"
      },
      "outputs": [],
      "source": [
        "def extract_data_for_combination(columns):\n",
        "    X_train = normalized_train_df[columns].values\n",
        "    y_train = normalized_train_df['joint_moment'].values\n",
        "    X_test = normalized_test_df[columns].values\n",
        "    y_test = normalized_test_df['joint_moment'].values\n",
        "\n",
        "    # Reshape for RNN\n",
        "    X_train_rnn = X_train.reshape(X_train.shape[0], 1, X_train.shape[1])\n",
        "    X_test_rnn = X_test.reshape(X_test.shape[0], 1, X_test.shape[1])\n",
        "\n",
        "    # Reshape for CNN\n",
        "    X_train_cnn = X_train.reshape((X_train.shape[0], X_train.shape[1], 1))\n",
        "    X_test_cnn = X_test.reshape((X_test.shape[0], X_test.shape[1], 1))\n",
        "\n",
        "    return X_train_rnn, y_train, X_test_rnn, y_test, X_train_cnn, X_test_cnn\n"
      ]
    },
    {
      "cell_type": "code",
      "execution_count": null,
      "metadata": {
        "id": "ODApzZi9Euo2"
      },
      "outputs": [],
      "source": [
        "from keras.models import Sequential\n",
        "from keras.layers import  Dense, Dropout , LSTM ,  BatchNormalization\n",
        "\n",
        "# RNN Model creation function\n",
        "def create_rnn_model(input_shape, units, dropout_rate):\n",
        "    model = Sequential()\n",
        "\n",
        "    # First LSTM layer\n",
        "    model.add(LSTM(units, activation='relu', return_sequences=True, input_shape=input_shape))\n",
        "    model.add(Dropout(dropout_rate))\n",
        "\n",
        "    # Second LSTM layer\n",
        "    model.add(LSTM(units, activation='relu'))\n",
        "    model.add(Dropout(dropout_rate))\n",
        "\n",
        "    # Batch Normalization\n",
        "    model.add(BatchNormalization())\n",
        "\n",
        "    # Dense layer\n",
        "    model.add(Dense(1))\n",
        "    model.compile(optimizer='adam', loss='mse')\n",
        "    return model"
      ]
    },
    {
      "cell_type": "code",
      "execution_count": null,
      "metadata": {
        "id": "shbHoLvdEuo2"
      },
      "outputs": [],
      "source": [
        "from keras.models import Sequential\n",
        "from keras.layers import Conv1D, Dense, Flatten, Dropout, BatchNormalization\n",
        "\n",
        "# CNN Model creation function\n",
        "def create_cnn_model(input_shape, units, dropout_rate):\n",
        "    model = Sequential()\n",
        "\n",
        "    # First Conv1D layer with kernel size 1\n",
        "    model.add(Conv1D(filters=units, kernel_size=1, activation='relu', input_shape=input_shape))\n",
        "    model.add(Dropout(dropout_rate))\n",
        "\n",
        "    # Second Conv1D layer with kernel size 1\n",
        "    model.add(Conv1D(filters=units, kernel_size=1, activation='relu'))\n",
        "    model.add(Dropout(dropout_rate))\n",
        "\n",
        "    # Flatten layer\n",
        "    model.add(Flatten())\n",
        "\n",
        "    # Batch Normalization\n",
        "    model.add(BatchNormalization())\n",
        "\n",
        "    # Dense layer\n",
        "    model.add(Dense(50, activation='relu'))\n",
        "    model.add(Dense(1))\n",
        "\n",
        "    model.compile(optimizer='adam', loss='mse')\n",
        "    return model\n",
        "\n"
      ]
    },
    {
      "cell_type": "code",
      "execution_count": null,
      "metadata": {
        "id": "nIXMSWXgEuo2"
      },
      "outputs": [],
      "source": [
        "from sklearn.metrics import mean_squared_error\n",
        "import os\n",
        "\n",
        "def train_and_evaluate_rnn_model(input_comb, model_path):\n",
        "    X_train_rnn, y_train, X_test_rnn, y_test, _, _ = extract_data_for_combination(input_comb)\n",
        "    rnn_model = create_rnn_model(input_shape=(X_train_rnn.shape[1], X_train_rnn.shape[2]))\n",
        "    history = rnn_model.fit(X_train_rnn, y_train, epochs=53, batch_size=64, validation_split=0.2, verbose=1)\n",
        "    predictions = rnn_model.predict(X_test_rnn).flatten()\n",
        "    mse = mean_squared_error(y_test, predictions)\n",
        "    rnn_model.save(model_path)\n",
        "    return mse, predictions, history"
      ]
    },
    {
      "cell_type": "code",
      "execution_count": null,
      "metadata": {
        "id": "T_qFIuSPEuo2"
      },
      "outputs": [],
      "source": [
        "def train_and_evaluate_cnn_model(input_comb, model_path):\n",
        "    _, y_train, _, y_test, X_train_cnn, X_test_cnn = extract_data_for_combination(input_comb)\n",
        "    cnn_model = create_cnn_model(input_shape=(X_train_cnn.shape[1], X_train_cnn.shape[2]))\n",
        "    history = cnn_model.fit(X_train_cnn, y_train, epochs=50, batch_size=64, validation_split=0.2, verbose=1)\n",
        "    predictions = cnn_model.predict(X_test_cnn).flatten()\n",
        "    mse = mean_squared_error(y_test, predictions)\n",
        "    cnn_model.save(model_path)\n",
        "    return mse, predictions, history"
      ]
    },
    {
      "cell_type": "code",
      "execution_count": null,
      "metadata": {
        "id": "sPwdgsqpH9yy"
      },
      "outputs": [],
      "source": [
        "import os\n",
        "import optuna\n",
        "import optuna.visualization as vis\n",
        "import matplotlib.pyplot as plt\n"
      ]
    },
    {
      "cell_type": "code",
      "execution_count": 32,
      "metadata": {
        "id": "026KF7bmHOSC"
      },
      "outputs": [],
      "source": [
        "def objective(trial, model_type, input_comb):\n",
        "    # Suggest hyperparameters for both RNN and CNN\n",
        "    units = trial.suggest_int('units', 10, 100)\n",
        "    dropout_rate = trial.suggest_float('dropout_rate', 0.1, 0.5)\n",
        "    epochs = trial.suggest_int('epochs', 40, 60)\n",
        "    batch_size = trial.suggest_int('batch_size', 16, 128)\n",
        "\n",
        "    # Extract data for the input combination\n",
        "    X_train_rnn, y_train, X_test_rnn, y_test, X_train_cnn, X_test_cnn = extract_data_for_combination(input_comb)\n",
        "\n",
        "    if model_type == 'rnn':\n",
        "        model = create_rnn_model(input_shape=(X_train_rnn.shape[1], X_train_rnn.shape[2]), units=units, dropout_rate=dropout_rate)\n",
        "        history = model.fit(X_train_rnn, y_train, epochs=epochs, batch_size=batch_size, validation_split=0.2, verbose=0)\n",
        "        predictions = model.predict(X_test_rnn).flatten()\n",
        "\n",
        "    elif model_type == 'cnn':\n",
        "        model = create_cnn_model(input_shape=(X_train_cnn.shape[1], X_train_cnn.shape[2]), units=units, dropout_rate=dropout_rate)\n",
        "        history = model.fit(X_train_cnn, y_train, epochs=epochs, batch_size=batch_size, validation_split=0.2, verbose=0)\n",
        "        predictions = model.predict(X_test_cnn).flatten()\n",
        "\n",
        "    mse = mean_squared_error(y_test, predictions)\n",
        "    return mse\n"
      ]
    },
    {
      "cell_type": "code",
      "execution_count": 35,
      "metadata": {
        "id": "SJHortJPHPIr"
      },
      "outputs": [],
      "source": [
        "# Function to optimize model using Optuna\n",
        "def optimize_model(model_type, input_comb_key, input_comb, n_trials=12):\n",
        "    study = optuna.create_study(direction='minimize')\n",
        "    study.optimize(lambda trial: objective(trial, model_type, input_comb), n_trials=n_trials)\n",
        "\n",
        "    best_trial = study.best_trial\n",
        "    print(f\"Best trial for {model_type} with input {input_comb_key}:\")\n",
        "    print(f\"  Value: {best_trial.value}\")\n",
        "    print(f\"  Params: \")\n",
        "    for key, value in best_trial.params.items():\n",
        "        print(f\"    {key}: {value}\")\n",
        "\n",
        "    # Generate and display Optuna visualizations\n",
        "    #vis.plot_optimization_history(study).show()\n",
        "    #vis.plot_param_importances(study).show()\n",
        "\n",
        "    return best_trial\n"
      ]
    },
    {
      "cell_type": "code",
      "execution_count": 36,
      "metadata": {
        "colab": {
          "base_uri": "https://localhost:8080/",
          "height": 1000
        },
        "id": "IPtWEd9FJl8l",
        "outputId": "b15a9e11-fdca-476c-f3e3-a8060a300447"
      },
      "outputs": [
        {
          "name": "stderr",
          "output_type": "stream",
          "text": [
            "[I 2024-07-29 01:48:18,727] A new study created in memory with name: no-name-0c1cebe4-dddf-4be2-9b29-a11f2108de12\n"
          ]
        },
        {
          "name": "stdout",
          "output_type": "stream",
          "text": [
            "Optimizing RNN for input combination: all_angles_and_vgrf\n",
            "300/300 [==============================] - 0s 428us/step\n"
          ]
        },
        {
          "name": "stderr",
          "output_type": "stream",
          "text": [
            "[I 2024-07-29 01:48:51,063] Trial 0 finished with value: 0.009570368489226084 and parameters: {'units': 46, 'dropout_rate': 0.49171347746635075, 'epochs': 54, 'batch_size': 118}. Best is trial 0 with value: 0.009570368489226084.\n"
          ]
        },
        {
          "name": "stdout",
          "output_type": "stream",
          "text": [
            "300/300 [==============================] - 0s 546us/step\n"
          ]
        },
        {
          "name": "stderr",
          "output_type": "stream",
          "text": [
            "[I 2024-07-29 01:49:44,801] Trial 1 finished with value: 0.006540652690838576 and parameters: {'units': 87, 'dropout_rate': 0.2863806338505511, 'epochs': 54, 'batch_size': 80}. Best is trial 1 with value: 0.006540652690838576.\n"
          ]
        },
        {
          "name": "stdout",
          "output_type": "stream",
          "text": [
            "300/300 [==============================] - 0s 889us/step\n"
          ]
        },
        {
          "name": "stderr",
          "output_type": "stream",
          "text": [
            "[I 2024-07-29 01:50:10,443] Trial 2 finished with value: 0.01122323630063205 and parameters: {'units': 21, 'dropout_rate': 0.24033803713981217, 'epochs': 55, 'batch_size': 87}. Best is trial 1 with value: 0.006540652690838576.\n"
          ]
        },
        {
          "name": "stdout",
          "output_type": "stream",
          "text": [
            "300/300 [==============================] - 0s 401us/step\n"
          ]
        },
        {
          "name": "stderr",
          "output_type": "stream",
          "text": [
            "[I 2024-07-29 01:51:46,934] Trial 3 finished with value: 0.03004047100928008 and parameters: {'units': 15, 'dropout_rate': 0.39731398794286216, 'epochs': 60, 'batch_size': 18}. Best is trial 1 with value: 0.006540652690838576.\n"
          ]
        },
        {
          "name": "stdout",
          "output_type": "stream",
          "text": [
            "300/300 [==============================] - 0s 409us/step\n"
          ]
        },
        {
          "name": "stderr",
          "output_type": "stream",
          "text": [
            "[I 2024-07-29 01:52:01,015] Trial 4 finished with value: 0.025058554410943016 and parameters: {'units': 20, 'dropout_rate': 0.41911040310913295, 'epochs': 44, 'batch_size': 120}. Best is trial 1 with value: 0.006540652690838576.\n"
          ]
        },
        {
          "name": "stdout",
          "output_type": "stream",
          "text": [
            "300/300 [==============================] - 0s 586us/step\n"
          ]
        },
        {
          "name": "stderr",
          "output_type": "stream",
          "text": [
            "[I 2024-07-29 01:53:23,027] Trial 5 finished with value: 0.007247972733344709 and parameters: {'units': 83, 'dropout_rate': 0.1376339594966168, 'epochs': 51, 'batch_size': 39}. Best is trial 1 with value: 0.006540652690838576.\n"
          ]
        },
        {
          "name": "stdout",
          "output_type": "stream",
          "text": [
            "300/300 [==============================] - 0s 706us/step\n"
          ]
        },
        {
          "name": "stderr",
          "output_type": "stream",
          "text": [
            "[I 2024-07-29 01:54:19,673] Trial 6 finished with value: 0.007545848522525098 and parameters: {'units': 92, 'dropout_rate': 0.42194774600051754, 'epochs': 49, 'batch_size': 104}. Best is trial 1 with value: 0.006540652690838576.\n"
          ]
        },
        {
          "name": "stdout",
          "output_type": "stream",
          "text": [
            "300/300 [==============================] - 0s 531us/step\n"
          ]
        },
        {
          "name": "stderr",
          "output_type": "stream",
          "text": [
            "[I 2024-07-29 01:56:10,860] Trial 7 finished with value: 0.008099611406818965 and parameters: {'units': 85, 'dropout_rate': 0.44261041866233675, 'epochs': 60, 'batch_size': 33}. Best is trial 1 with value: 0.006540652690838576.\n"
          ]
        },
        {
          "name": "stdout",
          "output_type": "stream",
          "text": [
            "300/300 [==============================] - 0s 564us/step\n"
          ]
        },
        {
          "name": "stderr",
          "output_type": "stream",
          "text": [
            "[I 2024-07-29 01:58:40,838] Trial 8 finished with value: 0.007502586203955128 and parameters: {'units': 96, 'dropout_rate': 0.34433932157862546, 'epochs': 49, 'batch_size': 17}. Best is trial 1 with value: 0.006540652690838576.\n"
          ]
        },
        {
          "name": "stdout",
          "output_type": "stream",
          "text": [
            "300/300 [==============================] - 0s 615us/step\n"
          ]
        },
        {
          "name": "stderr",
          "output_type": "stream",
          "text": [
            "[I 2024-07-29 01:59:27,137] Trial 9 finished with value: 0.012618253780260175 and parameters: {'units': 31, 'dropout_rate': 0.3708436675810971, 'epochs': 60, 'batch_size': 44}. Best is trial 1 with value: 0.006540652690838576.\n"
          ]
        },
        {
          "name": "stdout",
          "output_type": "stream",
          "text": [
            "300/300 [==============================] - 1s 929us/step\n"
          ]
        },
        {
          "name": "stderr",
          "output_type": "stream",
          "text": [
            "[I 2024-07-29 02:00:20,751] Trial 10 finished with value: 0.010216334659108595 and parameters: {'units': 67, 'dropout_rate': 0.2669702251456408, 'epochs': 43, 'batch_size': 66}. Best is trial 1 with value: 0.006540652690838576.\n"
          ]
        },
        {
          "name": "stdout",
          "output_type": "stream",
          "text": [
            "300/300 [==============================] - 1s 727us/step\n"
          ]
        },
        {
          "name": "stderr",
          "output_type": "stream",
          "text": [
            "[I 2024-07-29 02:01:26,937] Trial 11 finished with value: 0.011511066978893059 and parameters: {'units': 73, 'dropout_rate': 0.10725872635438444, 'epochs': 53, 'batch_size': 62}. Best is trial 1 with value: 0.006540652690838576.\n",
            "[I 2024-07-29 02:01:26,948] A new study created in memory with name: no-name-8ebd0c9a-55a7-49b3-bcd0-2af7449ab5a9\n"
          ]
        },
        {
          "name": "stdout",
          "output_type": "stream",
          "text": [
            "Best trial for rnn with input all_angles_and_vgrf:\n",
            "  Value: 0.006540652690838576\n",
            "  Params: \n",
            "    units: 87\n",
            "    dropout_rate: 0.2863806338505511\n",
            "    epochs: 54\n",
            "    batch_size: 80\n",
            "Optimizing CNN for input combination: all_angles_and_vgrf\n",
            "300/300 [==============================] - 0s 452us/step\n"
          ]
        },
        {
          "name": "stderr",
          "output_type": "stream",
          "text": [
            "[I 2024-07-29 02:01:59,090] Trial 0 finished with value: 0.01626252196578663 and parameters: {'units': 54, 'dropout_rate': 0.168056585177628, 'epochs': 46, 'batch_size': 128}. Best is trial 0 with value: 0.01626252196578663.\n"
          ]
        },
        {
          "name": "stdout",
          "output_type": "stream",
          "text": [
            "300/300 [==============================] - 0s 364us/step\n"
          ]
        },
        {
          "name": "stderr",
          "output_type": "stream",
          "text": [
            "[I 2024-07-29 02:02:33,517] Trial 1 finished with value: 0.016919719557346728 and parameters: {'units': 47, 'dropout_rate': 0.263065810404345, 'epochs': 58, 'batch_size': 109}. Best is trial 0 with value: 0.01626252196578663.\n"
          ]
        },
        {
          "name": "stdout",
          "output_type": "stream",
          "text": [
            "300/300 [==============================] - 0s 576us/step\n"
          ]
        },
        {
          "name": "stderr",
          "output_type": "stream",
          "text": [
            "[I 2024-07-29 02:03:30,519] Trial 2 finished with value: 0.012660722649660536 and parameters: {'units': 87, 'dropout_rate': 0.4205533205809731, 'epochs': 54, 'batch_size': 68}. Best is trial 2 with value: 0.012660722649660536.\n"
          ]
        },
        {
          "name": "stdout",
          "output_type": "stream",
          "text": [
            "300/300 [==============================] - 0s 395us/step\n"
          ]
        },
        {
          "name": "stderr",
          "output_type": "stream",
          "text": [
            "[I 2024-07-29 02:04:03,161] Trial 3 finished with value: 0.023209069368797956 and parameters: {'units': 24, 'dropout_rate': 0.4046034722053499, 'epochs': 45, 'batch_size': 47}. Best is trial 2 with value: 0.012660722649660536.\n"
          ]
        },
        {
          "name": "stdout",
          "output_type": "stream",
          "text": [
            "300/300 [==============================] - 0s 412us/step\n"
          ]
        },
        {
          "name": "stderr",
          "output_type": "stream",
          "text": [
            "[I 2024-07-29 02:04:41,868] Trial 4 finished with value: 0.016827652233278163 and parameters: {'units': 33, 'dropout_rate': 0.4314390306838956, 'epochs': 60, 'batch_size': 63}. Best is trial 2 with value: 0.012660722649660536.\n"
          ]
        },
        {
          "name": "stdout",
          "output_type": "stream",
          "text": [
            "300/300 [==============================] - 0s 455us/step\n"
          ]
        },
        {
          "name": "stderr",
          "output_type": "stream",
          "text": [
            "[I 2024-07-29 02:05:06,624] Trial 5 finished with value: 0.012300669315696728 and parameters: {'units': 70, 'dropout_rate': 0.14575871186423103, 'epochs': 40, 'batch_size': 117}. Best is trial 5 with value: 0.012300669315696728.\n"
          ]
        },
        {
          "name": "stdout",
          "output_type": "stream",
          "text": [
            "300/300 [==============================] - 0s 413us/step\n"
          ]
        },
        {
          "name": "stderr",
          "output_type": "stream",
          "text": [
            "[I 2024-07-29 02:06:01,512] Trial 6 finished with value: 0.050077126916731655 and parameters: {'units': 10, 'dropout_rate': 0.17484446445108837, 'epochs': 53, 'batch_size': 25}. Best is trial 5 with value: 0.012300669315696728.\n"
          ]
        },
        {
          "name": "stdout",
          "output_type": "stream",
          "text": [
            "300/300 [==============================] - 0s 359us/step\n"
          ]
        },
        {
          "name": "stderr",
          "output_type": "stream",
          "text": [
            "[I 2024-07-29 02:06:22,698] Trial 7 finished with value: 0.03525442471283205 and parameters: {'units': 23, 'dropout_rate': 0.2515185899310758, 'epochs': 48, 'batch_size': 87}. Best is trial 5 with value: 0.012300669315696728.\n"
          ]
        },
        {
          "name": "stdout",
          "output_type": "stream",
          "text": [
            "300/300 [==============================] - 0s 393us/step\n"
          ]
        },
        {
          "name": "stderr",
          "output_type": "stream",
          "text": [
            "[I 2024-07-29 02:06:59,364] Trial 8 finished with value: 0.012832649399005622 and parameters: {'units': 54, 'dropout_rate': 0.2660861586773464, 'epochs': 45, 'batch_size': 59}. Best is trial 5 with value: 0.012300669315696728.\n"
          ]
        },
        {
          "name": "stdout",
          "output_type": "stream",
          "text": [
            "300/300 [==============================] - 0s 450us/step\n"
          ]
        },
        {
          "name": "stderr",
          "output_type": "stream",
          "text": [
            "[I 2024-07-29 02:08:20,574] Trial 9 finished with value: 0.014439931493889458 and parameters: {'units': 70, 'dropout_rate': 0.4206565005957488, 'epochs': 48, 'batch_size': 21}. Best is trial 5 with value: 0.012300669315696728.\n"
          ]
        },
        {
          "name": "stdout",
          "output_type": "stream",
          "text": [
            "300/300 [==============================] - 0s 786us/step\n"
          ]
        },
        {
          "name": "stderr",
          "output_type": "stream",
          "text": [
            "[I 2024-07-29 02:09:01,768] Trial 10 finished with value: 0.010281003882098823 and parameters: {'units': 99, 'dropout_rate': 0.10763673140511917, 'epochs': 40, 'batch_size': 95}. Best is trial 10 with value: 0.010281003882098823.\n"
          ]
        },
        {
          "name": "stdout",
          "output_type": "stream",
          "text": [
            "300/300 [==============================] - 0s 404us/step\n"
          ]
        },
        {
          "name": "stderr",
          "output_type": "stream",
          "text": [
            "[I 2024-07-29 02:09:33,592] Trial 11 finished with value: 0.01139527884882943 and parameters: {'units': 98, 'dropout_rate': 0.12101539920928214, 'epochs': 40, 'batch_size': 94}. Best is trial 10 with value: 0.010281003882098823.\n"
          ]
        },
        {
          "name": "stdout",
          "output_type": "stream",
          "text": [
            "Best trial for cnn with input all_angles_and_vgrf:\n",
            "  Value: 0.010281003882098823\n",
            "  Params: \n",
            "    units: 99\n",
            "    dropout_rate: 0.10763673140511917\n",
            "    epochs: 40\n",
            "    batch_size: 95\n",
            "{'all_angles_and_vgrf': {'rnn_best_trial': FrozenTrial(number=1, state=TrialState.COMPLETE, values=[0.006540652690838576], datetime_start=datetime.datetime(2024, 7, 29, 1, 48, 51, 63732), datetime_complete=datetime.datetime(2024, 7, 29, 1, 49, 44, 801674), params={'units': 87, 'dropout_rate': 0.2863806338505511, 'epochs': 54, 'batch_size': 80}, user_attrs={}, system_attrs={}, intermediate_values={}, distributions={'units': IntDistribution(high=100, log=False, low=10, step=1), 'dropout_rate': FloatDistribution(high=0.5, log=False, low=0.1, step=None), 'epochs': IntDistribution(high=60, log=False, low=40, step=1), 'batch_size': IntDistribution(high=128, log=False, low=16, step=1)}, trial_id=1, value=None), 'cnn_best_trial': FrozenTrial(number=10, state=TrialState.COMPLETE, values=[0.010281003882098823], datetime_start=datetime.datetime(2024, 7, 29, 2, 8, 20, 574865), datetime_complete=datetime.datetime(2024, 7, 29, 2, 9, 1, 768004), params={'units': 99, 'dropout_rate': 0.10763673140511917, 'epochs': 40, 'batch_size': 95}, user_attrs={}, system_attrs={}, intermediate_values={}, distributions={'units': IntDistribution(high=100, log=False, low=10, step=1), 'dropout_rate': FloatDistribution(high=0.5, log=False, low=0.1, step=None), 'epochs': IntDistribution(high=60, log=False, low=40, step=1), 'batch_size': IntDistribution(high=128, log=False, low=16, step=1)}, trial_id=10, value=None)}}\n"
          ]
        }
      ],
      "source": [
        "# Define input combinations\n",
        "input_combinations = {\n",
        "    'all_angles_and_vgrf': ['vgrf', 'trunk_angle', 'hip_angle', 'knee_angle', 'ankle_angle'],\n",
        "    # 'ankle_angle_only': ['vgrf', 'ankle_angle'],\n",
        "    # 'all_angles': ['trunk_angle', 'hip_angle', 'knee_angle', 'ankle_angle'],\n",
        "}\n",
        "\n",
        "results = {}\n",
        "for key, columns in input_combinations.items():\n",
        "    print(f\"Optimizing RNN for input combination: {key}\")\n",
        "    rnn_best_trial = optimize_model('rnn', key, columns, n_trials=12)\n",
        "\n",
        "    print(f\"Optimizing CNN for input combination: {key}\")\n",
        "    cnn_best_trial = optimize_model('cnn', key, columns, n_trials=12)\n",
        "\n",
        "    results[key] = {\n",
        "        'rnn_best_trial': rnn_best_trial,\n",
        "        'cnn_best_trial': cnn_best_trial\n",
        "    }\n",
        "\n",
        "print(results)"
      ]
    },
    {
      "cell_type": "code",
      "execution_count": 37,
      "metadata": {
        "colab": {
          "base_uri": "https://localhost:8080/"
        },
        "id": "zoXXUP7IHT3Y",
        "outputId": "5969f508-76e5-4001-8c91-d3347ddaf57b"
      },
      "outputs": [
        {
          "name": "stdout",
          "output_type": "stream",
          "text": [
            "{'all_angles_and_vgrf': {'rnn_best_trial': FrozenTrial(number=1, state=TrialState.COMPLETE, values=[0.006540652690838576], datetime_start=datetime.datetime(2024, 7, 29, 1, 48, 51, 63732), datetime_complete=datetime.datetime(2024, 7, 29, 1, 49, 44, 801674), params={'units': 87, 'dropout_rate': 0.2863806338505511, 'epochs': 54, 'batch_size': 80}, user_attrs={}, system_attrs={}, intermediate_values={}, distributions={'units': IntDistribution(high=100, log=False, low=10, step=1), 'dropout_rate': FloatDistribution(high=0.5, log=False, low=0.1, step=None), 'epochs': IntDistribution(high=60, log=False, low=40, step=1), 'batch_size': IntDistribution(high=128, log=False, low=16, step=1)}, trial_id=1, value=None), 'cnn_best_trial': FrozenTrial(number=10, state=TrialState.COMPLETE, values=[0.010281003882098823], datetime_start=datetime.datetime(2024, 7, 29, 2, 8, 20, 574865), datetime_complete=datetime.datetime(2024, 7, 29, 2, 9, 1, 768004), params={'units': 99, 'dropout_rate': 0.10763673140511917, 'epochs': 40, 'batch_size': 95}, user_attrs={}, system_attrs={}, intermediate_values={}, distributions={'units': IntDistribution(high=100, log=False, low=10, step=1), 'dropout_rate': FloatDistribution(high=0.5, log=False, low=0.1, step=None), 'epochs': IntDistribution(high=60, log=False, low=40, step=1), 'batch_size': IntDistribution(high=128, log=False, low=16, step=1)}, trial_id=10, value=None)}}\n"
          ]
        }
      ],
      "source": [
        "print(results)\n",
        " "
      ]
    }
  ],
  "metadata": {
    "colab": {
      "provenance": []
    },
    "kernelspec": {
      "display_name": "cv",
      "language": "python",
      "name": "python3"
    },
    "language_info": {
      "codemirror_mode": {
        "name": "ipython",
        "version": 3
      },
      "file_extension": ".py",
      "mimetype": "text/x-python",
      "name": "python",
      "nbconvert_exporter": "python",
      "pygments_lexer": "ipython3",
      "version": "3.9.16"
    }
  },
  "nbformat": 4,
  "nbformat_minor": 0
}
